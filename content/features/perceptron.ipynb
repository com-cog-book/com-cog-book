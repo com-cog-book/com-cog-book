{
 "cells": [
  {
   "cell_type": "markdown",
   "metadata": {},
   "source": [
    "# The Perceptron"
   ]
  },
  {
   "cell_type": "markdown",
   "metadata": {},
   "source": [
    "## Learning objectives"
   ]
  },
  {
   "cell_type": "markdown",
   "metadata": {},
   "source": [
    "1. Understand the rationality and principles behind the creation of the perceptron\n",
    "2. Identify the main elements of the perceptron architecture\n",
    "3. Gain an intuitive understanding of the mathematics behind the perceptron\n",
    "4. Develop a basic code implementation of the perceptron\n",
    "5. Determine what kind of problems can and can't be solved with the perceptron "
   ]
  },
  {
   "cell_type": "markdown",
   "metadata": {},
   "source": [
    "## Historical and theoretical background"
   ]
  },
  {
   "cell_type": "markdown",
   "metadata": {},
   "source": [
    "The work of McCulloch and Pitts introduced one of the first biologically inspired models of cognition. This approach was powerful in so far it was able to emulate a wide variety of boolean functions by combining simple binary computational units. However, the architecture lacked several characteristics of biological networks: complex connectivity patterns, processing of continuous values (rather than just binary), and critically, a learning procedure. Further, the fact that brain activity tends to be noisy and seemingly stochastic did not fit well with the consistency and predictability required by the McCulloch and Pitts model to work. \n",
    "\n",
    "With an eye in all the aforementioned limitations of the early neural network models, Frank Rosenblatt introduced the so-called \"perceptron\" in 1958. Rosenblatt contextualized his model in the broader discussion about the nature of the cognitive skills of higher-order organisms. On Rosenblatt's (1958) view, three fundamental questions must be answered to understand this phenomenon, which can be summarized as the problems of (1) *detection*, (2) *storage*, and (3) the *effect of the stored information* in further perceptual and behavioral processes.\n",
    "\n",
    "Rosenblatt delegated the first question to the discipline of sensory physiology, concentrating his attention in the last two. Next, we will examine these problems one by one."
   ]
  },
  {
   "cell_type": "markdown",
   "metadata": {},
   "source": [
    "### The information storage problem"
   ]
  },
  {
   "cell_type": "markdown",
   "metadata": {},
   "source": [
    "When your brain forms a memory about something, what shape does it take? If brains stored information as computers do, the answer would be straightforward: as patterns of zeros and ones. Unfortunately, figuring this out is not as simple as with human artifacts like digital computers.\n",
    "\n",
    "According to Rosenblatt, at the time (and I'd argue, to a certain extent today too) they were two approaches to the information storage problem: the *coded representations* approach and the *connectionist* approach. The former postulates that sensory information is stored in the form of *coded representations* or images, with some sort of one-to-one mapping between the sensory stimulus and the stored pattern. As an analogy, think about those shape-matching toys for kids. Let's say you perceived a triangle, then, a triangle-shaped hole would be \"carved\" in the memory space of your metaphorical \"board-brain\". **Figure 1** shows an example of this process. Once the shape is carved, you would be able to precisely retrieve the information stored in a particular location in the brain, in the same manner, that you can know that a triangle goes in a particular hole in a shape-matching toy just by looking at it. In the brain, this \"carved shape\" takes the form of precise patterns of connectivity between groups of neurons. So precise, that you should be able to tell the contents encoded in an arrangement of neurons just by looking at how they are wired together. If you think about it, this is the notion that most science fiction movies implicitly adopt: every attempt to \"transfer\" the contents of the mind into a machine and vice-versa, presumes that such contents are coded in a way so precise that makes them easily identifiable and transferable. \n",
    " \n",
    "The connectionist approach takes a radically different perspective: there is no such thing as \"records\" or \"images\" of any kind in the brain.  When you perceive a triangle, no memory of a triangle is \"imprinted\" in the brain. \"That is nonsense\"  you may be thinking \"How could I be able to remember the shape of a triangle if there is no 'image' of a triangle imprinted in my bran?\". That is a fair question. According to Rosenblatt, the key is that memories are stored as preferences for a particular \"response\" rather than \"topographic representations\".  By \"response\", Rosenblatt meant the electrochemical activity of any group of associated neurons, as well as any behavioral response of the organism as a whole.\n",
    "\n",
    "Think about it in this manner: there is no unique cluster of neurons, wired in an invariant manner, that \"code\" the memory of a triangle. What we have instead, is a series of associations among an unprecise set of neurons, that -importantly- \"tend to react\" in the presence of any stimulus that looks like a triangle. It does not even need to be exactly a triangle: any shape somewhat similar may trigger at least a partial reaction in those neurons (and maybe in a few more or less too). Going back to the shape-matching toy analogy, the coded representation approach needs a perfectly crafted wood board to work, very rigid, where each shape has a corresponding hole in the board; whereas the connectionist approach is more of a collection of Play-Doh balls, where each ball can be roughly molded to match shapes that look roughly similar. This means that if you were trying to guess what kind of shapes can be molded by a particular ball of Play-Doh, you may at best get an answer like \"stuff with a couple of pointy edges\". Of course, this is a very imprecise analogy intended to capture the idea that there aren't perfectly crafted \"blueprints\" of perceived stimulus in the brain, but partial and flexible activity patterns loosely related to a certain type of stimulus. Importantly, such associations between stimulus and response patterns are stable enough for learning and recognition to work."
   ]
  },
  {
   "cell_type": "markdown",
   "metadata": {},
   "source": [
    "<center>Figure 1<center/>\n",
    "<br style = “line-height:100px;”>\n",
    "<img src=\"images/perceptron/code-theory-memory.svg\" width=\"80%\"/>"
   ]
  },
  {
   "cell_type": "markdown",
   "metadata": {},
   "source": [
    "### The effect of the stored information in further perceptual and behavioral processes"
   ]
  },
  {
   "cell_type": "markdown",
   "metadata": {},
   "source": [
    "Once memories have been stored in the brain (in whichever way you think it is more appropriate) now we have the question of how such information impacts further perceptual processes and behavioral responses. In other words, once I learned about the triangle shape, how does having such representation in my brain already impact my reaction to it? Note that by \"reaction\" we mean anything and everything: from unconscious mental processes to any kind of behavioral response.\n",
    "\n",
    "By construction, the coded representation perspective entails two separate processes: stimulus-recognition (\"yes, I've seen this before\") and stimulus-response (\"how do I react now\").  You first need to match the new triangle to the carved triangle shape in your memory-board, and just then you can determine how to react to that. Since the connectivity pattern of neurons is *unique* to each stimulus, you *necessarily* have to use a *different* set of connected neurons to trigger a reaction to the stimulus. Something like a \" recognition module\" and separate \"response module\". From a connectionist perspective, the stimulus-recognition and stimulus-response get *blended into one*. Remember that in this view information is stored as associated patterns of neural activity, this is to say, like *stimulus-responses*. It follows that the reaction to the new stimulus will use, at least partially, the same activity patterns that stored the information in the first place. No independent recognition and response modules are needed. This will hopefully become more clear when we implement the model in an example."
   ]
  },
  {
   "cell_type": "markdown",
   "metadata": {},
   "source": [
    "### The foundational principles of the perceptron"
   ]
  },
  {
   "cell_type": "markdown",
   "metadata": {},
   "source": [
    "To build his model, Rosenblatt took advantage of the advances in research about the fundamental properties of the nervous system at the time. In particular, he took elements from the works of [Donald O. Hebb](https://en.wikipedia.org/wiki/Donald_O._Hebb), [Friedrich Hayek](https://en.wikipedia.org/wiki/Friedrich_Hayek), [Albert Uttley](https://en.wikipedia.org/wiki/Albert_Uttley), and [W. Ross Ashby](https://en.wikipedia.org/wiki/W._Ross_Ashby). Rosenblatt (1958) summarized these principles as follow: \n",
    "1. The physical connections participating in learning and recognizing a stimulus can vary from organism to organism.\n",
    "2. The cells involved in learning and recognition are flexible, meaning that the probability of activation, when exposed to a stimulus, can change over time. \n",
    "3. Similar stimuli will tend to trigger similar response patterns in the brain.\n",
    "4. When memory is forming, the application of a positive and/or a negative reinforcement may facilitate or hinder the process.\n",
    "5. *Similarity* is not determined by the perceptual properties of the stimuli, but by a combination of the perceiving system, the stimuli, the context, and the history of interactions between those elements. This last principle indicates that you can't decouple perception and representation from the perceiving system (the organism itself).\n",
    "\n",
    "In sum, if you pay close attention to these principles, you may start to see how they fit with the more general perspective about stimulus learning and recognition introduced in previous sections."
   ]
  },
  {
   "cell_type": "markdown",
   "metadata": {},
   "source": [
    "### The organization of a perceptron"
   ]
  },
  {
   "cell_type": "markdown",
   "metadata": {},
   "source": [
    "The first exemplar of a perceptron offered by Rosenblatt was the so-called \"photo-perceptron\", that intended to emulate the functionality of the eye. Rosenblatt would make further improvements to the perceptron architecture, by adding a more general learning procedure and expanding the scope of problems approachable by this model. Here, we will examine the structure and functionality of the photo-perceptron, leaving a more extensive examination of later iterations of the perceptron for the next section. \n",
    "\n",
    "In contemporary neural network jargon, we could classify the perceptron as a partially connected three-layer neural network with two hidden layers and threshold activation units, but such terminology was not adopted until much later. The structure of a photo-perceptron, represented in **Figure 2**, can be summarized as follows:\n",
    "1.  Stimuli \"hits\" the retina sensory units (S-points) generating a binary response. Graded responses (instead of binary) are allowed in the perceptron, but Rosenblatt avoided such complications on his prototype. In modern jargon, this is the \"input layer\".\n",
    "2. The responding sensory units send the signal to a cluster of \"association cells\" (A-units) in the \"projection area\" ($A_I$). Nowadays, we would call such a projection area the first \"hidden layer\". \n",
    "3. The association cells will fire, if and only if, the weighted sum of inputs coming from the connected sensory units surpasses a predetermined threshold value ($\\theta$).  Signals can be either *excitatory* or *inhibitory*. \n",
    "4. The \"projection area\" ($A_I$) send signals to the \"association area\" ($A_{II}$) *randomly*. This means that connections between both areas are set at random. Why random? Because this is more similar to what is observed in actual biological neurons. Units in this area will fire following the same rules that $A_I$ units.\n",
    "5. The last section is called the \"response area\", and contains a set of units that are activated in the same fashion that units in $A_I$ and $A_{II}$ areas. The response area receives signals, also at random, from the $A_{II}$ activated units. This time, connections between $A_{II}$ and the response area are *bidirectional*, generating a feedback signal from the response area to $A_{II}$. The response area is what we today will call the \"output layer\"."
   ]
  },
  {
   "cell_type": "markdown",
   "metadata": {},
   "source": [
    "<center>Figure 2<center/>\n",
    "<br style = “line-height:100px;”>\n",
    "<img src=\"images/perceptron/photo-perceptron.svg\" width=\"80%\"/>"
   ]
  },
  {
   "cell_type": "markdown",
   "metadata": {},
   "source": [
    "The \"feedback signals\" between the response-units and the association-units are crucial because such signals are the ones allowing the network to *learn and self-organize*. Feedback can work in two manners:\n",
    "1. The response units send an *excitatory signal* to the association area units connected to such units\n",
    "2. The response units send an *inhibitory signal* to the associated area units not connected to such units\n",
    "\n",
    "The first mechanism reinforces signals that contribute to the activation of a response unit. The second mechanism suppresses the signals that do not contribute to the activation of the same response unit. In either case, the goal is to build an association between the triplet of stimulus, association-unit activation, and response-unit activation. In other words, a pattern association mechanism. Rosenblatt provided a very detailed analysis of the properties of several variants of this system, but for our purposes, the key is to understand the following: \n",
    "\n",
    "1. Repeated exposure to stimulus A, will tend to activate a subset of units in the association area.\n",
    "2. Repeated activation of a subset of units in the association area, will tend to trigger the response of some units in the response area.\n",
    "3. The response units that react more often, will send feedback reinforcing the association between their input units in the association area, and its activation.\n",
    "4. After repeating this cycle several times, such association will grow stronger, until the network will \"learn\" to fire a unique response when exposed to stimulus A. Then, the stimulus-response association has been created.\n",
    "\n",
    "This feedback-based learning process is a variant (not an exact implementation) of the so-called \"Hebbian learning\" mechanism (Hebb, 1949): *neurons that fire together, wire together*. \n",
    "\n",
    "At this point, there is a crucial aspect to remark about the photo-perceptron architecture: the *same* units that trigger the response of a unit A can contribute to triggering the response of unit B. This is relevant as it reveals the fact that *different stimulus* can be represented by *overlapping neural activity*. This idea of representations sharing brain topology and functionality is one of the core principles in neural network approaches in cognitive science. **Figure 3** shows a simplified example where two output units share a proportion of their source units."
   ]
  },
  {
   "cell_type": "markdown",
   "metadata": {},
   "source": [
    "<center>Figure 3<center/>\n",
    "<br style = “line-height:100px;”>\n",
    "<img src=\"images/perceptron/photo-perceptron-overlap.svg\" width=\"80%\"/>"
   ]
  },
  {
   "cell_type": "markdown",
   "metadata": {},
   "source": [
    "### The general purpose perceptron trained by error-correction"
   ]
  },
  {
   "cell_type": "markdown",
   "metadata": {},
   "source": [
    "The version of the perceptron that is today most widely recognized as \"the perceptron\", differs from the original photo-perceptron in a few important ways: \n",
    "1. the layers (\"unit areas\" in the photo-perceptron) are fully connected, instead of partially connected at random.\n",
    "2. the inputs and outputs can be real-valued numbers, instead of only binary values.\n",
    "3. linear functions are used for the units in the intermediate layers (if any) rather than threshold functions.\n",
    "4. it implements an error-based learning algorithm instead of the pattern association mechanism of the photo-perceptron.\n",
    "\n",
    "**Figure 4** displays a graphical representation of this version of the perceptron. In this depiction, is assumed that each area contains three units that are fully connected, with the flow of information moving forward."
   ]
  },
  {
   "cell_type": "markdown",
   "metadata": {},
   "source": [
    "<center>Figure 4<center/>\n",
    "<br style = “line-height:100px;”>\n",
    "<img src=\"images/perceptron/perceptron.svg\" width=\"80%\"/>"
   ]
  },
  {
   "cell_type": "markdown",
   "metadata": {},
   "source": [
    "If you open a random textbook or article about the perceptron, the above description is the one you will most likely find. I am mentioning this because is important to emphasize that the perceptron is a more general concept than any particular instantiation of it. Both, the photo-perceptron and the general-purpose perceptron are special cases of the more general learning and recognition system envisioned by Rosenblatt. Nonetheless, the version we are reviewing here is indeed more general than the photo-perceptron. By general, I  mean that it was designed with a wider variety of problems in mind, rather than to emulate the function of the eye like the photo-perceptron. \n",
    "\n",
    "Nonetheless, the perceptron has been used primarily to solve **classification problems**. A classification problem is any situation where you have a set of classes, for instance, geometrical shapes, like triangles and squares, and you want to build a network to make predictions based on values describing characteristics of the object at hand. For example, you may have a pair of values describing the height and width of an object, and based on that, the network should be able to classify the object in the proper class. In contemporary machine learning jargon, the values describing the objects are usually called \"features\" or \"variables\", and the label that you want to predict, \"target\" or \"class\"."
   ]
  },
  {
   "cell_type": "markdown",
   "metadata": {},
   "source": [
    "### Why and how the perceptron works"
   ]
  },
  {
   "cell_type": "markdown",
   "metadata": {},
   "source": [
    "The way on which a perceptron trained by error-correction achieves its goal is by *iteratively adjusting its weights values* (i.e., the value of the links connecting inputs and association units), until it finds a set of weights that allow for the separation of classes in the set. To properly understand how the perceptron self-adjust and find \"good weights\" we first have to understand the mathematical formalism and learning algorithm behind it. Hence, we will defer a thorough explanation for the \"Perceptron convergence\" section."
   ]
  },
  {
   "cell_type": "markdown",
   "metadata": {},
   "source": [
    "## Mathematical formalization"
   ]
  },
  {
   "cell_type": "markdown",
   "metadata": {},
   "source": [
    "Mathematically, the perceptron can be described by: \n",
    "- a *linear function* that aggregates the input signals\n",
    "- a *threshold function* that determines if the response neuron fires or not\n",
    "- a *learning procedure* to adjust connection weights\n",
    "\n",
    "We will examine each of these pieces one by one."
   ]
  },
  {
   "cell_type": "markdown",
   "metadata": {},
   "source": [
    "### Linear aggregation function"
   ]
  },
  {
   "cell_type": "markdown",
   "metadata": {},
   "source": [
    "The linear function that aggregates the input signals for a single neuron or processing unit is defined as:"
   ]
  },
  {
   "cell_type": "markdown",
   "metadata": {},
   "source": [
    "<br style = “line-height:100px;”>\n",
    "<img src=\"images/perceptron/linear-function-perceptron.svg\" width=\"80%\"/>"
   ]
  },
  {
   "cell_type": "markdown",
   "metadata": {},
   "source": [
    "The $z$ output is used as input for the threshold function $f(\\hat{y})$. The $b$ constant added at the beginning, the *bias term*, is a way to simplify learning a good threshold value for the network. Consider the original threshold function, which compares the weighted sum of inputs to a threshold $\\theta$:"
   ]
  },
  {
   "cell_type": "markdown",
   "metadata": {},
   "source": [
    "$$\n",
    "\\hat{y}=\\sum_iw_ix_i\\geq\\theta \n",
    "$$"
   ]
  },
  {
   "cell_type": "markdown",
   "metadata": {},
   "source": [
    "Now, if we subtract $\\theta$ from both sides we obtain:"
   ]
  },
  {
   "cell_type": "markdown",
   "metadata": {},
   "source": [
    "$$\n",
    "\\hat{y}=\\sum_iw_ix_i-\\theta\\geq\\theta - \\theta \n",
    "$$\n",
    "$$\n",
    "\\hat{y}=\\sum_iw_ix_i-\\theta\\geq0\n",
    "$$"
   ]
  },
  {
   "cell_type": "markdown",
   "metadata": {},
   "source": [
    "Finally, we can replace $-\\theta$ with $b$ to indicate \"bias\", move the $b$ to the front, and we obtain:"
   ]
  },
  {
   "cell_type": "markdown",
   "metadata": {},
   "source": [
    "$$\n",
    "\\hat{y}=b+\\sum_iw_ix_i\\geq0\n",
    "$$"
   ]
  },
  {
   "cell_type": "markdown",
   "metadata": {},
   "source": [
    "Now, the weight for $b$ can be learned along with the weights for the input values. If you omit this \"bias term\", the perceptron won't be able to learn solutions that don not pass by the origin in $R$ dimensional space. If this does not make sense for you now, worry not. Hopefully, this will become clearer once we review the learning procedure."
   ]
  },
  {
   "cell_type": "markdown",
   "metadata": {},
   "source": [
    "### Threshold decision function"
   ]
  },
  {
   "cell_type": "markdown",
   "metadata": {},
   "source": [
    "The threshold function for the perceptron is defined as:  "
   ]
  },
  {
   "cell_type": "markdown",
   "metadata": {},
   "source": [
    "$$\n",
    "\\hat{y}' =\n",
    "\\begin{cases}\n",
    "+1, & \\text{if } \\hat{y} \\text{ > 0} \\\\\n",
    "-1, & \\text{otherwise}\n",
    "\\end{cases}\n",
    "$$"
   ]
  },
  {
   "cell_type": "markdown",
   "metadata": {},
   "source": [
    "where $\\hat{y}$ is the output of the linear function."
   ]
  },
  {
   "cell_type": "markdown",
   "metadata": {},
   "source": [
    "### Learning procedure"
   ]
  },
  {
   "cell_type": "markdown",
   "metadata": {},
   "source": [
    "Here we describe what Rosenblatt (1961) defined as an *error-corrective reinforcement* learning procedure. This was the version analyzed by Minsky and Papert, which probably explains why it was popularized as the standard perceptron. In his 1961 report, \"Principles of Neurodynamics\", Rosenblatt describes several reinforcement procedures, like monopolar reinforcement, bipolar reinforcement, gamma reinforcement, and others. The most surprising fact about this learning procedure is that is **guaranteed to find a set of weights that will produce the right answer for every example, as long such a set of weights exists**. Of course, the problem is that for most interesting problems in cognitive science such a set of weights does not exist.  When a classification problem consists of \"linearly separable\" training cases, the set of weights exist, otherwise, it does not. We will learn about this later.\n",
    "\n",
    "\n",
    "The error-corrective learning rule is as follow: \n",
    "- compute the mismatch between the *predicted value* and the *expected value* for the training exemplar\n",
    "- if the predicted and expected values match, do nothing\n",
    "- if the predicted and expected values do not match, compute the difference or delta between those values\n",
    "- then, use a portion of that value to update the weights of the network\n",
    "\n",
    "This can be expresed as:"
   ]
  },
  {
   "cell_type": "markdown",
   "metadata": {},
   "source": [
    "<br style = “line-height:100px;”>\n",
    "<img src=\"images/perceptron/weight-update.svg\" width=\"80%\"/>"
   ]
  },
  {
   "cell_type": "markdown",
   "metadata": {},
   "source": [
    "**Note about the learning rate $\\eta$**: the learning rate has the role of facilitating the training process by weighting the delta used to update the weights. This basically means that instead of completely replacing the previous weight with the sum of the weight + $\\Delta$, we incorporate a **proportion** of the error into the updating process. This makes the learning process more stable over time. \n",
    "\n",
    "**Figure 5** shows an schematic representation of the perceptron with the learning procedure."
   ]
  },
  {
   "cell_type": "markdown",
   "metadata": {},
   "source": [
    "<center>Figure 5<center/>\n",
    "<br style = “line-height:100px;”>\n",
    "<img src=\"images/perceptron/perceptron-math.svg\" width=\"80%\"/>"
   ]
  },
  {
   "cell_type": "markdown",
   "metadata": {},
   "source": [
    "### Perceptron convergence"
   ]
  },
  {
   "cell_type": "markdown",
   "metadata": {},
   "source": [
    "The proof that the perceptron will find a set of weights to solve any linearly separable classification problem is known as the [*perceptron convergence theorem*](https://www.cs.princeton.edu/~tcm3/docs/mapl_2017.pdf). I will not develop such proof, because involves some advance mathematics beyond what I want to touch in an introductory text. If you are interested in the proof, see Chapter 4.2 of Rojas (1996) or Chapter 3.5 of Bishop (1995).\n",
    "\n",
    "Nonetheless, we can offer some geometrical intuition of why the perceptron works. Consider a problem with two classes, let's say, albatross and owls. For each bird, we have measurements of their wingspan and weight. **Figure 6** plots the hypothetical data in a cartesian plane with *weight* in the horizontal axis and *wingspan* in the vertical axis."
   ]
  },
  {
   "cell_type": "markdown",
   "metadata": {},
   "source": [
    "<center>Figure 6<center/>\n",
    "<br style = “line-height:100px;”>\n",
    "<img src=\"images/perceptron/linear-sep-ex.svg\" width=\"80%\"/>"
   ]
  },
  {
   "cell_type": "markdown",
   "metadata": {},
   "source": [
    "From this example, is clear that we can trace a straight line to separate bird species: everything on the left of the dashed line can be classified as an owl, whereas everything at the right as an albatross. This is possible because our sample of owls and albatross are different enough in weight and wingspan that they can be separated using an straight line. Such line is usually called \"decision boundary\" in machine learning problems. \n",
    "\n",
    "In two dimensions is easy to visualize a decision boundary, but this can be extended to higher-dimensional problems, with 3, 4 or any number of dimensions, where visualization becomes tricky. Some people say that mathematicians have this trick where they visualize a 3-dimensional space first, then add, let's say, 5 more dimensions, and then shout in their minds \"8 dimensions!\" until they convince themselves they can see it.   \n",
    "\n",
    "In any case, in higher-dimensional spaces, the decision-boundary is usually called a [\"hyperplane\"](https://en.wikipedia.org/wiki/Hyperplane). The trick now is to find that hyperplane. Mathematically, the solution for a linear classification problem (i.e., to find the hyperplane) is defined as:"
   ]
  },
  {
   "cell_type": "markdown",
   "metadata": {},
   "source": [
    "$$\n",
    "w_1x_1+w_2x_2+...+w_nx_n+b = 0\n",
    "$$"
   ]
  },
  {
   "cell_type": "markdown",
   "metadata": {},
   "source": [
    "The left side of the equation is identical to our definition for the linear aggregation function, which makes sense since the output of the perceptron is determined by this weighted sum. \n",
    "\n",
    "An algebraic way to express the same idea is that there must be a set of weights that *simultaneously satisfy these two inequalities*:"
   ]
  },
  {
   "cell_type": "markdown",
   "metadata": {},
   "source": [
    "$w_1x_1+w_2x_2+...+w_nx_n+b > 0,$ for each input vector belonging to class 1 (albatross)\n",
    "\n",
    "$w_1x_1+w_2x_2+...+w_nx_n+b \\leq 0,$ for each input vector belonging to class -1 (owls)\n",
    "\n",
    "In vector notation, the above expression is equivalent to:\n",
    "\n",
    "$w^Tx+b>0, \\forall \\in {1}$ \n",
    "\n",
    "$w^Tx+b\\leq 0, \\forall \\in {-1}$ "
   ]
  },
  {
   "cell_type": "markdown",
   "metadata": {},
   "source": [
    "By now you may be wondering \"What if the examples are not linearly separable? What if I am comparing owls and falcons? Those are very similar. I bet that doesn't work!\" And you will be correct. This is what is known as the \"linear separability constrain\". I will introduce a case where the perceptron works first and then extend on this limitation later."
   ]
  },
  {
   "cell_type": "markdown",
   "metadata": {},
   "source": [
    "## Code implementation"
   ]
  },
  {
   "cell_type": "markdown",
   "metadata": {},
   "source": [
    "We will implement the perceptron algorithm from scratch with `python` and `numpy`. The goal is to understand the perceptron step-by-step execution rather than achieving an elegant implementation. I'll break down each step into functions to ensemble everything at the end. \n",
    "\n",
    "The [scikit-learn](https://scikit-learn.org/stable/) (a `python` library for machine learning) implementation can be found [here](https://scikit-learn.org/stable/modules/generated/sklearn.linear_model.Perceptron.html). In general, we don't want to re-implemented algorithms that have been thoroughly tested by others, to avoid duplication of work an potential errors in our code. The reason I'm not using sckit-learn to implement the perceptron is that it won't give us any insight about what is going on at the algorithmic level, and I believe that this exercise has pedagogical value. Note I will use [matrix notation](https://en.wikipedia.org/wiki/Matrix_(mathematics)) instead of [summation notation](http://www.columbia.edu/itc/sipa/math/summation.html) because is the way on which `numpy` works, but keep in mind that both are equivalent."
   ]
  },
  {
   "cell_type": "markdown",
   "metadata": {},
   "source": [
    "### Generate random weights vector"
   ]
  },
  {
   "cell_type": "code",
   "execution_count": 1,
   "metadata": {},
   "outputs": [],
   "source": [
    "import numpy as np\n",
    "\n",
    "def random_weights(X, random_state: int):\n",
    "    '''create vector of random weights\n",
    "    Parameters\n",
    "    ----------\n",
    "    X: 2-dimensional array, shape = [n_samples, n_features]\n",
    "    Returns\n",
    "    -------\n",
    "    w: array, shape = [w_bias + n_features]'''\n",
    "    rand = np.random.RandomState(random_state)\n",
    "    w = rand.normal(loc=0.0, scale=0.01, size=1 + X.shape[1])\n",
    "    return w"
   ]
  },
  {
   "cell_type": "markdown",
   "metadata": {},
   "source": [
    "Predictions from the perceptron are obtained by a [linear combination](https://en.wikipedia.org/wiki/Linear_combination) of features and weights. This is the output of the linear aggregation function. It is common practice to begin with a vector of small random weights that would be updated later by the perceptron learning rule."
   ]
  },
  {
   "cell_type": "markdown",
   "metadata": {},
   "source": [
    "### Compute net input: linear aggregation function"
   ]
  },
  {
   "cell_type": "code",
   "execution_count": 2,
   "metadata": {},
   "outputs": [],
   "source": [
    "def net_input(X, w):\n",
    "    '''Compute net input as dot product'''\n",
    "    return np.dot(X, w[1:]) + w[0]"
   ]
  },
  {
   "cell_type": "markdown",
   "metadata": {},
   "source": [
    "Here we pass the feature matrix and the previously generated vector of random weights to compute their inner product. Remember that we need to add a weight-value for the bias term at the beginning of the vector (`w[0]`)"
   ]
  },
  {
   "cell_type": "markdown",
   "metadata": {},
   "source": [
    "### Compute predictions: threshold function"
   ]
  },
  {
   "cell_type": "code",
   "execution_count": 3,
   "metadata": {},
   "outputs": [],
   "source": [
    "def predict(X, w):\n",
    "    '''Return class label after unit step'''\n",
    "    return np.where(net_input(X, w) >= 0.0, 1, -1)"
   ]
  },
  {
   "cell_type": "markdown",
   "metadata": {},
   "source": [
    "This method implements the threshold function that takes the net-value of the inner product and outputs a 1 if the predicted value is >= 0, and -1 otherwise. "
   ]
  },
  {
   "cell_type": "markdown",
   "metadata": {},
   "source": [
    "### Training loop - Learning procedure"
   ]
  },
  {
   "cell_type": "code",
   "execution_count": 4,
   "metadata": {},
   "outputs": [],
   "source": [
    "def fit(X, y, eta=0.001, n_iter=100):\n",
    "    '''loop over exemplars and update weights'''\n",
    "    errors = []\n",
    "    w = random_weights(X, random_state=1)\n",
    "    for exemplar in range(n_iter):\n",
    "        error = 0\n",
    "        for xi, target in zip(X, y):\n",
    "            delta = eta * (target - predict(xi, w))\n",
    "            w[1:] += delta * xi\n",
    "            w[0] += delta\n",
    "            error += int(delta != 0.0)\n",
    "        errors.append(error)\n",
    "    return w, errors"
   ]
  },
  {
   "cell_type": "markdown",
   "metadata": {},
   "source": [
    "Let's examine the fit method that implements the learning rule: \n",
    "\n",
    "- create a vector of random weights by using the `random_weights` function with dimensionality equal to the number of columns in the feature matrix.\n",
    "- loop over each row of the feature matrix with `for exemplar in range(n_iter)`\n",
    "- compute the inner product between the feature vector for row $i$ and the weight vector by using the `predict(xi, w)` function\n",
    "- compute the difference between the predicted value and the target value times the learning rate with `delta = eta * (target - predict(xi, w))`\n",
    "- update the weights by `w[1:] += delta * xi` and `w[0] += delta`\n",
    "- we also save the errors for further plotting `errors.append(error)`"
   ]
  },
  {
   "cell_type": "markdown",
   "metadata": {},
   "source": [
    "## Application: classification using the peceptron"
   ]
  },
  {
   "cell_type": "markdown",
   "metadata": {},
   "source": [
    "We will test the perceptron by creating a simple example: **classifying birds by their weight and wingspan**. I will create a synthetic dataset with two species: *Wandering Albatross* and *Great Horned Owl*. \n",
    "\n",
    "If you are wondering how realistic is this classification problem from a psychological perspective, the answer is that it is not. Humans would rarely use only two traits of an animal to make a classification. When categorizing species by their visual features, you would probably consider a high number of features: wingspan, height, color, distance from the beak to the tail, etc. The reason we use this highly simplified example is for the sake of transparency and clarity: we can plot and visualize problems in 2-dimensions. That being said, everything explored here does extend to more realistic scenarios in higher-dimensions (i.e., more features).  "
   ]
  },
  {
   "cell_type": "markdown",
   "metadata": {},
   "source": [
    "### Generate dataset"
   ]
  },
  {
   "cell_type": "markdown",
   "metadata": {},
   "source": [
    "Let's first create a function to generate our synthetic data"
   ]
  },
  {
   "cell_type": "code",
   "execution_count": 5,
   "metadata": {},
   "outputs": [],
   "source": [
    "def species_generator(mu1, sigma1, mu2, sigma2, n_samples, target, seed):\n",
    "    '''creates [n_samples, 2] array\n",
    "    \n",
    "    Parameters\n",
    "    ----------\n",
    "    mu1, sigma1: int, shape = [n_samples, 2]\n",
    "        mean feature-1, standar-dev feature-1\n",
    "    mu2, sigma2: int, shape = [n_samples, 2]\n",
    "        mean feature-2, standar-dev feature-2\n",
    "    n_samples: int, shape= [n_samples, 1]\n",
    "        number of sample cases\n",
    "    target: int, shape = [1]\n",
    "        target value\n",
    "    seed: int\n",
    "        random seed for reproducibility\n",
    "    \n",
    "    Return\n",
    "    ------\n",
    "    X: ndim-array, shape = [n_samples, 2]\n",
    "        matrix of feature vectors\n",
    "    y: 1d-vector, shape = [n_samples, 1]\n",
    "        target vector\n",
    "    ------\n",
    "    X'''\n",
    "    rand = np.random.RandomState(seed)\n",
    "    f1 = rand.normal(mu1, sigma1, n_samples)\n",
    "    f2 = rand.normal(mu2, sigma2, n_samples)\n",
    "    X = np.array([f1, f2])\n",
    "    X = X.transpose()\n",
    "    y = np.full((n_samples), target)\n",
    "    return X, y"
   ]
  },
  {
   "cell_type": "markdown",
   "metadata": {},
   "source": [
    "According to Wikipedia, the [wandering albatross](https://en.wikipedia.org/wiki/Wandering_albatross) mean weight is around 9kg (19.8lbs), and their mean wingspan is around 3m (9.8ft). I will generate a random sample of 100 albatross with the indicated mean values plus some variance."
   ]
  },
  {
   "cell_type": "code",
   "execution_count": 6,
   "metadata": {},
   "outputs": [],
   "source": [
    "albatross_weight_mean = 9000 # in grams\n",
    "albatross_weight_variance =  800 # in grams\n",
    "albatross_wingspan_mean = 300 # in cm\n",
    "albatross_wingspan_variance = 20 # in cm \n",
    "n_samples = 100\n",
    "target = 1\n",
    "seed = 100\n",
    "\n",
    "# aX: feature matrix (weight, wingspan)\n",
    "# ay: target value (1)\n",
    "aX, ay = species_generator(albatross_weight_mean, albatross_weight_variance,\n",
    "                           albatross_wingspan_mean, albatross_wingspan_variance,\n",
    "                           n_samples,target,seed )"
   ]
  },
  {
   "cell_type": "code",
   "execution_count": 7,
   "metadata": {},
   "outputs": [],
   "source": [
    "import pandas as pd\n",
    "\n",
    "albatross_dic = {'weight-(gm)': aX[:,0],\n",
    "                 'wingspan-(cm)': aX[:,1], \n",
    "                 'species': ay,\n",
    "                 'url': \"https://raw.githubusercontent.com/pabloinsente/nn-mod-cog/master/notebooks/images/albatross.png\"}\n",
    "\n",
    "# put values in a relational table (pandas dataframe)\n",
    "albatross_df = pd.DataFrame(albatross_dic)"
   ]
  },
  {
   "cell_type": "markdown",
   "metadata": {},
   "source": [
    "According to Wikipedia, the [great horned owl](https://en.wikipedia.org/wiki/Great_horned_owl) mean weight is around 1.2kg (2.7lbs), and its mean wingspan is around 1.2m (3.9ft). Again, I will generate a random sample of 100 owls with the indicated mean values plus some variance. "
   ]
  },
  {
   "cell_type": "code",
   "execution_count": 8,
   "metadata": {},
   "outputs": [],
   "source": [
    "owl_weight_mean = 1000 # in grams\n",
    "owl_weight_variance =  200 # in grams\n",
    "owl_wingspan_mean = 100 # in cm\n",
    "owl_wingspan_variance = 15 # in cm\n",
    "n_samples = 100\n",
    "target = -1\n",
    "seed = 100\n",
    "\n",
    "# oX: feature matrix (weight, wingspan)\n",
    "# oy: target value (1)\n",
    "oX, oy = species_generator(owl_weight_mean, owl_weight_variance,\n",
    "                           owl_wingspan_mean, owl_wingspan_variance,\n",
    "                           n_samples,target,seed )"
   ]
  },
  {
   "cell_type": "code",
   "execution_count": 9,
   "metadata": {},
   "outputs": [],
   "source": [
    "owl_dic = {'weight-(gm)': oX[:,0],\n",
    "             'wingspan-(cm)': oX[:,1], \n",
    "             'species': oy,\n",
    "             'url': \"https://raw.githubusercontent.com/pabloinsente/nn-mod-cog/master/notebooks/images/owl.png\"}\n",
    "\n",
    "# put values in a relational table (pandas dataframe)\n",
    "owl_df = pd.DataFrame(owl_dic)"
   ]
  },
  {
   "cell_type": "markdown",
   "metadata": {},
   "source": [
    "Now, we concatenate the datasets into a single dataframe."
   ]
  },
  {
   "cell_type": "code",
   "execution_count": 10,
   "metadata": {},
   "outputs": [],
   "source": [
    "df = albatross_df.append(owl_df, ignore_index=True)"
   ]
  },
  {
   "cell_type": "markdown",
   "metadata": {},
   "source": [
    "### Plot synthetic dataset"
   ]
  },
  {
   "cell_type": "markdown",
   "metadata": {},
   "source": [
    "To appreaciate the difference in weight and wingspan between albatross and eagles, we can generate a 2-D chart."
   ]
  },
  {
   "cell_type": "code",
   "execution_count": 11,
   "metadata": {},
   "outputs": [
    {
     "data": {
      "text/html": [
       "\n",
       "<div id=\"altair-viz-332703749b9646df9ca6f7a03e9a45f7\"></div>\n",
       "<script type=\"text/javascript\">\n",
       "  (function(spec, embedOpt){\n",
       "    const outputDiv = document.getElementById(\"altair-viz-332703749b9646df9ca6f7a03e9a45f7\");\n",
       "    const paths = {\n",
       "      \"vega\": \"https://cdn.jsdelivr.net/npm//vega@5?noext\",\n",
       "      \"vega-lib\": \"https://cdn.jsdelivr.net/npm//vega-lib?noext\",\n",
       "      \"vega-lite\": \"https://cdn.jsdelivr.net/npm//vega-lite@4.0.2?noext\",\n",
       "      \"vega-embed\": \"https://cdn.jsdelivr.net/npm//vega-embed@6?noext\",\n",
       "    };\n",
       "\n",
       "    function loadScript(lib) {\n",
       "      return new Promise(function(resolve, reject) {\n",
       "        var s = document.createElement('script');\n",
       "        s.src = paths[lib];\n",
       "        s.async = true;\n",
       "        s.onload = () => resolve(paths[lib]);\n",
       "        s.onerror = () => reject(`Error loading script: ${paths[lib]}`);\n",
       "        document.getElementsByTagName(\"head\")[0].appendChild(s);\n",
       "      });\n",
       "    }\n",
       "\n",
       "    function showError(err) {\n",
       "      outputDiv.innerHTML = `<div class=\"error\" style=\"color:red;\">${err}</div>`;\n",
       "      throw err;\n",
       "    }\n",
       "\n",
       "    function displayChart(vegaEmbed) {\n",
       "      vegaEmbed(outputDiv, spec, embedOpt)\n",
       "        .catch(err => showError(`Javascript Error: ${err.message}<br>This usually means there's a typo in your chart specification. See the javascript console for the full traceback.`));\n",
       "    }\n",
       "\n",
       "    if(typeof define === \"function\" && define.amd) {\n",
       "      requirejs.config({paths});\n",
       "      require([\"vega-embed\"], displayChart, err => showError(`Error loading script: ${err.message}`));\n",
       "    } else if (typeof vegaEmbed === \"function\") {\n",
       "      displayChart(vegaEmbed);\n",
       "    } else {\n",
       "      loadScript(\"vega\")\n",
       "        .then(() => loadScript(\"vega-lite\"))\n",
       "        .then(() => loadScript(\"vega-embed\"))\n",
       "        .catch(showError)\n",
       "        .then(() => displayChart(vegaEmbed));\n",
       "    }\n",
       "  })({\"config\": {\"view\": {\"continuousWidth\": 400, \"continuousHeight\": 300}}, \"data\": {\"name\": \"data-80d394c70723b55f8d9f185712535af2\"}, \"mark\": {\"type\": \"image\", \"height\": 20, \"width\": 20}, \"encoding\": {\"url\": {\"type\": \"nominal\", \"field\": \"url\"}, \"x\": {\"type\": \"quantitative\", \"field\": \"weight-(gm)\"}, \"y\": {\"type\": \"quantitative\", \"field\": \"wingspan-(cm)\"}}, \"title\": \"Chart 1\", \"$schema\": \"https://vega.github.io/schema/vega-lite/v4.0.2.json\", \"datasets\": {\"data-80d394c70723b55f8d9f185712535af2\": [{\"weight-(gm)\": 7600.187621556242, \"wingspan-(cm)\": 265.90697588478076, \"species\": 1, \"url\": \"https://raw.githubusercontent.com/pabloinsente/nn-mod-cog/master/notebooks/images/albatross.png\"}, {\"weight-(gm)\": 9274.144322662001, \"wingspan-(cm)\": 277.27477986345275, \"species\": 1, \"url\": \"https://raw.githubusercontent.com/pabloinsente/nn-mod-cog/master/notebooks/images/albatross.png\"}, {\"weight-(gm)\": 9922.428642050916, \"wingspan-(cm)\": 240.5336905189823, \"species\": 1, \"url\": \"https://raw.githubusercontent.com/pabloinsente/nn-mod-cog/master/notebooks/images/albatross.png\"}, {\"weight-(gm)\": 8798.051170782888, \"wingspan-(cm)\": 300.6663455627773, \"species\": 1, \"url\": \"https://raw.githubusercontent.com/pabloinsente/nn-mod-cog/master/notebooks/images/albatross.png\"}, {\"weight-(gm)\": 9785.056629560986, \"wingspan-(cm)\": 295.02222665883784, \"species\": 1, \"url\": \"https://raw.githubusercontent.com/pabloinsente/nn-mod-cog/master/notebooks/images/albatross.png\"}, {\"weight-(gm)\": 9411.375073115505, \"wingspan-(cm)\": 290.996471299767, \"species\": 1, \"url\": \"https://raw.githubusercontent.com/pabloinsente/nn-mod-cog/master/notebooks/images/albatross.png\"}, {\"weight-(gm)\": 9176.94373537712, \"wingspan-(cm)\": 302.64855602297547, \"species\": 1, \"url\": \"https://raw.githubusercontent.com/pabloinsente/nn-mod-cog/master/notebooks/images/albatross.png\"}, {\"weight-(gm)\": 8143.965335545366, \"wingspan-(cm)\": 300.44427856078784, \"species\": 1, \"url\": \"https://raw.githubusercontent.com/pabloinsente/nn-mod-cog/master/notebooks/images/albatross.png\"}, {\"weight-(gm)\": 8848.40333534146, \"wingspan-(cm)\": 306.34735951882135, \"species\": 1, \"url\": \"https://raw.githubusercontent.com/pabloinsente/nn-mod-cog/master/notebooks/images/albatross.png\"}, {\"weight-(gm)\": 9204.001155418706, \"wingspan-(cm)\": 284.95171644549924, \"species\": 1, \"url\": \"https://raw.githubusercontent.com/pabloinsente/nn-mod-cog/master/notebooks/images/albatross.png\"}, {\"weight-(gm)\": 8633.5784115979, \"wingspan-(cm)\": 274.072163856997, \"species\": 1, \"url\": \"https://raw.githubusercontent.com/pabloinsente/nn-mod-cog/master/notebooks/images/albatross.png\"}, {\"weight-(gm)\": 9348.130790498313, \"wingspan-(cm)\": 301.90278887130904, \"species\": 1, \"url\": \"https://raw.githubusercontent.com/pabloinsente/nn-mod-cog/master/notebooks/images/albatross.png\"}, {\"weight-(gm)\": 8533.123959741868, \"wingspan-(cm)\": 291.5256980011316, \"species\": 1, \"url\": \"https://raw.githubusercontent.com/pabloinsente/nn-mod-cog/master/notebooks/images/albatross.png\"}, {\"weight-(gm)\": 9653.477657348623, \"wingspan-(cm)\": 276.2803287014165, \"species\": 1, \"url\": \"https://raw.githubusercontent.com/pabloinsente/nn-mod-cog/master/notebooks/images/albatross.png\"}, {\"weight-(gm)\": 9538.17664456773, \"wingspan-(cm)\": 292.6907601464675, \"species\": 1, \"url\": \"https://raw.githubusercontent.com/pabloinsente/nn-mod-cog/master/notebooks/images/albatross.png\"}, {\"weight-(gm)\": 8916.471085287498, \"wingspan-(cm)\": 274.5795391830668, \"species\": 1, \"url\": \"https://raw.githubusercontent.com/pabloinsente/nn-mod-cog/master/notebooks/images/albatross.png\"}, {\"weight-(gm)\": 8574.975698518472, \"wingspan-(cm)\": 331.7234187684647, \"species\": 1, \"url\": \"https://raw.githubusercontent.com/pabloinsente/nn-mod-cog/master/notebooks/images/albatross.png\"}, {\"weight-(gm)\": 9823.786148106678, \"wingspan-(cm)\": 313.8678131703318, \"species\": 1, \"url\": \"https://raw.githubusercontent.com/pabloinsente/nn-mod-cog/master/notebooks/images/albatross.png\"}, {\"weight-(gm)\": 8649.491501836466, \"wingspan-(cm)\": 260.83837531584265, \"species\": 1, \"url\": \"https://raw.githubusercontent.com/pabloinsente/nn-mod-cog/master/notebooks/images/albatross.png\"}, {\"weight-(gm)\": 8105.345402995651, \"wingspan-(cm)\": 297.3039737602001, \"species\": 1, \"url\": \"https://raw.githubusercontent.com/pabloinsente/nn-mod-cog/master/notebooks/images/albatross.png\"}, {\"weight-(gm)\": 10295.185328540207, \"wingspan-(cm)\": 269.1876795089477, \"species\": 1, \"url\": \"https://raw.githubusercontent.com/pabloinsente/nn-mod-cog/master/notebooks/images/albatross.png\"}, {\"weight-(gm)\": 10233.284139610725, \"wingspan-(cm)\": 340.93427936964275, \"species\": 1, \"url\": \"https://raw.githubusercontent.com/pabloinsente/nn-mod-cog/master/notebooks/images/albatross.png\"}, {\"weight-(gm)\": 8798.49668862943, \"wingspan-(cm)\": 272.0600131009343, \"species\": 1, \"url\": \"https://raw.githubusercontent.com/pabloinsente/nn-mod-cog/master/notebooks/images/albatross.png\"}, {\"weight-(gm)\": 8326.051409398962, \"wingspan-(cm)\": 278.05656030720354, \"species\": 1, \"url\": \"https://raw.githubusercontent.com/pabloinsente/nn-mod-cog/master/notebooks/images/albatross.png\"}, {\"weight-(gm)\": 9147.614952451155, \"wingspan-(cm)\": 295.2257426137064, \"species\": 1, \"url\": \"https://raw.githubusercontent.com/pabloinsente/nn-mod-cog/master/notebooks/images/albatross.png\"}, {\"weight-(gm)\": 9749.665760887161, \"wingspan-(cm)\": 271.41866203103416, \"species\": 1, \"url\": \"https://raw.githubusercontent.com/pabloinsente/nn-mod-cog/master/notebooks/images/albatross.png\"}, {\"weight-(gm)\": 9584.800275067846, \"wingspan-(cm)\": 318.9800955301052, \"species\": 1, \"url\": \"https://raw.githubusercontent.com/pabloinsente/nn-mod-cog/master/notebooks/images/albatross.png\"}, {\"weight-(gm)\": 10089.244900116264, \"wingspan-(cm)\": 299.6120482807507, \"species\": 1, \"url\": \"https://raw.githubusercontent.com/pabloinsente/nn-mod-cog/master/notebooks/images/albatross.png\"}, {\"weight-(gm)\": 8739.009552638157, \"wingspan-(cm)\": 317.8919541152003, \"species\": 1, \"url\": \"https://raw.githubusercontent.com/pabloinsente/nn-mod-cog/master/notebooks/images/albatross.png\"}, {\"weight-(gm)\": 9044.540811883822, \"wingspan-(cm)\": 315.1938623970041, \"species\": 1, \"url\": \"https://raw.githubusercontent.com/pabloinsente/nn-mod-cog/master/notebooks/images/albatross.png\"}, {\"weight-(gm)\": 9177.919686844243, \"wingspan-(cm)\": 270.0455923783366, \"species\": 1, \"url\": \"https://raw.githubusercontent.com/pabloinsente/nn-mod-cog/master/notebooks/images/albatross.png\"}, {\"weight-(gm)\": 7845.426403819731, \"wingspan-(cm)\": 276.12228046416124, \"species\": 1, \"url\": \"https://raw.githubusercontent.com/pabloinsente/nn-mod-cog/master/notebooks/images/albatross.png\"}, {\"weight-(gm)\": 8394.918155524452, \"wingspan-(cm)\": 325.92525172798116, \"species\": 1, \"url\": \"https://raw.githubusercontent.com/pabloinsente/nn-mod-cog/master/notebooks/images/albatross.png\"}, {\"weight-(gm)\": 9653.16320881543, \"wingspan-(cm)\": 319.0455125216378, \"species\": 1, \"url\": \"https://raw.githubusercontent.com/pabloinsente/nn-mod-cog/master/notebooks/images/albatross.png\"}, {\"weight-(gm)\": 9600.355809227343, \"wingspan-(cm)\": 275.6549173871797, \"species\": 1, \"url\": \"https://raw.githubusercontent.com/pabloinsente/nn-mod-cog/master/notebooks/images/albatross.png\"}, {\"weight-(gm)\": 8635.242458025597, \"wingspan-(cm)\": 296.85469665249724, \"species\": 1, \"url\": \"https://raw.githubusercontent.com/pabloinsente/nn-mod-cog/master/notebooks/images/albatross.png\"}, {\"weight-(gm)\": 9951.6978144233, \"wingspan-(cm)\": 269.84829679471227, \"species\": 1, \"url\": \"https://raw.githubusercontent.com/pabloinsente/nn-mod-cog/master/notebooks/images/albatross.png\"}, {\"weight-(gm)\": 7647.506538893116, \"wingspan-(cm)\": 302.15768261613226, \"species\": 1, \"url\": \"https://raw.githubusercontent.com/pabloinsente/nn-mod-cog/master/notebooks/images/albatross.png\"}, {\"weight-(gm)\": 7914.88076091095, \"wingspan-(cm)\": 314.941113101983, \"species\": 1, \"url\": \"https://raw.githubusercontent.com/pabloinsente/nn-mod-cog/master/notebooks/images/albatross.png\"}, {\"weight-(gm)\": 8014.052388868059, \"wingspan-(cm)\": 308.5935287172522, \"species\": 1, \"url\": \"https://raw.githubusercontent.com/pabloinsente/nn-mod-cog/master/notebooks/images/albatross.png\"}, {\"weight-(gm)\": 8564.448670662028, \"wingspan-(cm)\": 271.6991415829495, \"species\": 1, \"url\": \"https://raw.githubusercontent.com/pabloinsente/nn-mod-cog/master/notebooks/images/albatross.png\"}, {\"weight-(gm)\": 8465.462610549257, \"wingspan-(cm)\": 287.18480153978857, \"species\": 1, \"url\": \"https://raw.githubusercontent.com/pabloinsente/nn-mod-cog/master/notebooks/images/albatross.png\"}, {\"weight-(gm)\": 9005.851650583123, \"wingspan-(cm)\": 315.5925260732739, \"species\": 1, \"url\": \"https://raw.githubusercontent.com/pabloinsente/nn-mod-cog/master/notebooks/images/albatross.png\"}, {\"weight-(gm)\": 8509.64901161747, \"wingspan-(cm)\": 291.23758167302316, \"species\": 1, \"url\": \"https://raw.githubusercontent.com/pabloinsente/nn-mod-cog/master/notebooks/images/albatross.png\"}, {\"weight-(gm)\": 10039.798459804248, \"wingspan-(cm)\": 341.49586335893133, \"species\": 1, \"url\": \"https://raw.githubusercontent.com/pabloinsente/nn-mod-cog/master/notebooks/images/albatross.png\"}, {\"weight-(gm)\": 7613.523501077375, \"wingspan-(cm)\": 293.1340463563506, \"species\": 1, \"url\": \"https://raw.githubusercontent.com/pabloinsente/nn-mod-cog/master/notebooks/images/albatross.png\"}, {\"weight-(gm)\": 8213.351920696296, \"wingspan-(cm)\": 287.6674125663361, \"species\": 1, \"url\": \"https://raw.githubusercontent.com/pabloinsente/nn-mod-cog/master/notebooks/images/albatross.png\"}, {\"weight-(gm)\": 9286.006202533892, \"wingspan-(cm)\": 315.2636729211998, \"species\": 1, \"url\": \"https://raw.githubusercontent.com/pabloinsente/nn-mod-cog/master/notebooks/images/albatross.png\"}, {\"weight-(gm)\": 7709.13719774226, \"wingspan-(cm)\": 303.85834383646613, \"species\": 1, \"url\": \"https://raw.githubusercontent.com/pabloinsente/nn-mod-cog/master/notebooks/images/albatross.png\"}, {\"weight-(gm)\": 10176.571093289704, \"wingspan-(cm)\": 293.0308213869526, \"species\": 1, \"url\": \"https://raw.githubusercontent.com/pabloinsente/nn-mod-cog/master/notebooks/images/albatross.png\"}, {\"weight-(gm)\": 8049.585922145825, \"wingspan-(cm)\": 345.9730788142735, \"species\": 1, \"url\": \"https://raw.githubusercontent.com/pabloinsente/nn-mod-cog/master/notebooks/images/albatross.png\"}, {\"weight-(gm)\": 8560.20304517161, \"wingspan-(cm)\": 296.69580894718536, \"species\": 1, \"url\": \"https://raw.githubusercontent.com/pabloinsente/nn-mod-cog/master/notebooks/images/albatross.png\"}, {\"weight-(gm)\": 8247.963070764185, \"wingspan-(cm)\": 309.3259873671438, \"species\": 1, \"url\": \"https://raw.githubusercontent.com/pabloinsente/nn-mod-cog/master/notebooks/images/albatross.png\"}, {\"weight-(gm)\": 8337.654108507304, \"wingspan-(cm)\": 305.3997447726218, \"species\": 1, \"url\": \"https://raw.githubusercontent.com/pabloinsente/nn-mod-cog/master/notebooks/images/albatross.png\"}, {\"weight-(gm)\": 9087.090774266944, \"wingspan-(cm)\": 293.6033790576382, \"species\": 1, \"url\": \"https://raw.githubusercontent.com/pabloinsente/nn-mod-cog/master/notebooks/images/albatross.png\"}, {\"weight-(gm)\": 9406.247672393856, \"wingspan-(cm)\": 277.04516800246824, \"species\": 1, \"url\": \"https://raw.githubusercontent.com/pabloinsente/nn-mod-cog/master/notebooks/images/albatross.png\"}, {\"weight-(gm)\": 8310.218122791615, \"wingspan-(cm)\": 334.0724797624141, \"species\": 1, \"url\": \"https://raw.githubusercontent.com/pabloinsente/nn-mod-cog/master/notebooks/images/albatross.png\"}, {\"weight-(gm)\": 9999.575794181583, \"wingspan-(cm)\": 285.5569845988849, \"species\": 1, \"url\": \"https://raw.githubusercontent.com/pabloinsente/nn-mod-cog/master/notebooks/images/albatross.png\"}, {\"weight-(gm)\": 8936.31100326608, \"wingspan-(cm)\": 321.87373299317443, \"species\": 1, \"url\": \"https://raw.githubusercontent.com/pabloinsente/nn-mod-cog/master/notebooks/images/albatross.png\"}, {\"weight-(gm)\": 8288.214814987972, \"wingspan-(cm)\": 295.4096449352009, \"species\": 1, \"url\": \"https://raw.githubusercontent.com/pabloinsente/nn-mod-cog/master/notebooks/images/albatross.png\"}, {\"weight-(gm)\": 8294.561288413586, \"wingspan-(cm)\": 299.8220267341578, \"species\": 1, \"url\": \"https://raw.githubusercontent.com/pabloinsente/nn-mod-cog/master/notebooks/images/albatross.png\"}, {\"weight-(gm)\": 9014.911159590449, \"wingspan-(cm)\": 289.1360398318566, \"species\": 1, \"url\": \"https://raw.githubusercontent.com/pabloinsente/nn-mod-cog/master/notebooks/images/albatross.png\"}, {\"weight-(gm)\": 9190.275697538897, \"wingspan-(cm)\": 315.06124375383956, \"species\": 1, \"url\": \"https://raw.githubusercontent.com/pabloinsente/nn-mod-cog/master/notebooks/images/albatross.png\"}, {\"weight-(gm)\": 9010.83883890289, \"wingspan-(cm)\": 267.8112220765409, \"species\": 1, \"url\": \"https://raw.githubusercontent.com/pabloinsente/nn-mod-cog/master/notebooks/images/albatross.png\"}, {\"weight-(gm)\": 7691.576480495342, \"wingspan-(cm)\": 338.8652452686799, \"species\": 1, \"url\": \"https://raw.githubusercontent.com/pabloinsente/nn-mod-cog/master/notebooks/images/albatross.png\"}, {\"weight-(gm)\": 8164.632097832547, \"wingspan-(cm)\": 271.0512777536083, \"species\": 1, \"url\": \"https://raw.githubusercontent.com/pabloinsente/nn-mod-cog/master/notebooks/images/albatross.png\"}, {\"weight-(gm)\": 9490.431105350037, \"wingspan-(cm)\": 302.60496910705405, \"species\": 1, \"url\": \"https://raw.githubusercontent.com/pabloinsente/nn-mod-cog/master/notebooks/images/albatross.png\"}, {\"weight-(gm)\": 9588.96417065906, \"wingspan-(cm)\": 318.9872172932197, \"species\": 1, \"url\": \"https://raw.githubusercontent.com/pabloinsente/nn-mod-cog/master/notebooks/images/albatross.png\"}, {\"weight-(gm)\": 9821.537151519833, \"wingspan-(cm)\": 259.69622565754946, \"species\": 1, \"url\": \"https://raw.githubusercontent.com/pabloinsente/nn-mod-cog/master/notebooks/images/albatross.png\"}, {\"weight-(gm)\": 7854.247511152858, \"wingspan-(cm)\": 298.40918826131775, \"species\": 1, \"url\": \"https://raw.githubusercontent.com/pabloinsente/nn-mod-cog/master/notebooks/images/albatross.png\"}, {\"weight-(gm)\": 7527.049359850626, \"wingspan-(cm)\": 306.0209892757613, \"species\": 1, \"url\": \"https://raw.githubusercontent.com/pabloinsente/nn-mod-cog/master/notebooks/images/albatross.png\"}, {\"weight-(gm)\": 9292.874580933843, \"wingspan-(cm)\": 266.3020007662964, \"species\": 1, \"url\": \"https://raw.githubusercontent.com/pabloinsente/nn-mod-cog/master/notebooks/images/albatross.png\"}, {\"weight-(gm)\": 8734.578291957752, \"wingspan-(cm)\": 304.447816188909, \"species\": 1, \"url\": \"https://raw.githubusercontent.com/pabloinsente/nn-mod-cog/master/notebooks/images/albatross.png\"}, {\"weight-(gm)\": 8448.625617528198, \"wingspan-(cm)\": 286.3015652950554, \"species\": 1, \"url\": \"https://raw.githubusercontent.com/pabloinsente/nn-mod-cog/master/notebooks/images/albatross.png\"}, {\"weight-(gm)\": 10627.686049203947, \"wingspan-(cm)\": 297.4759763257285, \"species\": 1, \"url\": \"https://raw.githubusercontent.com/pabloinsente/nn-mod-cog/master/notebooks/images/albatross.png\"}, {\"weight-(gm)\": 8559.428470468325, \"wingspan-(cm)\": 339.8054729950818, \"species\": 1, \"url\": \"https://raw.githubusercontent.com/pabloinsente/nn-mod-cog/master/notebooks/images/albatross.png\"}, {\"weight-(gm)\": 9600.362664261473, \"wingspan-(cm)\": 310.459956090415, \"species\": 1, \"url\": \"https://raw.githubusercontent.com/pabloinsente/nn-mod-cog/master/notebooks/images/albatross.png\"}, {\"weight-(gm)\": 7954.406128735345, \"wingspan-(cm)\": 299.6730919448503, \"species\": 1, \"url\": \"https://raw.githubusercontent.com/pabloinsente/nn-mod-cog/master/notebooks/images/albatross.png\"}, {\"weight-(gm)\": 9464.45866863542, \"wingspan-(cm)\": 291.683673283187, \"species\": 1, \"url\": \"https://raw.githubusercontent.com/pabloinsente/nn-mod-cog/master/notebooks/images/albatross.png\"}, {\"weight-(gm)\": 8116.381525870165, \"wingspan-(cm)\": 272.829941264804, \"species\": 1, \"url\": \"https://raw.githubusercontent.com/pabloinsente/nn-mod-cog/master/notebooks/images/albatross.png\"}, {\"weight-(gm)\": 9552.097176179766, \"wingspan-(cm)\": 289.7114021726243, \"species\": 1, \"url\": \"https://raw.githubusercontent.com/pabloinsente/nn-mod-cog/master/notebooks/images/albatross.png\"}, {\"weight-(gm)\": 9549.512052910724, \"wingspan-(cm)\": 295.6787975999348, \"species\": 1, \"url\": \"https://raw.githubusercontent.com/pabloinsente/nn-mod-cog/master/notebooks/images/albatross.png\"}, {\"weight-(gm)\": 7746.649976337287, \"wingspan-(cm)\": 308.4476044084396, \"species\": 1, \"url\": \"https://raw.githubusercontent.com/pabloinsente/nn-mod-cog/master/notebooks/images/albatross.png\"}, {\"weight-(gm)\": 9723.979297173344, \"wingspan-(cm)\": 278.1191413793553, \"species\": 1, \"url\": \"https://raw.githubusercontent.com/pabloinsente/nn-mod-cog/master/notebooks/images/albatross.png\"}, {\"weight-(gm)\": 9623.057919458453, \"wingspan-(cm)\": 324.7381577038045, \"species\": 1, \"url\": \"https://raw.githubusercontent.com/pabloinsente/nn-mod-cog/master/notebooks/images/albatross.png\"}, {\"weight-(gm)\": 9342.586296477393, \"wingspan-(cm)\": 295.39430643145784, \"species\": 1, \"url\": \"https://raw.githubusercontent.com/pabloinsente/nn-mod-cog/master/notebooks/images/albatross.png\"}, {\"weight-(gm)\": 9087.097591918331, \"wingspan-(cm)\": 285.91163600529956, \"species\": 1, \"url\": \"https://raw.githubusercontent.com/pabloinsente/nn-mod-cog/master/notebooks/images/albatross.png\"}, {\"weight-(gm)\": 9022.62690785846, \"wingspan-(cm)\": 288.17249757829654, \"species\": 1, \"url\": \"https://raw.githubusercontent.com/pabloinsente/nn-mod-cog/master/notebooks/images/albatross.png\"}, {\"weight-(gm)\": 8536.93934016721, \"wingspan-(cm)\": 314.73990338036424, \"species\": 1, \"url\": \"https://raw.githubusercontent.com/pabloinsente/nn-mod-cog/master/notebooks/images/albatross.png\"}, {\"weight-(gm)\": 8040.439040644855, \"wingspan-(cm)\": 308.7173450502982, \"species\": 1, \"url\": \"https://raw.githubusercontent.com/pabloinsente/nn-mod-cog/master/notebooks/images/albatross.png\"}, {\"weight-(gm)\": 7635.238395409464, \"wingspan-(cm)\": 335.51987171013536, \"species\": 1, \"url\": \"https://raw.githubusercontent.com/pabloinsente/nn-mod-cog/master/notebooks/images/albatross.png\"}, {\"weight-(gm)\": 9295.331165685604, \"wingspan-(cm)\": 310.2614875767929, \"species\": 1, \"url\": \"https://raw.githubusercontent.com/pabloinsente/nn-mod-cog/master/notebooks/images/albatross.png\"}, {\"weight-(gm)\": 10501.258741569733, \"wingspan-(cm)\": 323.4105396589629, \"species\": 1, \"url\": \"https://raw.githubusercontent.com/pabloinsente/nn-mod-cog/master/notebooks/images/albatross.png\"}, {\"weight-(gm)\": 8698.47731986482, \"wingspan-(cm)\": 341.5542446450041, \"species\": 1, \"url\": \"https://raw.githubusercontent.com/pabloinsente/nn-mod-cog/master/notebooks/images/albatross.png\"}, {\"weight-(gm)\": 10465.548865460429, \"wingspan-(cm)\": 290.8815596157196, \"species\": 1, \"url\": \"https://raw.githubusercontent.com/pabloinsente/nn-mod-cog/master/notebooks/images/albatross.png\"}, {\"weight-(gm)\": 9002.413947224972, \"wingspan-(cm)\": 312.98345854509364, \"species\": 1, \"url\": \"https://raw.githubusercontent.com/pabloinsente/nn-mod-cog/master/notebooks/images/albatross.png\"}, {\"weight-(gm)\": 8939.181227420302, \"wingspan-(cm)\": 296.50436891097, \"species\": 1, \"url\": \"https://raw.githubusercontent.com/pabloinsente/nn-mod-cog/master/notebooks/images/albatross.png\"}, {\"weight-(gm)\": 9003.16607519008, \"wingspan-(cm)\": 320.3452868650234, \"species\": 1, \"url\": \"https://raw.githubusercontent.com/pabloinsente/nn-mod-cog/master/notebooks/images/albatross.png\"}, {\"weight-(gm)\": 8851.988711282309, \"wingspan-(cm)\": 288.00033910302267, \"species\": 1, \"url\": \"https://raw.githubusercontent.com/pabloinsente/nn-mod-cog/master/notebooks/images/albatross.png\"}, {\"weight-(gm)\": 7010.278771821784, \"wingspan-(cm)\": 331.5233344863841, \"species\": 1, \"url\": \"https://raw.githubusercontent.com/pabloinsente/nn-mod-cog/master/notebooks/images/albatross.png\"}, {\"weight-(gm)\": 650.0469053890605, \"wingspan-(cm)\": 74.43023191358557, \"species\": -1, \"url\": \"https://raw.githubusercontent.com/pabloinsente/nn-mod-cog/master/notebooks/images/owl.png\"}, {\"weight-(gm)\": 1068.5360806655003, \"wingspan-(cm)\": 82.95608489758956, \"species\": -1, \"url\": \"https://raw.githubusercontent.com/pabloinsente/nn-mod-cog/master/notebooks/images/owl.png\"}, {\"weight-(gm)\": 1230.6071605127288, \"wingspan-(cm)\": 55.400267889236716, \"species\": -1, \"url\": \"https://raw.githubusercontent.com/pabloinsente/nn-mod-cog/master/notebooks/images/owl.png\"}, {\"weight-(gm)\": 949.512792695722, \"wingspan-(cm)\": 100.49975917208295, \"species\": -1, \"url\": \"https://raw.githubusercontent.com/pabloinsente/nn-mod-cog/master/notebooks/images/owl.png\"}, {\"weight-(gm)\": 1196.2641573902463, \"wingspan-(cm)\": 96.26666999412838, \"species\": -1, \"url\": \"https://raw.githubusercontent.com/pabloinsente/nn-mod-cog/master/notebooks/images/owl.png\"}, {\"weight-(gm)\": 1102.8437682788765, \"wingspan-(cm)\": 93.24735347482523, \"species\": -1, \"url\": \"https://raw.githubusercontent.com/pabloinsente/nn-mod-cog/master/notebooks/images/owl.png\"}, {\"weight-(gm)\": 1044.23593384428, \"wingspan-(cm)\": 101.9864170172316, \"species\": -1, \"url\": \"https://raw.githubusercontent.com/pabloinsente/nn-mod-cog/master/notebooks/images/owl.png\"}, {\"weight-(gm)\": 785.9913338863414, \"wingspan-(cm)\": 100.33320892059086, \"species\": -1, \"url\": \"https://raw.githubusercontent.com/pabloinsente/nn-mod-cog/master/notebooks/images/owl.png\"}, {\"weight-(gm)\": 962.1008338353649, \"wingspan-(cm)\": 104.76051963911601, \"species\": -1, \"url\": \"https://raw.githubusercontent.com/pabloinsente/nn-mod-cog/master/notebooks/images/owl.png\"}, {\"weight-(gm)\": 1051.0002888546762, \"wingspan-(cm)\": 88.71378733412445, \"species\": -1, \"url\": \"https://raw.githubusercontent.com/pabloinsente/nn-mod-cog/master/notebooks/images/owl.png\"}, {\"weight-(gm)\": 908.3946028994751, \"wingspan-(cm)\": 80.55412289274774, \"species\": -1, \"url\": \"https://raw.githubusercontent.com/pabloinsente/nn-mod-cog/master/notebooks/images/owl.png\"}, {\"weight-(gm)\": 1087.0326976245785, \"wingspan-(cm)\": 101.4270916534818, \"species\": -1, \"url\": \"https://raw.githubusercontent.com/pabloinsente/nn-mod-cog/master/notebooks/images/owl.png\"}, {\"weight-(gm)\": 883.280989935467, \"wingspan-(cm)\": 93.6442735008487, \"species\": -1, \"url\": \"https://raw.githubusercontent.com/pabloinsente/nn-mod-cog/master/notebooks/images/owl.png\"}, {\"weight-(gm)\": 1163.3694143371558, \"wingspan-(cm)\": 82.2102465260624, \"species\": -1, \"url\": \"https://raw.githubusercontent.com/pabloinsente/nn-mod-cog/master/notebooks/images/owl.png\"}, {\"weight-(gm)\": 1134.5441611419321, \"wingspan-(cm)\": 94.5180701098506, \"species\": -1, \"url\": \"https://raw.githubusercontent.com/pabloinsente/nn-mod-cog/master/notebooks/images/owl.png\"}, {\"weight-(gm)\": 979.1177713218744, \"wingspan-(cm)\": 80.93465438730009, \"species\": -1, \"url\": \"https://raw.githubusercontent.com/pabloinsente/nn-mod-cog/master/notebooks/images/owl.png\"}, {\"weight-(gm)\": 893.743924629618, \"wingspan-(cm)\": 123.79256407634853, \"species\": -1, \"url\": \"https://raw.githubusercontent.com/pabloinsente/nn-mod-cog/master/notebooks/images/owl.png\"}, {\"weight-(gm)\": 1205.9465370266691, \"wingspan-(cm)\": 110.40085987774883, \"species\": -1, \"url\": \"https://raw.githubusercontent.com/pabloinsente/nn-mod-cog/master/notebooks/images/owl.png\"}, {\"weight-(gm)\": 912.3728754591166, \"wingspan-(cm)\": 70.628781486882, \"species\": -1, \"url\": \"https://raw.githubusercontent.com/pabloinsente/nn-mod-cog/master/notebooks/images/owl.png\"}, {\"weight-(gm)\": 776.3363507489128, \"wingspan-(cm)\": 97.97798032015008, \"species\": -1, \"url\": \"https://raw.githubusercontent.com/pabloinsente/nn-mod-cog/master/notebooks/images/owl.png\"}, {\"weight-(gm)\": 1323.796332135052, \"wingspan-(cm)\": 76.8907596317108, \"species\": -1, \"url\": \"https://raw.githubusercontent.com/pabloinsente/nn-mod-cog/master/notebooks/images/owl.png\"}, {\"weight-(gm)\": 1308.3210349026813, \"wingspan-(cm)\": 130.70070952723208, \"species\": -1, \"url\": \"https://raw.githubusercontent.com/pabloinsente/nn-mod-cog/master/notebooks/images/owl.png\"}, {\"weight-(gm)\": 949.6241721573574, \"wingspan-(cm)\": 79.04500982570075, \"species\": -1, \"url\": \"https://raw.githubusercontent.com/pabloinsente/nn-mod-cog/master/notebooks/images/owl.png\"}, {\"weight-(gm)\": 831.5128523497405, \"wingspan-(cm)\": 83.54242023040266, \"species\": -1, \"url\": \"https://raw.githubusercontent.com/pabloinsente/nn-mod-cog/master/notebooks/images/owl.png\"}, {\"weight-(gm)\": 1036.9037381127885, \"wingspan-(cm)\": 96.41930696027981, \"species\": -1, \"url\": \"https://raw.githubusercontent.com/pabloinsente/nn-mod-cog/master/notebooks/images/owl.png\"}, {\"weight-(gm)\": 1187.4164402217905, \"wingspan-(cm)\": 78.56399652327563, \"species\": -1, \"url\": \"https://raw.githubusercontent.com/pabloinsente/nn-mod-cog/master/notebooks/images/owl.png\"}, {\"weight-(gm)\": 1146.2000687669617, \"wingspan-(cm)\": 114.23507164757889, \"species\": -1, \"url\": \"https://raw.githubusercontent.com/pabloinsente/nn-mod-cog/master/notebooks/images/owl.png\"}, {\"weight-(gm)\": 1272.3112250290662, \"wingspan-(cm)\": 99.70903621056303, \"species\": -1, \"url\": \"https://raw.githubusercontent.com/pabloinsente/nn-mod-cog/master/notebooks/images/owl.png\"}, {\"weight-(gm)\": 934.7523881595395, \"wingspan-(cm)\": 113.4189655864002, \"species\": -1, \"url\": \"https://raw.githubusercontent.com/pabloinsente/nn-mod-cog/master/notebooks/images/owl.png\"}, {\"weight-(gm)\": 1011.1352029709553, \"wingspan-(cm)\": 111.39539679775308, \"species\": -1, \"url\": \"https://raw.githubusercontent.com/pabloinsente/nn-mod-cog/master/notebooks/images/owl.png\"}, {\"weight-(gm)\": 1044.479921711061, \"wingspan-(cm)\": 77.53419428375246, \"species\": -1, \"url\": \"https://raw.githubusercontent.com/pabloinsente/nn-mod-cog/master/notebooks/images/owl.png\"}, {\"weight-(gm)\": 711.3566009549327, \"wingspan-(cm)\": 82.09171034812093, \"species\": -1, \"url\": \"https://raw.githubusercontent.com/pabloinsente/nn-mod-cog/master/notebooks/images/owl.png\"}, {\"weight-(gm)\": 848.729538881113, \"wingspan-(cm)\": 119.44393879598586, \"species\": -1, \"url\": \"https://raw.githubusercontent.com/pabloinsente/nn-mod-cog/master/notebooks/images/owl.png\"}, {\"weight-(gm)\": 1163.290802203857, \"wingspan-(cm)\": 114.28413439122836, \"species\": -1, \"url\": \"https://raw.githubusercontent.com/pabloinsente/nn-mod-cog/master/notebooks/images/owl.png\"}, {\"weight-(gm)\": 1150.0889523068356, \"wingspan-(cm)\": 81.74118804038477, \"species\": -1, \"url\": \"https://raw.githubusercontent.com/pabloinsente/nn-mod-cog/master/notebooks/images/owl.png\"}, {\"weight-(gm)\": 908.8106145063996, \"wingspan-(cm)\": 97.64102248937293, \"species\": -1, \"url\": \"https://raw.githubusercontent.com/pabloinsente/nn-mod-cog/master/notebooks/images/owl.png\"}, {\"weight-(gm)\": 1237.9244536058252, \"wingspan-(cm)\": 77.3862225960342, \"species\": -1, \"url\": \"https://raw.githubusercontent.com/pabloinsente/nn-mod-cog/master/notebooks/images/owl.png\"}, {\"weight-(gm)\": 661.8766347232792, \"wingspan-(cm)\": 101.6182619620992, \"species\": -1, \"url\": \"https://raw.githubusercontent.com/pabloinsente/nn-mod-cog/master/notebooks/images/owl.png\"}, {\"weight-(gm)\": 728.7201902277375, \"wingspan-(cm)\": 111.2058348264872, \"species\": -1, \"url\": \"https://raw.githubusercontent.com/pabloinsente/nn-mod-cog/master/notebooks/images/owl.png\"}, {\"weight-(gm)\": 753.5130972170148, \"wingspan-(cm)\": 106.44514653793914, \"species\": -1, \"url\": \"https://raw.githubusercontent.com/pabloinsente/nn-mod-cog/master/notebooks/images/owl.png\"}, {\"weight-(gm)\": 891.1121676655072, \"wingspan-(cm)\": 78.7743561872121, \"species\": -1, \"url\": \"https://raw.githubusercontent.com/pabloinsente/nn-mod-cog/master/notebooks/images/owl.png\"}, {\"weight-(gm)\": 866.3656526373145, \"wingspan-(cm)\": 90.38860115484142, \"species\": -1, \"url\": \"https://raw.githubusercontent.com/pabloinsente/nn-mod-cog/master/notebooks/images/owl.png\"}, {\"weight-(gm)\": 1001.4629126457806, \"wingspan-(cm)\": 111.69439455495544, \"species\": -1, \"url\": \"https://raw.githubusercontent.com/pabloinsente/nn-mod-cog/master/notebooks/images/owl.png\"}, {\"weight-(gm)\": 877.4122529043675, \"wingspan-(cm)\": 93.42818625476735, \"species\": -1, \"url\": \"https://raw.githubusercontent.com/pabloinsente/nn-mod-cog/master/notebooks/images/owl.png\"}, {\"weight-(gm)\": 1259.949614951062, \"wingspan-(cm)\": 131.12189751919848, \"species\": -1, \"url\": \"https://raw.githubusercontent.com/pabloinsente/nn-mod-cog/master/notebooks/images/owl.png\"}, {\"weight-(gm)\": 653.3808752693437, \"wingspan-(cm)\": 94.85053476726296, \"species\": -1, \"url\": \"https://raw.githubusercontent.com/pabloinsente/nn-mod-cog/master/notebooks/images/owl.png\"}, {\"weight-(gm)\": 803.337980174074, \"wingspan-(cm)\": 90.75055942475208, \"species\": -1, \"url\": \"https://raw.githubusercontent.com/pabloinsente/nn-mod-cog/master/notebooks/images/owl.png\"}, {\"weight-(gm)\": 1071.501550633473, \"wingspan-(cm)\": 111.44775469089988, \"species\": -1, \"url\": \"https://raw.githubusercontent.com/pabloinsente/nn-mod-cog/master/notebooks/images/owl.png\"}, {\"weight-(gm)\": 677.2842994355649, \"wingspan-(cm)\": 102.8937578773496, \"species\": -1, \"url\": \"https://raw.githubusercontent.com/pabloinsente/nn-mod-cog/master/notebooks/images/owl.png\"}, {\"weight-(gm)\": 1294.142773322426, \"wingspan-(cm)\": 94.77311604021445, \"species\": -1, \"url\": \"https://raw.githubusercontent.com/pabloinsente/nn-mod-cog/master/notebooks/images/owl.png\"}, {\"weight-(gm)\": 762.3964805364561, \"wingspan-(cm)\": 134.47980911070513, \"species\": -1, \"url\": \"https://raw.githubusercontent.com/pabloinsente/nn-mod-cog/master/notebooks/images/owl.png\"}, {\"weight-(gm)\": 890.050761292902, \"wingspan-(cm)\": 97.52185671038902, \"species\": -1, \"url\": \"https://raw.githubusercontent.com/pabloinsente/nn-mod-cog/master/notebooks/images/owl.png\"}, {\"weight-(gm)\": 811.9907676910464, \"wingspan-(cm)\": 106.99449052535785, \"species\": -1, \"url\": \"https://raw.githubusercontent.com/pabloinsente/nn-mod-cog/master/notebooks/images/owl.png\"}, {\"weight-(gm)\": 834.4135271268258, \"wingspan-(cm)\": 104.04980857946633, \"species\": -1, \"url\": \"https://raw.githubusercontent.com/pabloinsente/nn-mod-cog/master/notebooks/images/owl.png\"}, {\"weight-(gm)\": 1021.7726935667359, \"wingspan-(cm)\": 95.20253429322868, \"species\": -1, \"url\": \"https://raw.githubusercontent.com/pabloinsente/nn-mod-cog/master/notebooks/images/owl.png\"}, {\"weight-(gm)\": 1101.561918098464, \"wingspan-(cm)\": 82.78387600185121, \"species\": -1, \"url\": \"https://raw.githubusercontent.com/pabloinsente/nn-mod-cog/master/notebooks/images/owl.png\"}, {\"weight-(gm)\": 827.554530697904, \"wingspan-(cm)\": 125.55435982181058, \"species\": -1, \"url\": \"https://raw.githubusercontent.com/pabloinsente/nn-mod-cog/master/notebooks/images/owl.png\"}, {\"weight-(gm)\": 1249.8939485453957, \"wingspan-(cm)\": 89.16773844916369, \"species\": -1, \"url\": \"https://raw.githubusercontent.com/pabloinsente/nn-mod-cog/master/notebooks/images/owl.png\"}, {\"weight-(gm)\": 984.0777508165202, \"wingspan-(cm)\": 116.40529974488082, \"species\": -1, \"url\": \"https://raw.githubusercontent.com/pabloinsente/nn-mod-cog/master/notebooks/images/owl.png\"}, {\"weight-(gm)\": 822.0537037469933, \"wingspan-(cm)\": 96.55723370140066, \"species\": -1, \"url\": \"https://raw.githubusercontent.com/pabloinsente/nn-mod-cog/master/notebooks/images/owl.png\"}, {\"weight-(gm)\": 823.6403221033966, \"wingspan-(cm)\": 99.86652005061835, \"species\": -1, \"url\": \"https://raw.githubusercontent.com/pabloinsente/nn-mod-cog/master/notebooks/images/owl.png\"}, {\"weight-(gm)\": 1003.7277898976121, \"wingspan-(cm)\": 91.85202987389242, \"species\": -1, \"url\": \"https://raw.githubusercontent.com/pabloinsente/nn-mod-cog/master/notebooks/images/owl.png\"}, {\"weight-(gm)\": 1047.5689243847244, \"wingspan-(cm)\": 111.29593281537969, \"species\": -1, \"url\": \"https://raw.githubusercontent.com/pabloinsente/nn-mod-cog/master/notebooks/images/owl.png\"}, {\"weight-(gm)\": 1002.7097097257225, \"wingspan-(cm)\": 75.85841655740569, \"species\": -1, \"url\": \"https://raw.githubusercontent.com/pabloinsente/nn-mod-cog/master/notebooks/images/owl.png\"}, {\"weight-(gm)\": 672.8941201238356, \"wingspan-(cm)\": 129.14893395150995, \"species\": -1, \"url\": \"https://raw.githubusercontent.com/pabloinsente/nn-mod-cog/master/notebooks/images/owl.png\"}, {\"weight-(gm)\": 791.1580244581367, \"wingspan-(cm)\": 78.28845831520623, \"species\": -1, \"url\": \"https://raw.githubusercontent.com/pabloinsente/nn-mod-cog/master/notebooks/images/owl.png\"}, {\"weight-(gm)\": 1122.6077763375092, \"wingspan-(cm)\": 101.95372683029053, \"species\": -1, \"url\": \"https://raw.githubusercontent.com/pabloinsente/nn-mod-cog/master/notebooks/images/owl.png\"}, {\"weight-(gm)\": 1147.2410426647648, \"wingspan-(cm)\": 114.2404129699148, \"species\": -1, \"url\": \"https://raw.githubusercontent.com/pabloinsente/nn-mod-cog/master/notebooks/images/owl.png\"}, {\"weight-(gm)\": 1205.384287879958, \"wingspan-(cm)\": 69.7721692431621, \"species\": -1, \"url\": \"https://raw.githubusercontent.com/pabloinsente/nn-mod-cog/master/notebooks/images/owl.png\"}, {\"weight-(gm)\": 713.5618777882146, \"wingspan-(cm)\": 98.80689119598833, \"species\": -1, \"url\": \"https://raw.githubusercontent.com/pabloinsente/nn-mod-cog/master/notebooks/images/owl.png\"}, {\"weight-(gm)\": 631.7623399626566, \"wingspan-(cm)\": 104.51574195682099, \"species\": -1, \"url\": \"https://raw.githubusercontent.com/pabloinsente/nn-mod-cog/master/notebooks/images/owl.png\"}, {\"weight-(gm)\": 1073.2186452334608, \"wingspan-(cm)\": 74.7265005747223, \"species\": -1, \"url\": \"https://raw.githubusercontent.com/pabloinsente/nn-mod-cog/master/notebooks/images/owl.png\"}, {\"weight-(gm)\": 933.6445729894383, \"wingspan-(cm)\": 103.33586214168173, \"species\": -1, \"url\": \"https://raw.githubusercontent.com/pabloinsente/nn-mod-cog/master/notebooks/images/owl.png\"}, {\"weight-(gm)\": 862.1564043820493, \"wingspan-(cm)\": 89.72617397129154, \"species\": -1, \"url\": \"https://raw.githubusercontent.com/pabloinsente/nn-mod-cog/master/notebooks/images/owl.png\"}, {\"weight-(gm)\": 1406.9215123009867, \"wingspan-(cm)\": 98.10698224429635, \"species\": -1, \"url\": \"https://raw.githubusercontent.com/pabloinsente/nn-mod-cog/master/notebooks/images/owl.png\"}, {\"weight-(gm)\": 889.8571176170815, \"wingspan-(cm)\": 129.85410474631135, \"species\": -1, \"url\": \"https://raw.githubusercontent.com/pabloinsente/nn-mod-cog/master/notebooks/images/owl.png\"}, {\"weight-(gm)\": 1150.0906660653682, \"wingspan-(cm)\": 107.84496706781127, \"species\": -1, \"url\": \"https://raw.githubusercontent.com/pabloinsente/nn-mod-cog/master/notebooks/images/owl.png\"}, {\"weight-(gm)\": 738.6015321838362, \"wingspan-(cm)\": 99.7548189586377, \"species\": -1, \"url\": \"https://raw.githubusercontent.com/pabloinsente/nn-mod-cog/master/notebooks/images/owl.png\"}, {\"weight-(gm)\": 1116.114667158855, \"wingspan-(cm)\": 93.76275496239025, \"species\": -1, \"url\": \"https://raw.githubusercontent.com/pabloinsente/nn-mod-cog/master/notebooks/images/owl.png\"}, {\"weight-(gm)\": 779.0953814675413, \"wingspan-(cm)\": 79.622455948603, \"species\": -1, \"url\": \"https://raw.githubusercontent.com/pabloinsente/nn-mod-cog/master/notebooks/images/owl.png\"}, {\"weight-(gm)\": 1138.0242940449416, \"wingspan-(cm)\": 92.28355162946822, \"species\": -1, \"url\": \"https://raw.githubusercontent.com/pabloinsente/nn-mod-cog/master/notebooks/images/owl.png\"}, {\"weight-(gm)\": 1137.3780132276809, \"wingspan-(cm)\": 96.75909819995108, \"species\": -1, \"url\": \"https://raw.githubusercontent.com/pabloinsente/nn-mod-cog/master/notebooks/images/owl.png\"}, {\"weight-(gm)\": 686.6624940843218, \"wingspan-(cm)\": 106.33570330632968, \"species\": -1, \"url\": \"https://raw.githubusercontent.com/pabloinsente/nn-mod-cog/master/notebooks/images/owl.png\"}, {\"weight-(gm)\": 1180.9948242933363, \"wingspan-(cm)\": 83.58935603451647, \"species\": -1, \"url\": \"https://raw.githubusercontent.com/pabloinsente/nn-mod-cog/master/notebooks/images/owl.png\"}, {\"weight-(gm)\": 1155.7644798646133, \"wingspan-(cm)\": 118.55361827785339, \"species\": -1, \"url\": \"https://raw.githubusercontent.com/pabloinsente/nn-mod-cog/master/notebooks/images/owl.png\"}, {\"weight-(gm)\": 1085.646574119348, \"wingspan-(cm)\": 96.54572982359338, \"species\": -1, \"url\": \"https://raw.githubusercontent.com/pabloinsente/nn-mod-cog/master/notebooks/images/owl.png\"}, {\"weight-(gm)\": 1021.7743979795829, \"wingspan-(cm)\": 89.43372700397465, \"species\": -1, \"url\": \"https://raw.githubusercontent.com/pabloinsente/nn-mod-cog/master/notebooks/images/owl.png\"}, {\"weight-(gm)\": 1005.6567269646147, \"wingspan-(cm)\": 91.12937318372242, \"species\": -1, \"url\": \"https://raw.githubusercontent.com/pabloinsente/nn-mod-cog/master/notebooks/images/owl.png\"}, {\"weight-(gm)\": 884.2348350418023, \"wingspan-(cm)\": 111.05492753527318, \"species\": -1, \"url\": \"https://raw.githubusercontent.com/pabloinsente/nn-mod-cog/master/notebooks/images/owl.png\"}, {\"weight-(gm)\": 760.1097601612138, \"wingspan-(cm)\": 106.53800878772365, \"species\": -1, \"url\": \"https://raw.githubusercontent.com/pabloinsente/nn-mod-cog/master/notebooks/images/owl.png\"}, {\"weight-(gm)\": 658.809598852366, \"wingspan-(cm)\": 126.6399037826015, \"species\": -1, \"url\": \"https://raw.githubusercontent.com/pabloinsente/nn-mod-cog/master/notebooks/images/owl.png\"}, {\"weight-(gm)\": 1073.8327914214012, \"wingspan-(cm)\": 107.69611568259468, \"species\": -1, \"url\": \"https://raw.githubusercontent.com/pabloinsente/nn-mod-cog/master/notebooks/images/owl.png\"}, {\"weight-(gm)\": 1375.3146853924331, \"wingspan-(cm)\": 117.55790474422216, \"species\": -1, \"url\": \"https://raw.githubusercontent.com/pabloinsente/nn-mod-cog/master/notebooks/images/owl.png\"}, {\"weight-(gm)\": 924.619329966205, \"wingspan-(cm)\": 131.16568348375304, \"species\": -1, \"url\": \"https://raw.githubusercontent.com/pabloinsente/nn-mod-cog/master/notebooks/images/owl.png\"}, {\"weight-(gm)\": 1366.3872163651072, \"wingspan-(cm)\": 93.1611697117897, \"species\": -1, \"url\": \"https://raw.githubusercontent.com/pabloinsente/nn-mod-cog/master/notebooks/images/owl.png\"}, {\"weight-(gm)\": 1000.6034868062428, \"wingspan-(cm)\": 109.73759390882023, \"species\": -1, \"url\": \"https://raw.githubusercontent.com/pabloinsente/nn-mod-cog/master/notebooks/images/owl.png\"}, {\"weight-(gm)\": 984.7953068550753, \"wingspan-(cm)\": 97.37827668322753, \"species\": -1, \"url\": \"https://raw.githubusercontent.com/pabloinsente/nn-mod-cog/master/notebooks/images/owl.png\"}, {\"weight-(gm)\": 1000.7915187975199, \"wingspan-(cm)\": 115.25896514876754, \"species\": -1, \"url\": \"https://raw.githubusercontent.com/pabloinsente/nn-mod-cog/master/notebooks/images/owl.png\"}, {\"weight-(gm)\": 962.9971778205772, \"wingspan-(cm)\": 91.000254327267, \"species\": -1, \"url\": \"https://raw.githubusercontent.com/pabloinsente/nn-mod-cog/master/notebooks/images/owl.png\"}, {\"weight-(gm)\": 502.5696929554461, \"wingspan-(cm)\": 123.64250086478809, \"species\": -1, \"url\": \"https://raw.githubusercontent.com/pabloinsente/nn-mod-cog/master/notebooks/images/owl.png\"}]}}, {\"mode\": \"vega-lite\"});\n",
       "</script>"
      ],
      "text/plain": [
       "alt.Chart(...)"
      ]
     },
     "execution_count": 11,
     "metadata": {},
     "output_type": "execute_result"
    }
   ],
   "source": [
    "import altair as alt\n",
    "\n",
    "alt.Chart(df).mark_image(\n",
    "    width=20,\n",
    "    height=20\n",
    ").encode(\n",
    "    x=\"weight-(gm)\",\n",
    "    y=\"wingspan-(cm)\",\n",
    "    url=\"url\"\n",
    ").properties(\n",
    "    title='Chart 1'\n",
    ")"
   ]
  },
  {
   "cell_type": "markdown",
   "metadata": {},
   "source": [
    "From **Chart 1** is clear that the albatross is considerably larger than the owls, therefore the perceptron should be able to find a plane to separate the data relatively fast."
   ]
  },
  {
   "cell_type": "markdown",
   "metadata": {},
   "source": [
    "### Perceptron training"
   ]
  },
  {
   "cell_type": "markdown",
   "metadata": {},
   "source": [
    "We have all pieces in place to test the perceptron. Before passing the data by the perceptron, we will shuffle the rows in the dataset. This is not technically necessary, but it would help the perceptron to converge faster."
   ]
  },
  {
   "cell_type": "code",
   "execution_count": 12,
   "metadata": {},
   "outputs": [],
   "source": [
    "df_shuffle = df.sample(frac=1, random_state=1).reset_index(drop=True)\n",
    "X = df_shuffle[['weight-(gm)','wingspan-(cm)']].to_numpy()\n",
    "y = df_shuffle['species'].to_numpy()"
   ]
  },
  {
   "cell_type": "markdown",
   "metadata": {},
   "source": [
    "We use the fit function, with a learning rate or $\\eta$ of 0.01, which means that it would update the weights by 1% of the total error at each time step. We will run 200 iterations of the algorithm. On each iteration, the entire dataset is passed by the algorithm once. "
   ]
  },
  {
   "cell_type": "code",
   "execution_count": 13,
   "metadata": {},
   "outputs": [],
   "source": [
    "w, errors = fit(X, y, eta=0.01, n_iter=200)"
   ]
  },
  {
   "cell_type": "markdown",
   "metadata": {},
   "source": [
    "The perceptron has learned a set of weights to separate the data. Let's compute the classification accuracy by dividing the number of *correct predictions* by the *expected targets*."
   ]
  },
  {
   "cell_type": "code",
   "execution_count": 14,
   "metadata": {},
   "outputs": [
    {
     "name": "stdout",
     "output_type": "stream",
     "text": [
      "Perceptron accuracy: 99.50%\n"
     ]
    }
   ],
   "source": [
    "y_pred = predict(X, w)\n",
    "num_correct_predictions = (y_pred == y).sum()\n",
    "accuracy = (num_correct_predictions / y.shape[0]) * 100\n",
    "print('Perceptron accuracy: %.2f%%' % accuracy)"
   ]
  },
  {
   "cell_type": "markdown",
   "metadata": {},
   "source": [
    "After 200 runs, the perceptron has reached 99.5% accuracy, meaning that it is misclassifying a single case at this point. Why not 100% accuracy? If you keep \"tweaking\" the $\\eta$ parameter and running more iterations, the perceptron will eventually find the set of weights to get 100% accuracy. Now, let's look at the reduction of error over iterations. "
   ]
  },
  {
   "cell_type": "code",
   "execution_count": 15,
   "metadata": {},
   "outputs": [
    {
     "data": {
      "text/html": [
       "\n",
       "<div id=\"altair-viz-f374790ebcfd4df59719a8a38b48e2b1\"></div>\n",
       "<script type=\"text/javascript\">\n",
       "  (function(spec, embedOpt){\n",
       "    const outputDiv = document.getElementById(\"altair-viz-f374790ebcfd4df59719a8a38b48e2b1\");\n",
       "    const paths = {\n",
       "      \"vega\": \"https://cdn.jsdelivr.net/npm//vega@5?noext\",\n",
       "      \"vega-lib\": \"https://cdn.jsdelivr.net/npm//vega-lib?noext\",\n",
       "      \"vega-lite\": \"https://cdn.jsdelivr.net/npm//vega-lite@4.0.2?noext\",\n",
       "      \"vega-embed\": \"https://cdn.jsdelivr.net/npm//vega-embed@6?noext\",\n",
       "    };\n",
       "\n",
       "    function loadScript(lib) {\n",
       "      return new Promise(function(resolve, reject) {\n",
       "        var s = document.createElement('script');\n",
       "        s.src = paths[lib];\n",
       "        s.async = true;\n",
       "        s.onload = () => resolve(paths[lib]);\n",
       "        s.onerror = () => reject(`Error loading script: ${paths[lib]}`);\n",
       "        document.getElementsByTagName(\"head\")[0].appendChild(s);\n",
       "      });\n",
       "    }\n",
       "\n",
       "    function showError(err) {\n",
       "      outputDiv.innerHTML = `<div class=\"error\" style=\"color:red;\">${err}</div>`;\n",
       "      throw err;\n",
       "    }\n",
       "\n",
       "    function displayChart(vegaEmbed) {\n",
       "      vegaEmbed(outputDiv, spec, embedOpt)\n",
       "        .catch(err => showError(`Javascript Error: ${err.message}<br>This usually means there's a typo in your chart specification. See the javascript console for the full traceback.`));\n",
       "    }\n",
       "\n",
       "    if(typeof define === \"function\" && define.amd) {\n",
       "      requirejs.config({paths});\n",
       "      require([\"vega-embed\"], displayChart, err => showError(`Error loading script: ${err.message}`));\n",
       "    } else if (typeof vegaEmbed === \"function\") {\n",
       "      displayChart(vegaEmbed);\n",
       "    } else {\n",
       "      loadScript(\"vega\")\n",
       "        .then(() => loadScript(\"vega-lite\"))\n",
       "        .then(() => loadScript(\"vega-embed\"))\n",
       "        .catch(showError)\n",
       "        .then(() => displayChart(vegaEmbed));\n",
       "    }\n",
       "  })({\"config\": {\"view\": {\"continuousWidth\": 400, \"continuousHeight\": 300}}, \"data\": {\"name\": \"data-02591404ec6ebf4a4ecdf15f3291bf27\"}, \"mark\": \"line\", \"encoding\": {\"x\": {\"type\": \"quantitative\", \"field\": \"time-step\"}, \"y\": {\"type\": \"quantitative\", \"field\": \"error\"}}, \"title\": \"Chart 2\", \"$schema\": \"https://vega.github.io/schema/vega-lite/v4.0.2.json\", \"datasets\": {\"data-02591404ec6ebf4a4ecdf15f3291bf27\": [{\"error\": 69, \"time-step\": 0}, {\"error\": 87, \"time-step\": 1}, {\"error\": 79, \"time-step\": 2}, {\"error\": 7, \"time-step\": 3}, {\"error\": 19, \"time-step\": 4}, {\"error\": 19, \"time-step\": 5}, {\"error\": 46, \"time-step\": 6}, {\"error\": 19, \"time-step\": 7}, {\"error\": 19, \"time-step\": 8}, {\"error\": 19, \"time-step\": 9}, {\"error\": 36, \"time-step\": 10}, {\"error\": 19, \"time-step\": 11}, {\"error\": 36, \"time-step\": 12}, {\"error\": 47, \"time-step\": 13}, {\"error\": 19, \"time-step\": 14}, {\"error\": 46, \"time-step\": 15}, {\"error\": 19, \"time-step\": 16}, {\"error\": 19, \"time-step\": 17}, {\"error\": 36, \"time-step\": 18}, {\"error\": 27, \"time-step\": 19}, {\"error\": 9, \"time-step\": 20}, {\"error\": 27, \"time-step\": 21}, {\"error\": 26, \"time-step\": 22}, {\"error\": 9, \"time-step\": 23}, {\"error\": 26, \"time-step\": 24}, {\"error\": 9, \"time-step\": 25}, {\"error\": 26, \"time-step\": 26}, {\"error\": 9, \"time-step\": 27}, {\"error\": 26, \"time-step\": 28}, {\"error\": 9, \"time-step\": 29}, {\"error\": 26, \"time-step\": 30}, {\"error\": 9, \"time-step\": 31}, {\"error\": 26, \"time-step\": 32}, {\"error\": 9, \"time-step\": 33}, {\"error\": 9, \"time-step\": 34}, {\"error\": 18, \"time-step\": 35}, {\"error\": 9, \"time-step\": 36}, {\"error\": 9, \"time-step\": 37}, {\"error\": 26, \"time-step\": 38}, {\"error\": 9, \"time-step\": 39}, {\"error\": 26, \"time-step\": 40}, {\"error\": 9, \"time-step\": 41}, {\"error\": 26, \"time-step\": 42}, {\"error\": 9, \"time-step\": 43}, {\"error\": 26, \"time-step\": 44}, {\"error\": 9, \"time-step\": 45}, {\"error\": 18, \"time-step\": 46}, {\"error\": 8, \"time-step\": 47}, {\"error\": 8, \"time-step\": 48}, {\"error\": 17, \"time-step\": 49}, {\"error\": 9, \"time-step\": 50}, {\"error\": 17, \"time-step\": 51}, {\"error\": 8, \"time-step\": 52}, {\"error\": 18, \"time-step\": 53}, {\"error\": 17, \"time-step\": 54}, {\"error\": 9, \"time-step\": 55}, {\"error\": 17, \"time-step\": 56}, {\"error\": 17, \"time-step\": 57}, {\"error\": 8, \"time-step\": 58}, {\"error\": 17, \"time-step\": 59}, {\"error\": 9, \"time-step\": 60}, {\"error\": 17, \"time-step\": 61}, {\"error\": 17, \"time-step\": 62}, {\"error\": 17, \"time-step\": 63}, {\"error\": 17, \"time-step\": 64}, {\"error\": 17, \"time-step\": 65}, {\"error\": 17, \"time-step\": 66}, {\"error\": 17, \"time-step\": 67}, {\"error\": 17, \"time-step\": 68}, {\"error\": 17, \"time-step\": 69}, {\"error\": 17, \"time-step\": 70}, {\"error\": 17, \"time-step\": 71}, {\"error\": 17, \"time-step\": 72}, {\"error\": 17, \"time-step\": 73}, {\"error\": 16, \"time-step\": 74}, {\"error\": 8, \"time-step\": 75}, {\"error\": 8, \"time-step\": 76}, {\"error\": 8, \"time-step\": 77}, {\"error\": 8, \"time-step\": 78}, {\"error\": 8, \"time-step\": 79}, {\"error\": 8, \"time-step\": 80}, {\"error\": 8, \"time-step\": 81}, {\"error\": 8, \"time-step\": 82}, {\"error\": 8, \"time-step\": 83}, {\"error\": 8, \"time-step\": 84}, {\"error\": 8, \"time-step\": 85}, {\"error\": 8, \"time-step\": 86}, {\"error\": 8, \"time-step\": 87}, {\"error\": 8, \"time-step\": 88}, {\"error\": 8, \"time-step\": 89}, {\"error\": 8, \"time-step\": 90}, {\"error\": 8, \"time-step\": 91}, {\"error\": 8, \"time-step\": 92}, {\"error\": 8, \"time-step\": 93}, {\"error\": 8, \"time-step\": 94}, {\"error\": 8, \"time-step\": 95}, {\"error\": 8, \"time-step\": 96}, {\"error\": 16, \"time-step\": 97}, {\"error\": 8, \"time-step\": 98}, {\"error\": 9, \"time-step\": 99}, {\"error\": 16, \"time-step\": 100}, {\"error\": 8, \"time-step\": 101}, {\"error\": 8, \"time-step\": 102}, {\"error\": 8, \"time-step\": 103}, {\"error\": 8, \"time-step\": 104}, {\"error\": 8, \"time-step\": 105}, {\"error\": 8, \"time-step\": 106}, {\"error\": 8, \"time-step\": 107}, {\"error\": 8, \"time-step\": 108}, {\"error\": 8, \"time-step\": 109}, {\"error\": 8, \"time-step\": 110}, {\"error\": 8, \"time-step\": 111}, {\"error\": 8, \"time-step\": 112}, {\"error\": 8, \"time-step\": 113}, {\"error\": 8, \"time-step\": 114}, {\"error\": 8, \"time-step\": 115}, {\"error\": 8, \"time-step\": 116}, {\"error\": 8, \"time-step\": 117}, {\"error\": 8, \"time-step\": 118}, {\"error\": 8, \"time-step\": 119}, {\"error\": 16, \"time-step\": 120}, {\"error\": 15, \"time-step\": 121}, {\"error\": 16, \"time-step\": 122}, {\"error\": 15, \"time-step\": 123}, {\"error\": 16, \"time-step\": 124}, {\"error\": 8, \"time-step\": 125}, {\"error\": 8, \"time-step\": 126}, {\"error\": 8, \"time-step\": 127}, {\"error\": 8, \"time-step\": 128}, {\"error\": 8, \"time-step\": 129}, {\"error\": 1, \"time-step\": 130}, {\"error\": 16, \"time-step\": 131}, {\"error\": 15, \"time-step\": 132}, {\"error\": 8, \"time-step\": 133}, {\"error\": 8, \"time-step\": 134}, {\"error\": 8, \"time-step\": 135}, {\"error\": 8, \"time-step\": 136}, {\"error\": 8, \"time-step\": 137}, {\"error\": 7, \"time-step\": 138}, {\"error\": 1, \"time-step\": 139}, {\"error\": 15, \"time-step\": 140}, {\"error\": 8, \"time-step\": 141}, {\"error\": 8, \"time-step\": 142}, {\"error\": 8, \"time-step\": 143}, {\"error\": 7, \"time-step\": 144}, {\"error\": 1, \"time-step\": 145}, {\"error\": 14, \"time-step\": 146}, {\"error\": 1, \"time-step\": 147}, {\"error\": 14, \"time-step\": 148}, {\"error\": 1, \"time-step\": 149}, {\"error\": 14, \"time-step\": 150}, {\"error\": 1, \"time-step\": 151}, {\"error\": 15, \"time-step\": 152}, {\"error\": 8, \"time-step\": 153}, {\"error\": 8, \"time-step\": 154}, {\"error\": 8, \"time-step\": 155}, {\"error\": 7, \"time-step\": 156}, {\"error\": 1, \"time-step\": 157}, {\"error\": 14, \"time-step\": 158}, {\"error\": 1, \"time-step\": 159}, {\"error\": 14, \"time-step\": 160}, {\"error\": 1, \"time-step\": 161}, {\"error\": 14, \"time-step\": 162}, {\"error\": 1, \"time-step\": 163}, {\"error\": 14, \"time-step\": 164}, {\"error\": 1, \"time-step\": 165}, {\"error\": 8, \"time-step\": 166}, {\"error\": 15, \"time-step\": 167}, {\"error\": 1, \"time-step\": 168}, {\"error\": 14, \"time-step\": 169}, {\"error\": 1, \"time-step\": 170}, {\"error\": 14, \"time-step\": 171}, {\"error\": 1, \"time-step\": 172}, {\"error\": 14, \"time-step\": 173}, {\"error\": 1, \"time-step\": 174}, {\"error\": 14, \"time-step\": 175}, {\"error\": 1, \"time-step\": 176}, {\"error\": 8, \"time-step\": 177}, {\"error\": 15, \"time-step\": 178}, {\"error\": 1, \"time-step\": 179}, {\"error\": 14, \"time-step\": 180}, {\"error\": 1, \"time-step\": 181}, {\"error\": 14, \"time-step\": 182}, {\"error\": 1, \"time-step\": 183}, {\"error\": 14, \"time-step\": 184}, {\"error\": 1, \"time-step\": 185}, {\"error\": 14, \"time-step\": 186}, {\"error\": 1, \"time-step\": 187}, {\"error\": 8, \"time-step\": 188}, {\"error\": 8, \"time-step\": 189}, {\"error\": 8, \"time-step\": 190}, {\"error\": 8, \"time-step\": 191}, {\"error\": 8, \"time-step\": 192}, {\"error\": 8, \"time-step\": 193}, {\"error\": 7, \"time-step\": 194}, {\"error\": 1, \"time-step\": 195}, {\"error\": 14, \"time-step\": 196}, {\"error\": 1, \"time-step\": 197}, {\"error\": 14, \"time-step\": 198}, {\"error\": 1, \"time-step\": 199}]}}, {\"mode\": \"vega-lite\"});\n",
       "</script>"
      ],
      "text/plain": [
       "alt.Chart(...)"
      ]
     },
     "execution_count": 15,
     "metadata": {},
     "output_type": "execute_result"
    }
   ],
   "source": [
    "error_df = pd.DataFrame({'error':errors, 'time-step': np.arange(0, len(errors))})\n",
    "\n",
    "alt.Chart(error_df).mark_line().encode(\n",
    "    x=\"time-step\", y=\"error\"\n",
    ").properties(\n",
    "    title='Chart 2'\n",
    ")"
   ]
  },
  {
   "cell_type": "markdown",
   "metadata": {},
   "source": [
    "As **Chart 2** shows, the more iterations, the lower the error. After around 80 time steps, the error reduction starts to oscillate around the same band instead of going down. This does not mean that the perceptron will not continue learning with more iterations. The behavior of the perceptron, and of neural networks more generally, tends to be a bit unpredictable. The perceptron can \"get stuck\" for a long period of time until suddenly finds better weights and the error drops. Tweaking the $\\eta$ is often necessary to reach absolute convergence. Actually, the $\\eta$ parameter is partially responsible for the oscillating behavior of the error at every time step. In general, the smaller the $\\eta$, the smaller the oscillation, and vice-versa. Smaller $\\eta$ values usually come at the cost of slowing down the learning processes. There are a lot of things to be said about the role of the learning rate in neural net convergence, that I  will not cover at this point to avoid conceptual overloading. I will say more about it in later chapters. "
   ]
  },
  {
   "cell_type": "markdown",
   "metadata": {},
   "source": [
    "## Perceptron limitations"
   ]
  },
  {
   "cell_type": "markdown",
   "metadata": {},
   "source": [
    "The most notable limitation of the perceptron is the so-called linear separability constraint. We will explore this limination in the next two examples."
   ]
  },
  {
   "cell_type": "markdown",
   "metadata": {},
   "source": [
    "### Example 1: the XOR problem"
   ]
  },
  {
   "cell_type": "markdown",
   "metadata": {},
   "source": [
    "As I mentioned previously in this Chapter, the perceptron is garanteed to find a solution to any classification problem, as long as the problem consist of *linearly separable classes*. This did not become apparent for Rosenblatt and other researchers at the time, until Minsky and Papert showed, with exquisite detail, the many instances on which the perceptron fails to find a solution. This was not an exercise of cherry-picking difficult problems to test the perceptron and then claim victory. Many of the situations on which the perceptron failed, where almost trivially easy to solve for humans. A famous one is the so-called \"XOR\" problem. An *XOR logic gate* (or exclusive OR gate) basically says: when the input patterns are the same, output 1; when they are different, output 0. A visual demostration of why the perceptron can't solve that is on **Figure 6**"
   ]
  },
  {
   "cell_type": "markdown",
   "metadata": {},
   "source": [
    "<center>Figure 6</center>\n",
    "\n",
    "<img src=\"images/perceptron/XOR_linear.svg\" width=\"80%\">"
   ]
  },
  {
   "cell_type": "markdown",
   "metadata": {},
   "source": [
    "The X-axis and Y-axis reflect the combination of binary features in the XOR problem (0 or 1). When X = Y = 0, the output should be 0, when X = 1 and Y = 0, the output should be 1. The dashed orange line represents the *decision boundary* generated by the perceptron. The red 1s and 0s represent incorrect classifications; the green 1s and 0s represent correct classifications. As we can see, there is *no way to generate a decision boundary capable of classifying all the instances correctly* (you can keep trying all possible straight lines, and won't work). The box in the lower right corner shows a case where all instances are correctly classified, but to do that we need two boundaries (or a curvy one) instead of one. There are two possible approaches to tackle this problem: (1) *changing the representation of the problem*, this is to say, generating some sort of transformation of the inputs into a space that is linearly separable, or (2) using a model that is not restricted to linear decision boundaries, i.e., *allowing for non-linearities in the model*. We will explore such solutions in later Chapters."
   ]
  },
  {
   "cell_type": "markdown",
   "metadata": {},
   "source": [
    "### Example 2: classifying albatross and condors"
   ]
  },
  {
   "cell_type": "markdown",
   "metadata": {},
   "source": [
    "Returning to our previous example, consider the problem of discriminating between the *Wandering Albatross* and the *Andean Condor*. Let's repeat the previous steps to reproduce the Chart and test the perceptron one more time."
   ]
  },
  {
   "cell_type": "code",
   "execution_count": 16,
   "metadata": {},
   "outputs": [],
   "source": [
    "condor_weight_mean = 12000 # in grams\n",
    "condor_weight_variance = 1000 # in grams\n",
    "condor_wingspan_mean = 290 # in cm\n",
    "condor_wingspan_variance = 15 # in cm \n",
    "n_samples = 100\n",
    "target = -1\n",
    "seed = 100\n",
    "\n",
    "# cX: feature matrix (weight, wingspan)\n",
    "# cy: target value (1)\n",
    "cX, cy = species_generator(condor_weight_mean, condor_weight_variance,\n",
    "                           condor_wingspan_mean, condor_wingspan_variance,\n",
    "                           n_samples,target,seed )"
   ]
  },
  {
   "cell_type": "code",
   "execution_count": 17,
   "metadata": {},
   "outputs": [],
   "source": [
    "condor_dic = {'weight-(gm)': cX[:,0],\n",
    "             'wingspan-(cm)': cX[:,1], \n",
    "             'species': cy,\n",
    "             'url': \"https://raw.githubusercontent.com/pabloinsente/nn-mod-cog/master/notebooks/images/condor.png\"}\n",
    "\n",
    "# put values in a relational table (pandas dataframe)\n",
    "condor_df = pd.DataFrame(condor_dic)"
   ]
  },
  {
   "cell_type": "code",
   "execution_count": 18,
   "metadata": {},
   "outputs": [],
   "source": [
    "df2 = albatross_df.append(condor_df, ignore_index=True)"
   ]
  },
  {
   "cell_type": "code",
   "execution_count": 19,
   "metadata": {},
   "outputs": [
    {
     "data": {
      "text/html": [
       "\n",
       "<div id=\"altair-viz-879147d327b442fca3990c6fb54ef1a9\"></div>\n",
       "<script type=\"text/javascript\">\n",
       "  (function(spec, embedOpt){\n",
       "    const outputDiv = document.getElementById(\"altair-viz-879147d327b442fca3990c6fb54ef1a9\");\n",
       "    const paths = {\n",
       "      \"vega\": \"https://cdn.jsdelivr.net/npm//vega@5?noext\",\n",
       "      \"vega-lib\": \"https://cdn.jsdelivr.net/npm//vega-lib?noext\",\n",
       "      \"vega-lite\": \"https://cdn.jsdelivr.net/npm//vega-lite@4.0.2?noext\",\n",
       "      \"vega-embed\": \"https://cdn.jsdelivr.net/npm//vega-embed@6?noext\",\n",
       "    };\n",
       "\n",
       "    function loadScript(lib) {\n",
       "      return new Promise(function(resolve, reject) {\n",
       "        var s = document.createElement('script');\n",
       "        s.src = paths[lib];\n",
       "        s.async = true;\n",
       "        s.onload = () => resolve(paths[lib]);\n",
       "        s.onerror = () => reject(`Error loading script: ${paths[lib]}`);\n",
       "        document.getElementsByTagName(\"head\")[0].appendChild(s);\n",
       "      });\n",
       "    }\n",
       "\n",
       "    function showError(err) {\n",
       "      outputDiv.innerHTML = `<div class=\"error\" style=\"color:red;\">${err}</div>`;\n",
       "      throw err;\n",
       "    }\n",
       "\n",
       "    function displayChart(vegaEmbed) {\n",
       "      vegaEmbed(outputDiv, spec, embedOpt)\n",
       "        .catch(err => showError(`Javascript Error: ${err.message}<br>This usually means there's a typo in your chart specification. See the javascript console for the full traceback.`));\n",
       "    }\n",
       "\n",
       "    if(typeof define === \"function\" && define.amd) {\n",
       "      requirejs.config({paths});\n",
       "      require([\"vega-embed\"], displayChart, err => showError(`Error loading script: ${err.message}`));\n",
       "    } else if (typeof vegaEmbed === \"function\") {\n",
       "      displayChart(vegaEmbed);\n",
       "    } else {\n",
       "      loadScript(\"vega\")\n",
       "        .then(() => loadScript(\"vega-lite\"))\n",
       "        .then(() => loadScript(\"vega-embed\"))\n",
       "        .catch(showError)\n",
       "        .then(() => displayChart(vegaEmbed));\n",
       "    }\n",
       "  })({\"config\": {\"view\": {\"continuousWidth\": 400, \"continuousHeight\": 300}}, \"data\": {\"name\": \"data-78ea670c68e7637c818e0cb513b4ec83\"}, \"mark\": {\"type\": \"image\", \"height\": 20, \"width\": 20}, \"encoding\": {\"url\": {\"type\": \"nominal\", \"field\": \"url\"}, \"x\": {\"type\": \"quantitative\", \"field\": \"weight-(gm)\", \"scale\": {\"domain\": [6000, 16000]}}, \"y\": {\"type\": \"quantitative\", \"field\": \"wingspan-(cm)\", \"scale\": {\"domain\": [220, 360]}}}, \"title\": \"Chart 3\", \"$schema\": \"https://vega.github.io/schema/vega-lite/v4.0.2.json\", \"datasets\": {\"data-78ea670c68e7637c818e0cb513b4ec83\": [{\"weight-(gm)\": 7600.187621556242, \"wingspan-(cm)\": 265.90697588478076, \"species\": 1, \"url\": \"https://raw.githubusercontent.com/pabloinsente/nn-mod-cog/master/notebooks/images/albatross.png\"}, {\"weight-(gm)\": 9274.144322662001, \"wingspan-(cm)\": 277.27477986345275, \"species\": 1, \"url\": \"https://raw.githubusercontent.com/pabloinsente/nn-mod-cog/master/notebooks/images/albatross.png\"}, {\"weight-(gm)\": 9922.428642050916, \"wingspan-(cm)\": 240.5336905189823, \"species\": 1, \"url\": \"https://raw.githubusercontent.com/pabloinsente/nn-mod-cog/master/notebooks/images/albatross.png\"}, {\"weight-(gm)\": 8798.051170782888, \"wingspan-(cm)\": 300.6663455627773, \"species\": 1, \"url\": \"https://raw.githubusercontent.com/pabloinsente/nn-mod-cog/master/notebooks/images/albatross.png\"}, {\"weight-(gm)\": 9785.056629560986, \"wingspan-(cm)\": 295.02222665883784, \"species\": 1, \"url\": \"https://raw.githubusercontent.com/pabloinsente/nn-mod-cog/master/notebooks/images/albatross.png\"}, {\"weight-(gm)\": 9411.375073115505, \"wingspan-(cm)\": 290.996471299767, \"species\": 1, \"url\": \"https://raw.githubusercontent.com/pabloinsente/nn-mod-cog/master/notebooks/images/albatross.png\"}, {\"weight-(gm)\": 9176.94373537712, \"wingspan-(cm)\": 302.64855602297547, \"species\": 1, \"url\": \"https://raw.githubusercontent.com/pabloinsente/nn-mod-cog/master/notebooks/images/albatross.png\"}, {\"weight-(gm)\": 8143.965335545366, \"wingspan-(cm)\": 300.44427856078784, \"species\": 1, \"url\": \"https://raw.githubusercontent.com/pabloinsente/nn-mod-cog/master/notebooks/images/albatross.png\"}, {\"weight-(gm)\": 8848.40333534146, \"wingspan-(cm)\": 306.34735951882135, \"species\": 1, \"url\": \"https://raw.githubusercontent.com/pabloinsente/nn-mod-cog/master/notebooks/images/albatross.png\"}, {\"weight-(gm)\": 9204.001155418706, \"wingspan-(cm)\": 284.95171644549924, \"species\": 1, \"url\": \"https://raw.githubusercontent.com/pabloinsente/nn-mod-cog/master/notebooks/images/albatross.png\"}, {\"weight-(gm)\": 8633.5784115979, \"wingspan-(cm)\": 274.072163856997, \"species\": 1, \"url\": \"https://raw.githubusercontent.com/pabloinsente/nn-mod-cog/master/notebooks/images/albatross.png\"}, {\"weight-(gm)\": 9348.130790498313, \"wingspan-(cm)\": 301.90278887130904, \"species\": 1, \"url\": \"https://raw.githubusercontent.com/pabloinsente/nn-mod-cog/master/notebooks/images/albatross.png\"}, {\"weight-(gm)\": 8533.123959741868, \"wingspan-(cm)\": 291.5256980011316, \"species\": 1, \"url\": \"https://raw.githubusercontent.com/pabloinsente/nn-mod-cog/master/notebooks/images/albatross.png\"}, {\"weight-(gm)\": 9653.477657348623, \"wingspan-(cm)\": 276.2803287014165, \"species\": 1, \"url\": \"https://raw.githubusercontent.com/pabloinsente/nn-mod-cog/master/notebooks/images/albatross.png\"}, {\"weight-(gm)\": 9538.17664456773, \"wingspan-(cm)\": 292.6907601464675, \"species\": 1, \"url\": \"https://raw.githubusercontent.com/pabloinsente/nn-mod-cog/master/notebooks/images/albatross.png\"}, {\"weight-(gm)\": 8916.471085287498, \"wingspan-(cm)\": 274.5795391830668, \"species\": 1, \"url\": \"https://raw.githubusercontent.com/pabloinsente/nn-mod-cog/master/notebooks/images/albatross.png\"}, {\"weight-(gm)\": 8574.975698518472, \"wingspan-(cm)\": 331.7234187684647, \"species\": 1, \"url\": \"https://raw.githubusercontent.com/pabloinsente/nn-mod-cog/master/notebooks/images/albatross.png\"}, {\"weight-(gm)\": 9823.786148106678, \"wingspan-(cm)\": 313.8678131703318, \"species\": 1, \"url\": \"https://raw.githubusercontent.com/pabloinsente/nn-mod-cog/master/notebooks/images/albatross.png\"}, {\"weight-(gm)\": 8649.491501836466, \"wingspan-(cm)\": 260.83837531584265, \"species\": 1, \"url\": \"https://raw.githubusercontent.com/pabloinsente/nn-mod-cog/master/notebooks/images/albatross.png\"}, {\"weight-(gm)\": 8105.345402995651, \"wingspan-(cm)\": 297.3039737602001, \"species\": 1, \"url\": \"https://raw.githubusercontent.com/pabloinsente/nn-mod-cog/master/notebooks/images/albatross.png\"}, {\"weight-(gm)\": 10295.185328540207, \"wingspan-(cm)\": 269.1876795089477, \"species\": 1, \"url\": \"https://raw.githubusercontent.com/pabloinsente/nn-mod-cog/master/notebooks/images/albatross.png\"}, {\"weight-(gm)\": 10233.284139610725, \"wingspan-(cm)\": 340.93427936964275, \"species\": 1, \"url\": \"https://raw.githubusercontent.com/pabloinsente/nn-mod-cog/master/notebooks/images/albatross.png\"}, {\"weight-(gm)\": 8798.49668862943, \"wingspan-(cm)\": 272.0600131009343, \"species\": 1, \"url\": \"https://raw.githubusercontent.com/pabloinsente/nn-mod-cog/master/notebooks/images/albatross.png\"}, {\"weight-(gm)\": 8326.051409398962, \"wingspan-(cm)\": 278.05656030720354, \"species\": 1, \"url\": \"https://raw.githubusercontent.com/pabloinsente/nn-mod-cog/master/notebooks/images/albatross.png\"}, {\"weight-(gm)\": 9147.614952451155, \"wingspan-(cm)\": 295.2257426137064, \"species\": 1, \"url\": \"https://raw.githubusercontent.com/pabloinsente/nn-mod-cog/master/notebooks/images/albatross.png\"}, {\"weight-(gm)\": 9749.665760887161, \"wingspan-(cm)\": 271.41866203103416, \"species\": 1, \"url\": \"https://raw.githubusercontent.com/pabloinsente/nn-mod-cog/master/notebooks/images/albatross.png\"}, {\"weight-(gm)\": 9584.800275067846, \"wingspan-(cm)\": 318.9800955301052, \"species\": 1, \"url\": \"https://raw.githubusercontent.com/pabloinsente/nn-mod-cog/master/notebooks/images/albatross.png\"}, {\"weight-(gm)\": 10089.244900116264, \"wingspan-(cm)\": 299.6120482807507, \"species\": 1, \"url\": \"https://raw.githubusercontent.com/pabloinsente/nn-mod-cog/master/notebooks/images/albatross.png\"}, {\"weight-(gm)\": 8739.009552638157, \"wingspan-(cm)\": 317.8919541152003, \"species\": 1, \"url\": \"https://raw.githubusercontent.com/pabloinsente/nn-mod-cog/master/notebooks/images/albatross.png\"}, {\"weight-(gm)\": 9044.540811883822, \"wingspan-(cm)\": 315.1938623970041, \"species\": 1, \"url\": \"https://raw.githubusercontent.com/pabloinsente/nn-mod-cog/master/notebooks/images/albatross.png\"}, {\"weight-(gm)\": 9177.919686844243, \"wingspan-(cm)\": 270.0455923783366, \"species\": 1, \"url\": \"https://raw.githubusercontent.com/pabloinsente/nn-mod-cog/master/notebooks/images/albatross.png\"}, {\"weight-(gm)\": 7845.426403819731, \"wingspan-(cm)\": 276.12228046416124, \"species\": 1, \"url\": \"https://raw.githubusercontent.com/pabloinsente/nn-mod-cog/master/notebooks/images/albatross.png\"}, {\"weight-(gm)\": 8394.918155524452, \"wingspan-(cm)\": 325.92525172798116, \"species\": 1, \"url\": \"https://raw.githubusercontent.com/pabloinsente/nn-mod-cog/master/notebooks/images/albatross.png\"}, {\"weight-(gm)\": 9653.16320881543, \"wingspan-(cm)\": 319.0455125216378, \"species\": 1, \"url\": \"https://raw.githubusercontent.com/pabloinsente/nn-mod-cog/master/notebooks/images/albatross.png\"}, {\"weight-(gm)\": 9600.355809227343, \"wingspan-(cm)\": 275.6549173871797, \"species\": 1, \"url\": \"https://raw.githubusercontent.com/pabloinsente/nn-mod-cog/master/notebooks/images/albatross.png\"}, {\"weight-(gm)\": 8635.242458025597, \"wingspan-(cm)\": 296.85469665249724, \"species\": 1, \"url\": \"https://raw.githubusercontent.com/pabloinsente/nn-mod-cog/master/notebooks/images/albatross.png\"}, {\"weight-(gm)\": 9951.6978144233, \"wingspan-(cm)\": 269.84829679471227, \"species\": 1, \"url\": \"https://raw.githubusercontent.com/pabloinsente/nn-mod-cog/master/notebooks/images/albatross.png\"}, {\"weight-(gm)\": 7647.506538893116, \"wingspan-(cm)\": 302.15768261613226, \"species\": 1, \"url\": \"https://raw.githubusercontent.com/pabloinsente/nn-mod-cog/master/notebooks/images/albatross.png\"}, {\"weight-(gm)\": 7914.88076091095, \"wingspan-(cm)\": 314.941113101983, \"species\": 1, \"url\": \"https://raw.githubusercontent.com/pabloinsente/nn-mod-cog/master/notebooks/images/albatross.png\"}, {\"weight-(gm)\": 8014.052388868059, \"wingspan-(cm)\": 308.5935287172522, \"species\": 1, \"url\": \"https://raw.githubusercontent.com/pabloinsente/nn-mod-cog/master/notebooks/images/albatross.png\"}, {\"weight-(gm)\": 8564.448670662028, \"wingspan-(cm)\": 271.6991415829495, \"species\": 1, \"url\": \"https://raw.githubusercontent.com/pabloinsente/nn-mod-cog/master/notebooks/images/albatross.png\"}, {\"weight-(gm)\": 8465.462610549257, \"wingspan-(cm)\": 287.18480153978857, \"species\": 1, \"url\": \"https://raw.githubusercontent.com/pabloinsente/nn-mod-cog/master/notebooks/images/albatross.png\"}, {\"weight-(gm)\": 9005.851650583123, \"wingspan-(cm)\": 315.5925260732739, \"species\": 1, \"url\": \"https://raw.githubusercontent.com/pabloinsente/nn-mod-cog/master/notebooks/images/albatross.png\"}, {\"weight-(gm)\": 8509.64901161747, \"wingspan-(cm)\": 291.23758167302316, \"species\": 1, \"url\": \"https://raw.githubusercontent.com/pabloinsente/nn-mod-cog/master/notebooks/images/albatross.png\"}, {\"weight-(gm)\": 10039.798459804248, \"wingspan-(cm)\": 341.49586335893133, \"species\": 1, \"url\": \"https://raw.githubusercontent.com/pabloinsente/nn-mod-cog/master/notebooks/images/albatross.png\"}, {\"weight-(gm)\": 7613.523501077375, \"wingspan-(cm)\": 293.1340463563506, \"species\": 1, \"url\": \"https://raw.githubusercontent.com/pabloinsente/nn-mod-cog/master/notebooks/images/albatross.png\"}, {\"weight-(gm)\": 8213.351920696296, \"wingspan-(cm)\": 287.6674125663361, \"species\": 1, \"url\": \"https://raw.githubusercontent.com/pabloinsente/nn-mod-cog/master/notebooks/images/albatross.png\"}, {\"weight-(gm)\": 9286.006202533892, \"wingspan-(cm)\": 315.2636729211998, \"species\": 1, \"url\": \"https://raw.githubusercontent.com/pabloinsente/nn-mod-cog/master/notebooks/images/albatross.png\"}, {\"weight-(gm)\": 7709.13719774226, \"wingspan-(cm)\": 303.85834383646613, \"species\": 1, \"url\": \"https://raw.githubusercontent.com/pabloinsente/nn-mod-cog/master/notebooks/images/albatross.png\"}, {\"weight-(gm)\": 10176.571093289704, \"wingspan-(cm)\": 293.0308213869526, \"species\": 1, \"url\": \"https://raw.githubusercontent.com/pabloinsente/nn-mod-cog/master/notebooks/images/albatross.png\"}, {\"weight-(gm)\": 8049.585922145825, \"wingspan-(cm)\": 345.9730788142735, \"species\": 1, \"url\": \"https://raw.githubusercontent.com/pabloinsente/nn-mod-cog/master/notebooks/images/albatross.png\"}, {\"weight-(gm)\": 8560.20304517161, \"wingspan-(cm)\": 296.69580894718536, \"species\": 1, \"url\": \"https://raw.githubusercontent.com/pabloinsente/nn-mod-cog/master/notebooks/images/albatross.png\"}, {\"weight-(gm)\": 8247.963070764185, \"wingspan-(cm)\": 309.3259873671438, \"species\": 1, \"url\": \"https://raw.githubusercontent.com/pabloinsente/nn-mod-cog/master/notebooks/images/albatross.png\"}, {\"weight-(gm)\": 8337.654108507304, \"wingspan-(cm)\": 305.3997447726218, \"species\": 1, \"url\": \"https://raw.githubusercontent.com/pabloinsente/nn-mod-cog/master/notebooks/images/albatross.png\"}, {\"weight-(gm)\": 9087.090774266944, \"wingspan-(cm)\": 293.6033790576382, \"species\": 1, \"url\": \"https://raw.githubusercontent.com/pabloinsente/nn-mod-cog/master/notebooks/images/albatross.png\"}, {\"weight-(gm)\": 9406.247672393856, \"wingspan-(cm)\": 277.04516800246824, \"species\": 1, \"url\": \"https://raw.githubusercontent.com/pabloinsente/nn-mod-cog/master/notebooks/images/albatross.png\"}, {\"weight-(gm)\": 8310.218122791615, \"wingspan-(cm)\": 334.0724797624141, \"species\": 1, \"url\": \"https://raw.githubusercontent.com/pabloinsente/nn-mod-cog/master/notebooks/images/albatross.png\"}, {\"weight-(gm)\": 9999.575794181583, \"wingspan-(cm)\": 285.5569845988849, \"species\": 1, \"url\": \"https://raw.githubusercontent.com/pabloinsente/nn-mod-cog/master/notebooks/images/albatross.png\"}, {\"weight-(gm)\": 8936.31100326608, \"wingspan-(cm)\": 321.87373299317443, \"species\": 1, \"url\": \"https://raw.githubusercontent.com/pabloinsente/nn-mod-cog/master/notebooks/images/albatross.png\"}, {\"weight-(gm)\": 8288.214814987972, \"wingspan-(cm)\": 295.4096449352009, \"species\": 1, \"url\": \"https://raw.githubusercontent.com/pabloinsente/nn-mod-cog/master/notebooks/images/albatross.png\"}, {\"weight-(gm)\": 8294.561288413586, \"wingspan-(cm)\": 299.8220267341578, \"species\": 1, \"url\": \"https://raw.githubusercontent.com/pabloinsente/nn-mod-cog/master/notebooks/images/albatross.png\"}, {\"weight-(gm)\": 9014.911159590449, \"wingspan-(cm)\": 289.1360398318566, \"species\": 1, \"url\": \"https://raw.githubusercontent.com/pabloinsente/nn-mod-cog/master/notebooks/images/albatross.png\"}, {\"weight-(gm)\": 9190.275697538897, \"wingspan-(cm)\": 315.06124375383956, \"species\": 1, \"url\": \"https://raw.githubusercontent.com/pabloinsente/nn-mod-cog/master/notebooks/images/albatross.png\"}, {\"weight-(gm)\": 9010.83883890289, \"wingspan-(cm)\": 267.8112220765409, \"species\": 1, \"url\": \"https://raw.githubusercontent.com/pabloinsente/nn-mod-cog/master/notebooks/images/albatross.png\"}, {\"weight-(gm)\": 7691.576480495342, \"wingspan-(cm)\": 338.8652452686799, \"species\": 1, \"url\": \"https://raw.githubusercontent.com/pabloinsente/nn-mod-cog/master/notebooks/images/albatross.png\"}, {\"weight-(gm)\": 8164.632097832547, \"wingspan-(cm)\": 271.0512777536083, \"species\": 1, \"url\": \"https://raw.githubusercontent.com/pabloinsente/nn-mod-cog/master/notebooks/images/albatross.png\"}, {\"weight-(gm)\": 9490.431105350037, \"wingspan-(cm)\": 302.60496910705405, \"species\": 1, \"url\": \"https://raw.githubusercontent.com/pabloinsente/nn-mod-cog/master/notebooks/images/albatross.png\"}, {\"weight-(gm)\": 9588.96417065906, \"wingspan-(cm)\": 318.9872172932197, \"species\": 1, \"url\": \"https://raw.githubusercontent.com/pabloinsente/nn-mod-cog/master/notebooks/images/albatross.png\"}, {\"weight-(gm)\": 9821.537151519833, \"wingspan-(cm)\": 259.69622565754946, \"species\": 1, \"url\": \"https://raw.githubusercontent.com/pabloinsente/nn-mod-cog/master/notebooks/images/albatross.png\"}, {\"weight-(gm)\": 7854.247511152858, \"wingspan-(cm)\": 298.40918826131775, \"species\": 1, \"url\": \"https://raw.githubusercontent.com/pabloinsente/nn-mod-cog/master/notebooks/images/albatross.png\"}, {\"weight-(gm)\": 7527.049359850626, \"wingspan-(cm)\": 306.0209892757613, \"species\": 1, \"url\": \"https://raw.githubusercontent.com/pabloinsente/nn-mod-cog/master/notebooks/images/albatross.png\"}, {\"weight-(gm)\": 9292.874580933843, \"wingspan-(cm)\": 266.3020007662964, \"species\": 1, \"url\": \"https://raw.githubusercontent.com/pabloinsente/nn-mod-cog/master/notebooks/images/albatross.png\"}, {\"weight-(gm)\": 8734.578291957752, \"wingspan-(cm)\": 304.447816188909, \"species\": 1, \"url\": \"https://raw.githubusercontent.com/pabloinsente/nn-mod-cog/master/notebooks/images/albatross.png\"}, {\"weight-(gm)\": 8448.625617528198, \"wingspan-(cm)\": 286.3015652950554, \"species\": 1, \"url\": \"https://raw.githubusercontent.com/pabloinsente/nn-mod-cog/master/notebooks/images/albatross.png\"}, {\"weight-(gm)\": 10627.686049203947, \"wingspan-(cm)\": 297.4759763257285, \"species\": 1, \"url\": \"https://raw.githubusercontent.com/pabloinsente/nn-mod-cog/master/notebooks/images/albatross.png\"}, {\"weight-(gm)\": 8559.428470468325, \"wingspan-(cm)\": 339.8054729950818, \"species\": 1, \"url\": \"https://raw.githubusercontent.com/pabloinsente/nn-mod-cog/master/notebooks/images/albatross.png\"}, {\"weight-(gm)\": 9600.362664261473, \"wingspan-(cm)\": 310.459956090415, \"species\": 1, \"url\": \"https://raw.githubusercontent.com/pabloinsente/nn-mod-cog/master/notebooks/images/albatross.png\"}, {\"weight-(gm)\": 7954.406128735345, \"wingspan-(cm)\": 299.6730919448503, \"species\": 1, \"url\": \"https://raw.githubusercontent.com/pabloinsente/nn-mod-cog/master/notebooks/images/albatross.png\"}, {\"weight-(gm)\": 9464.45866863542, \"wingspan-(cm)\": 291.683673283187, \"species\": 1, \"url\": \"https://raw.githubusercontent.com/pabloinsente/nn-mod-cog/master/notebooks/images/albatross.png\"}, {\"weight-(gm)\": 8116.381525870165, \"wingspan-(cm)\": 272.829941264804, \"species\": 1, \"url\": \"https://raw.githubusercontent.com/pabloinsente/nn-mod-cog/master/notebooks/images/albatross.png\"}, {\"weight-(gm)\": 9552.097176179766, \"wingspan-(cm)\": 289.7114021726243, \"species\": 1, \"url\": \"https://raw.githubusercontent.com/pabloinsente/nn-mod-cog/master/notebooks/images/albatross.png\"}, {\"weight-(gm)\": 9549.512052910724, \"wingspan-(cm)\": 295.6787975999348, \"species\": 1, \"url\": \"https://raw.githubusercontent.com/pabloinsente/nn-mod-cog/master/notebooks/images/albatross.png\"}, {\"weight-(gm)\": 7746.649976337287, \"wingspan-(cm)\": 308.4476044084396, \"species\": 1, \"url\": \"https://raw.githubusercontent.com/pabloinsente/nn-mod-cog/master/notebooks/images/albatross.png\"}, {\"weight-(gm)\": 9723.979297173344, \"wingspan-(cm)\": 278.1191413793553, \"species\": 1, \"url\": \"https://raw.githubusercontent.com/pabloinsente/nn-mod-cog/master/notebooks/images/albatross.png\"}, {\"weight-(gm)\": 9623.057919458453, \"wingspan-(cm)\": 324.7381577038045, \"species\": 1, \"url\": \"https://raw.githubusercontent.com/pabloinsente/nn-mod-cog/master/notebooks/images/albatross.png\"}, {\"weight-(gm)\": 9342.586296477393, \"wingspan-(cm)\": 295.39430643145784, \"species\": 1, \"url\": \"https://raw.githubusercontent.com/pabloinsente/nn-mod-cog/master/notebooks/images/albatross.png\"}, {\"weight-(gm)\": 9087.097591918331, \"wingspan-(cm)\": 285.91163600529956, \"species\": 1, \"url\": \"https://raw.githubusercontent.com/pabloinsente/nn-mod-cog/master/notebooks/images/albatross.png\"}, {\"weight-(gm)\": 9022.62690785846, \"wingspan-(cm)\": 288.17249757829654, \"species\": 1, \"url\": \"https://raw.githubusercontent.com/pabloinsente/nn-mod-cog/master/notebooks/images/albatross.png\"}, {\"weight-(gm)\": 8536.93934016721, \"wingspan-(cm)\": 314.73990338036424, \"species\": 1, \"url\": \"https://raw.githubusercontent.com/pabloinsente/nn-mod-cog/master/notebooks/images/albatross.png\"}, {\"weight-(gm)\": 8040.439040644855, \"wingspan-(cm)\": 308.7173450502982, \"species\": 1, \"url\": \"https://raw.githubusercontent.com/pabloinsente/nn-mod-cog/master/notebooks/images/albatross.png\"}, {\"weight-(gm)\": 7635.238395409464, \"wingspan-(cm)\": 335.51987171013536, \"species\": 1, \"url\": \"https://raw.githubusercontent.com/pabloinsente/nn-mod-cog/master/notebooks/images/albatross.png\"}, {\"weight-(gm)\": 9295.331165685604, \"wingspan-(cm)\": 310.2614875767929, \"species\": 1, \"url\": \"https://raw.githubusercontent.com/pabloinsente/nn-mod-cog/master/notebooks/images/albatross.png\"}, {\"weight-(gm)\": 10501.258741569733, \"wingspan-(cm)\": 323.4105396589629, \"species\": 1, \"url\": \"https://raw.githubusercontent.com/pabloinsente/nn-mod-cog/master/notebooks/images/albatross.png\"}, {\"weight-(gm)\": 8698.47731986482, \"wingspan-(cm)\": 341.5542446450041, \"species\": 1, \"url\": \"https://raw.githubusercontent.com/pabloinsente/nn-mod-cog/master/notebooks/images/albatross.png\"}, {\"weight-(gm)\": 10465.548865460429, \"wingspan-(cm)\": 290.8815596157196, \"species\": 1, \"url\": \"https://raw.githubusercontent.com/pabloinsente/nn-mod-cog/master/notebooks/images/albatross.png\"}, {\"weight-(gm)\": 9002.413947224972, \"wingspan-(cm)\": 312.98345854509364, \"species\": 1, \"url\": \"https://raw.githubusercontent.com/pabloinsente/nn-mod-cog/master/notebooks/images/albatross.png\"}, {\"weight-(gm)\": 8939.181227420302, \"wingspan-(cm)\": 296.50436891097, \"species\": 1, \"url\": \"https://raw.githubusercontent.com/pabloinsente/nn-mod-cog/master/notebooks/images/albatross.png\"}, {\"weight-(gm)\": 9003.16607519008, \"wingspan-(cm)\": 320.3452868650234, \"species\": 1, \"url\": \"https://raw.githubusercontent.com/pabloinsente/nn-mod-cog/master/notebooks/images/albatross.png\"}, {\"weight-(gm)\": 8851.988711282309, \"wingspan-(cm)\": 288.00033910302267, \"species\": 1, \"url\": \"https://raw.githubusercontent.com/pabloinsente/nn-mod-cog/master/notebooks/images/albatross.png\"}, {\"weight-(gm)\": 7010.278771821784, \"wingspan-(cm)\": 331.5233344863841, \"species\": 1, \"url\": \"https://raw.githubusercontent.com/pabloinsente/nn-mod-cog/master/notebooks/images/albatross.png\"}, {\"weight-(gm)\": 10250.234526945304, \"wingspan-(cm)\": 264.43023191358554, \"species\": -1, \"url\": \"https://raw.githubusercontent.com/pabloinsente/nn-mod-cog/master/notebooks/images/condor.png\"}, {\"weight-(gm)\": 12342.680403327502, \"wingspan-(cm)\": 272.95608489758956, \"species\": -1, \"url\": \"https://raw.githubusercontent.com/pabloinsente/nn-mod-cog/master/notebooks/images/condor.png\"}, {\"weight-(gm)\": 13153.035802563643, \"wingspan-(cm)\": 245.40026788923672, \"species\": -1, \"url\": \"https://raw.githubusercontent.com/pabloinsente/nn-mod-cog/master/notebooks/images/condor.png\"}, {\"weight-(gm)\": 11747.56396347861, \"wingspan-(cm)\": 290.4997591720829, \"species\": -1, \"url\": \"https://raw.githubusercontent.com/pabloinsente/nn-mod-cog/master/notebooks/images/condor.png\"}, {\"weight-(gm)\": 12981.320786951232, \"wingspan-(cm)\": 286.2666699941284, \"species\": -1, \"url\": \"https://raw.githubusercontent.com/pabloinsente/nn-mod-cog/master/notebooks/images/condor.png\"}, {\"weight-(gm)\": 12514.218841394382, \"wingspan-(cm)\": 283.2473534748252, \"species\": -1, \"url\": \"https://raw.githubusercontent.com/pabloinsente/nn-mod-cog/master/notebooks/images/condor.png\"}, {\"weight-(gm)\": 12221.179669221401, \"wingspan-(cm)\": 291.9864170172316, \"species\": -1, \"url\": \"https://raw.githubusercontent.com/pabloinsente/nn-mod-cog/master/notebooks/images/condor.png\"}, {\"weight-(gm)\": 10929.956669431707, \"wingspan-(cm)\": 290.3332089205909, \"species\": -1, \"url\": \"https://raw.githubusercontent.com/pabloinsente/nn-mod-cog/master/notebooks/images/condor.png\"}, {\"weight-(gm)\": 11810.504169176824, \"wingspan-(cm)\": 294.760519639116, \"species\": -1, \"url\": \"https://raw.githubusercontent.com/pabloinsente/nn-mod-cog/master/notebooks/images/condor.png\"}, {\"weight-(gm)\": 12255.001444273381, \"wingspan-(cm)\": 278.71378733412445, \"species\": -1, \"url\": \"https://raw.githubusercontent.com/pabloinsente/nn-mod-cog/master/notebooks/images/condor.png\"}, {\"weight-(gm)\": 11541.973014497376, \"wingspan-(cm)\": 270.5541228927477, \"species\": -1, \"url\": \"https://raw.githubusercontent.com/pabloinsente/nn-mod-cog/master/notebooks/images/condor.png\"}, {\"weight-(gm)\": 12435.163488122893, \"wingspan-(cm)\": 291.4270916534818, \"species\": -1, \"url\": \"https://raw.githubusercontent.com/pabloinsente/nn-mod-cog/master/notebooks/images/condor.png\"}, {\"weight-(gm)\": 11416.404949677335, \"wingspan-(cm)\": 283.64427350084867, \"species\": -1, \"url\": \"https://raw.githubusercontent.com/pabloinsente/nn-mod-cog/master/notebooks/images/condor.png\"}, {\"weight-(gm)\": 12816.84707168578, \"wingspan-(cm)\": 272.2102465260624, \"species\": -1, \"url\": \"https://raw.githubusercontent.com/pabloinsente/nn-mod-cog/master/notebooks/images/condor.png\"}, {\"weight-(gm)\": 12672.720805709661, \"wingspan-(cm)\": 284.5180701098506, \"species\": -1, \"url\": \"https://raw.githubusercontent.com/pabloinsente/nn-mod-cog/master/notebooks/images/condor.png\"}, {\"weight-(gm)\": 11895.588856609373, \"wingspan-(cm)\": 270.9346543873001, \"species\": -1, \"url\": \"https://raw.githubusercontent.com/pabloinsente/nn-mod-cog/master/notebooks/images/condor.png\"}, {\"weight-(gm)\": 11468.71962314809, \"wingspan-(cm)\": 313.7925640763485, \"species\": -1, \"url\": \"https://raw.githubusercontent.com/pabloinsente/nn-mod-cog/master/notebooks/images/condor.png\"}, {\"weight-(gm)\": 13029.732685133346, \"wingspan-(cm)\": 300.4008598777488, \"species\": -1, \"url\": \"https://raw.githubusercontent.com/pabloinsente/nn-mod-cog/master/notebooks/images/condor.png\"}, {\"weight-(gm)\": 11561.864377295582, \"wingspan-(cm)\": 260.628781486882, \"species\": -1, \"url\": \"https://raw.githubusercontent.com/pabloinsente/nn-mod-cog/master/notebooks/images/condor.png\"}, {\"weight-(gm)\": 10881.681753744564, \"wingspan-(cm)\": 287.9779803201501, \"species\": -1, \"url\": \"https://raw.githubusercontent.com/pabloinsente/nn-mod-cog/master/notebooks/images/condor.png\"}, {\"weight-(gm)\": 13618.98166067526, \"wingspan-(cm)\": 266.8907596317108, \"species\": -1, \"url\": \"https://raw.githubusercontent.com/pabloinsente/nn-mod-cog/master/notebooks/images/condor.png\"}, {\"weight-(gm)\": 13541.605174513406, \"wingspan-(cm)\": 320.7007095272321, \"species\": -1, \"url\": \"https://raw.githubusercontent.com/pabloinsente/nn-mod-cog/master/notebooks/images/condor.png\"}, {\"weight-(gm)\": 11748.120860786787, \"wingspan-(cm)\": 269.04500982570073, \"species\": -1, \"url\": \"https://raw.githubusercontent.com/pabloinsente/nn-mod-cog/master/notebooks/images/condor.png\"}, {\"weight-(gm)\": 11157.564261748703, \"wingspan-(cm)\": 273.5424202304027, \"species\": -1, \"url\": \"https://raw.githubusercontent.com/pabloinsente/nn-mod-cog/master/notebooks/images/condor.png\"}, {\"weight-(gm)\": 12184.518690563942, \"wingspan-(cm)\": 286.4193069602798, \"species\": -1, \"url\": \"https://raw.githubusercontent.com/pabloinsente/nn-mod-cog/master/notebooks/images/condor.png\"}, {\"weight-(gm)\": 12937.082201108953, \"wingspan-(cm)\": 268.56399652327565, \"species\": -1, \"url\": \"https://raw.githubusercontent.com/pabloinsente/nn-mod-cog/master/notebooks/images/condor.png\"}, {\"weight-(gm)\": 12731.000343834809, \"wingspan-(cm)\": 304.2350716475789, \"species\": -1, \"url\": \"https://raw.githubusercontent.com/pabloinsente/nn-mod-cog/master/notebooks/images/condor.png\"}, {\"weight-(gm)\": 13361.556125145331, \"wingspan-(cm)\": 289.709036210563, \"species\": -1, \"url\": \"https://raw.githubusercontent.com/pabloinsente/nn-mod-cog/master/notebooks/images/condor.png\"}, {\"weight-(gm)\": 11673.761940797698, \"wingspan-(cm)\": 303.4189655864002, \"species\": -1, \"url\": \"https://raw.githubusercontent.com/pabloinsente/nn-mod-cog/master/notebooks/images/condor.png\"}, {\"weight-(gm)\": 12055.676014854776, \"wingspan-(cm)\": 301.3953967977531, \"species\": -1, \"url\": \"https://raw.githubusercontent.com/pabloinsente/nn-mod-cog/master/notebooks/images/condor.png\"}, {\"weight-(gm)\": 12222.399608555304, \"wingspan-(cm)\": 267.53419428375247, \"species\": -1, \"url\": \"https://raw.githubusercontent.com/pabloinsente/nn-mod-cog/master/notebooks/images/condor.png\"}, {\"weight-(gm)\": 10556.783004774663, \"wingspan-(cm)\": 272.09171034812096, \"species\": -1, \"url\": \"https://raw.githubusercontent.com/pabloinsente/nn-mod-cog/master/notebooks/images/condor.png\"}, {\"weight-(gm)\": 11243.647694405565, \"wingspan-(cm)\": 309.44393879598584, \"species\": -1, \"url\": \"https://raw.githubusercontent.com/pabloinsente/nn-mod-cog/master/notebooks/images/condor.png\"}, {\"weight-(gm)\": 12816.454011019287, \"wingspan-(cm)\": 304.28413439122835, \"species\": -1, \"url\": \"https://raw.githubusercontent.com/pabloinsente/nn-mod-cog/master/notebooks/images/condor.png\"}, {\"weight-(gm)\": 12750.444761534178, \"wingspan-(cm)\": 271.74118804038477, \"species\": -1, \"url\": \"https://raw.githubusercontent.com/pabloinsente/nn-mod-cog/master/notebooks/images/condor.png\"}, {\"weight-(gm)\": 11544.053072531999, \"wingspan-(cm)\": 287.6410224893729, \"species\": -1, \"url\": \"https://raw.githubusercontent.com/pabloinsente/nn-mod-cog/master/notebooks/images/condor.png\"}, {\"weight-(gm)\": 13189.622268029125, \"wingspan-(cm)\": 267.3862225960342, \"species\": -1, \"url\": \"https://raw.githubusercontent.com/pabloinsente/nn-mod-cog/master/notebooks/images/condor.png\"}, {\"weight-(gm)\": 10309.383173616396, \"wingspan-(cm)\": 291.6182619620992, \"species\": -1, \"url\": \"https://raw.githubusercontent.com/pabloinsente/nn-mod-cog/master/notebooks/images/condor.png\"}, {\"weight-(gm)\": 10643.600951138687, \"wingspan-(cm)\": 301.2058348264872, \"species\": -1, \"url\": \"https://raw.githubusercontent.com/pabloinsente/nn-mod-cog/master/notebooks/images/condor.png\"}, {\"weight-(gm)\": 10767.565486085074, \"wingspan-(cm)\": 296.44514653793914, \"species\": -1, \"url\": \"https://raw.githubusercontent.com/pabloinsente/nn-mod-cog/master/notebooks/images/condor.png\"}, {\"weight-(gm)\": 11455.560838327536, \"wingspan-(cm)\": 268.7743561872121, \"species\": -1, \"url\": \"https://raw.githubusercontent.com/pabloinsente/nn-mod-cog/master/notebooks/images/condor.png\"}, {\"weight-(gm)\": 11331.828263186573, \"wingspan-(cm)\": 280.3886011548414, \"species\": -1, \"url\": \"https://raw.githubusercontent.com/pabloinsente/nn-mod-cog/master/notebooks/images/condor.png\"}, {\"weight-(gm)\": 12007.314563228903, \"wingspan-(cm)\": 301.69439455495547, \"species\": -1, \"url\": \"https://raw.githubusercontent.com/pabloinsente/nn-mod-cog/master/notebooks/images/condor.png\"}, {\"weight-(gm)\": 11387.061264521837, \"wingspan-(cm)\": 283.42818625476735, \"species\": -1, \"url\": \"https://raw.githubusercontent.com/pabloinsente/nn-mod-cog/master/notebooks/images/condor.png\"}, {\"weight-(gm)\": 13299.748074755309, \"wingspan-(cm)\": 321.12189751919846, \"species\": -1, \"url\": \"https://raw.githubusercontent.com/pabloinsente/nn-mod-cog/master/notebooks/images/condor.png\"}, {\"weight-(gm)\": 10266.90437634672, \"wingspan-(cm)\": 284.85053476726296, \"species\": -1, \"url\": \"https://raw.githubusercontent.com/pabloinsente/nn-mod-cog/master/notebooks/images/condor.png\"}, {\"weight-(gm)\": 11016.68990087037, \"wingspan-(cm)\": 280.75055942475205, \"species\": -1, \"url\": \"https://raw.githubusercontent.com/pabloinsente/nn-mod-cog/master/notebooks/images/condor.png\"}, {\"weight-(gm)\": 12357.507753167365, \"wingspan-(cm)\": 301.4477546908999, \"species\": -1, \"url\": \"https://raw.githubusercontent.com/pabloinsente/nn-mod-cog/master/notebooks/images/condor.png\"}, {\"weight-(gm)\": 10386.421497177824, \"wingspan-(cm)\": 292.89375787734957, \"species\": -1, \"url\": \"https://raw.githubusercontent.com/pabloinsente/nn-mod-cog/master/notebooks/images/condor.png\"}, {\"weight-(gm)\": 13470.713866612128, \"wingspan-(cm)\": 284.77311604021446, \"species\": -1, \"url\": \"https://raw.githubusercontent.com/pabloinsente/nn-mod-cog/master/notebooks/images/condor.png\"}, {\"weight-(gm)\": 10811.98240268228, \"wingspan-(cm)\": 324.4798091107051, \"species\": -1, \"url\": \"https://raw.githubusercontent.com/pabloinsente/nn-mod-cog/master/notebooks/images/condor.png\"}, {\"weight-(gm)\": 11450.25380646451, \"wingspan-(cm)\": 287.52185671038905, \"species\": -1, \"url\": \"https://raw.githubusercontent.com/pabloinsente/nn-mod-cog/master/notebooks/images/condor.png\"}, {\"weight-(gm)\": 11059.953838455232, \"wingspan-(cm)\": 296.99449052535783, \"species\": -1, \"url\": \"https://raw.githubusercontent.com/pabloinsente/nn-mod-cog/master/notebooks/images/condor.png\"}, {\"weight-(gm)\": 11172.067635634128, \"wingspan-(cm)\": 294.04980857946634, \"species\": -1, \"url\": \"https://raw.githubusercontent.com/pabloinsente/nn-mod-cog/master/notebooks/images/condor.png\"}, {\"weight-(gm)\": 12108.86346783368, \"wingspan-(cm)\": 285.20253429322867, \"species\": -1, \"url\": \"https://raw.githubusercontent.com/pabloinsente/nn-mod-cog/master/notebooks/images/condor.png\"}, {\"weight-(gm)\": 12507.80959049232, \"wingspan-(cm)\": 272.7838760018512, \"species\": -1, \"url\": \"https://raw.githubusercontent.com/pabloinsente/nn-mod-cog/master/notebooks/images/condor.png\"}, {\"weight-(gm)\": 11137.772653489521, \"wingspan-(cm)\": 315.5543598218106, \"species\": -1, \"url\": \"https://raw.githubusercontent.com/pabloinsente/nn-mod-cog/master/notebooks/images/condor.png\"}, {\"weight-(gm)\": 13249.469742726978, \"wingspan-(cm)\": 279.1677384491637, \"species\": -1, \"url\": \"https://raw.githubusercontent.com/pabloinsente/nn-mod-cog/master/notebooks/images/condor.png\"}, {\"weight-(gm)\": 11920.3887540826, \"wingspan-(cm)\": 306.40529974488084, \"species\": -1, \"url\": \"https://raw.githubusercontent.com/pabloinsente/nn-mod-cog/master/notebooks/images/condor.png\"}, {\"weight-(gm)\": 11110.268518734967, \"wingspan-(cm)\": 286.55723370140066, \"species\": -1, \"url\": \"https://raw.githubusercontent.com/pabloinsente/nn-mod-cog/master/notebooks/images/condor.png\"}, {\"weight-(gm)\": 11118.201610516982, \"wingspan-(cm)\": 289.86652005061836, \"species\": -1, \"url\": \"https://raw.githubusercontent.com/pabloinsente/nn-mod-cog/master/notebooks/images/condor.png\"}, {\"weight-(gm)\": 12018.63894948806, \"wingspan-(cm)\": 281.85202987389243, \"species\": -1, \"url\": \"https://raw.githubusercontent.com/pabloinsente/nn-mod-cog/master/notebooks/images/condor.png\"}, {\"weight-(gm)\": 12237.844621923621, \"wingspan-(cm)\": 301.2959328153797, \"species\": -1, \"url\": \"https://raw.githubusercontent.com/pabloinsente/nn-mod-cog/master/notebooks/images/condor.png\"}, {\"weight-(gm)\": 12013.548548628612, \"wingspan-(cm)\": 265.8584165574057, \"species\": -1, \"url\": \"https://raw.githubusercontent.com/pabloinsente/nn-mod-cog/master/notebooks/images/condor.png\"}, {\"weight-(gm)\": 10364.470600619177, \"wingspan-(cm)\": 319.14893395150995, \"species\": -1, \"url\": \"https://raw.githubusercontent.com/pabloinsente/nn-mod-cog/master/notebooks/images/condor.png\"}, {\"weight-(gm)\": 10955.790122290684, \"wingspan-(cm)\": 268.28845831520624, \"species\": -1, \"url\": \"https://raw.githubusercontent.com/pabloinsente/nn-mod-cog/master/notebooks/images/condor.png\"}, {\"weight-(gm)\": 12613.038881687546, \"wingspan-(cm)\": 291.9537268302905, \"species\": -1, \"url\": \"https://raw.githubusercontent.com/pabloinsente/nn-mod-cog/master/notebooks/images/condor.png\"}, {\"weight-(gm)\": 12736.205213323823, \"wingspan-(cm)\": 304.2404129699148, \"species\": -1, \"url\": \"https://raw.githubusercontent.com/pabloinsente/nn-mod-cog/master/notebooks/images/condor.png\"}, {\"weight-(gm)\": 13026.92143939979, \"wingspan-(cm)\": 259.7721692431621, \"species\": -1, \"url\": \"https://raw.githubusercontent.com/pabloinsente/nn-mod-cog/master/notebooks/images/condor.png\"}, {\"weight-(gm)\": 10567.809388941074, \"wingspan-(cm)\": 288.8068911959883, \"species\": -1, \"url\": \"https://raw.githubusercontent.com/pabloinsente/nn-mod-cog/master/notebooks/images/condor.png\"}, {\"weight-(gm)\": 10158.811699813283, \"wingspan-(cm)\": 294.515741956821, \"species\": -1, \"url\": \"https://raw.githubusercontent.com/pabloinsente/nn-mod-cog/master/notebooks/images/condor.png\"}, {\"weight-(gm)\": 12366.093226167304, \"wingspan-(cm)\": 264.7265005747223, \"species\": -1, \"url\": \"https://raw.githubusercontent.com/pabloinsente/nn-mod-cog/master/notebooks/images/condor.png\"}, {\"weight-(gm)\": 11668.22286494719, \"wingspan-(cm)\": 293.33586214168173, \"species\": -1, \"url\": \"https://raw.githubusercontent.com/pabloinsente/nn-mod-cog/master/notebooks/images/condor.png\"}, {\"weight-(gm)\": 11310.782021910247, \"wingspan-(cm)\": 279.72617397129153, \"species\": -1, \"url\": \"https://raw.githubusercontent.com/pabloinsente/nn-mod-cog/master/notebooks/images/condor.png\"}, {\"weight-(gm)\": 14034.607561504934, \"wingspan-(cm)\": 288.1069822442963, \"species\": -1, \"url\": \"https://raw.githubusercontent.com/pabloinsente/nn-mod-cog/master/notebooks/images/condor.png\"}, {\"weight-(gm)\": 11449.285588085408, \"wingspan-(cm)\": 319.85410474631135, \"species\": -1, \"url\": \"https://raw.githubusercontent.com/pabloinsente/nn-mod-cog/master/notebooks/images/condor.png\"}, {\"weight-(gm)\": 12750.453330326842, \"wingspan-(cm)\": 297.8449670678113, \"species\": -1, \"url\": \"https://raw.githubusercontent.com/pabloinsente/nn-mod-cog/master/notebooks/images/condor.png\"}, {\"weight-(gm)\": 10693.00766091918, \"wingspan-(cm)\": 289.7548189586377, \"species\": -1, \"url\": \"https://raw.githubusercontent.com/pabloinsente/nn-mod-cog/master/notebooks/images/condor.png\"}, {\"weight-(gm)\": 12580.573335794274, \"wingspan-(cm)\": 283.76275496239026, \"species\": -1, \"url\": \"https://raw.githubusercontent.com/pabloinsente/nn-mod-cog/master/notebooks/images/condor.png\"}, {\"weight-(gm)\": 10895.476907337707, \"wingspan-(cm)\": 269.622455948603, \"species\": -1, \"url\": \"https://raw.githubusercontent.com/pabloinsente/nn-mod-cog/master/notebooks/images/condor.png\"}, {\"weight-(gm)\": 12690.121470224707, \"wingspan-(cm)\": 282.2835516294682, \"species\": -1, \"url\": \"https://raw.githubusercontent.com/pabloinsente/nn-mod-cog/master/notebooks/images/condor.png\"}, {\"weight-(gm)\": 12686.890066138405, \"wingspan-(cm)\": 286.7590981999511, \"species\": -1, \"url\": \"https://raw.githubusercontent.com/pabloinsente/nn-mod-cog/master/notebooks/images/condor.png\"}, {\"weight-(gm)\": 10433.31247042161, \"wingspan-(cm)\": 296.33570330632966, \"species\": -1, \"url\": \"https://raw.githubusercontent.com/pabloinsente/nn-mod-cog/master/notebooks/images/condor.png\"}, {\"weight-(gm)\": 12904.974121466681, \"wingspan-(cm)\": 273.58935603451647, \"species\": -1, \"url\": \"https://raw.githubusercontent.com/pabloinsente/nn-mod-cog/master/notebooks/images/condor.png\"}, {\"weight-(gm)\": 12778.822399323068, \"wingspan-(cm)\": 308.5536182778534, \"species\": -1, \"url\": \"https://raw.githubusercontent.com/pabloinsente/nn-mod-cog/master/notebooks/images/condor.png\"}, {\"weight-(gm)\": 12428.232870596741, \"wingspan-(cm)\": 286.5457298235934, \"species\": -1, \"url\": \"https://raw.githubusercontent.com/pabloinsente/nn-mod-cog/master/notebooks/images/condor.png\"}, {\"weight-(gm)\": 12108.871989897914, \"wingspan-(cm)\": 279.43372700397464, \"species\": -1, \"url\": \"https://raw.githubusercontent.com/pabloinsente/nn-mod-cog/master/notebooks/images/condor.png\"}, {\"weight-(gm)\": 12028.283634823074, \"wingspan-(cm)\": 281.1293731837224, \"species\": -1, \"url\": \"https://raw.githubusercontent.com/pabloinsente/nn-mod-cog/master/notebooks/images/condor.png\"}, {\"weight-(gm)\": 11421.174175209011, \"wingspan-(cm)\": 301.0549275352732, \"species\": -1, \"url\": \"https://raw.githubusercontent.com/pabloinsente/nn-mod-cog/master/notebooks/images/condor.png\"}, {\"weight-(gm)\": 10800.54880080607, \"wingspan-(cm)\": 296.53800878772364, \"species\": -1, \"url\": \"https://raw.githubusercontent.com/pabloinsente/nn-mod-cog/master/notebooks/images/condor.png\"}, {\"weight-(gm)\": 10294.04799426183, \"wingspan-(cm)\": 316.6399037826015, \"species\": -1, \"url\": \"https://raw.githubusercontent.com/pabloinsente/nn-mod-cog/master/notebooks/images/condor.png\"}, {\"weight-(gm)\": 12369.163957107006, \"wingspan-(cm)\": 297.69611568259467, \"species\": -1, \"url\": \"https://raw.githubusercontent.com/pabloinsente/nn-mod-cog/master/notebooks/images/condor.png\"}, {\"weight-(gm)\": 13876.573426962166, \"wingspan-(cm)\": 307.5579047442221, \"species\": -1, \"url\": \"https://raw.githubusercontent.com/pabloinsente/nn-mod-cog/master/notebooks/images/condor.png\"}, {\"weight-(gm)\": 11623.096649831024, \"wingspan-(cm)\": 321.16568348375307, \"species\": -1, \"url\": \"https://raw.githubusercontent.com/pabloinsente/nn-mod-cog/master/notebooks/images/condor.png\"}, {\"weight-(gm)\": 13831.936081825535, \"wingspan-(cm)\": 283.1611697117897, \"species\": -1, \"url\": \"https://raw.githubusercontent.com/pabloinsente/nn-mod-cog/master/notebooks/images/condor.png\"}, {\"weight-(gm)\": 12003.017434031213, \"wingspan-(cm)\": 299.73759390882026, \"species\": -1, \"url\": \"https://raw.githubusercontent.com/pabloinsente/nn-mod-cog/master/notebooks/images/condor.png\"}, {\"weight-(gm)\": 11923.976534275376, \"wingspan-(cm)\": 287.3782766832275, \"species\": -1, \"url\": \"https://raw.githubusercontent.com/pabloinsente/nn-mod-cog/master/notebooks/images/condor.png\"}, {\"weight-(gm)\": 12003.9575939876, \"wingspan-(cm)\": 305.2589651487675, \"species\": -1, \"url\": \"https://raw.githubusercontent.com/pabloinsente/nn-mod-cog/master/notebooks/images/condor.png\"}, {\"weight-(gm)\": 11814.985889102885, \"wingspan-(cm)\": 281.000254327267, \"species\": -1, \"url\": \"https://raw.githubusercontent.com/pabloinsente/nn-mod-cog/master/notebooks/images/condor.png\"}, {\"weight-(gm)\": 9512.848464777231, \"wingspan-(cm)\": 313.6425008647881, \"species\": -1, \"url\": \"https://raw.githubusercontent.com/pabloinsente/nn-mod-cog/master/notebooks/images/condor.png\"}]}}, {\"mode\": \"vega-lite\"});\n",
       "</script>"
      ],
      "text/plain": [
       "alt.Chart(...)"
      ]
     },
     "execution_count": 19,
     "metadata": {},
     "output_type": "execute_result"
    }
   ],
   "source": [
    "alt.Chart(df2).mark_image(\n",
    "    width=20,\n",
    "    height=20\n",
    ").encode(\n",
    "    alt.X(\"weight-(gm)\", scale=alt.Scale(domain=(6000, 16000))),\n",
    "    alt.Y(\"wingspan-(cm)\", scale=alt.Scale(domain=(220, 360))),\n",
    "    url=\"url\"\n",
    ").properties(\n",
    "title=\"Chart 3\"\n",
    ")"
   ]
  },
  {
   "cell_type": "markdown",
   "metadata": {},
   "source": [
    "From **Chart 3** is clear that there is no way to trace a line to separate albatross from condors based on the available features. Let's train the perceptron to test performance on this dataset.  "
   ]
  },
  {
   "cell_type": "code",
   "execution_count": 20,
   "metadata": {},
   "outputs": [],
   "source": [
    "df_shuffle2 = df2.sample(frac=1, random_state=1).reset_index(drop=True)\n",
    "X = df_shuffle2[['weight-(gm)','wingspan-(cm)']].to_numpy()\n",
    "y = df_shuffle2['species'].to_numpy()"
   ]
  },
  {
   "cell_type": "code",
   "execution_count": 21,
   "metadata": {},
   "outputs": [],
   "source": [
    "w, errors = fit(X, y, eta=0.01, n_iter=200)"
   ]
  },
  {
   "cell_type": "code",
   "execution_count": 22,
   "metadata": {},
   "outputs": [
    {
     "name": "stdout",
     "output_type": "stream",
     "text": [
      "Perceptron accuracy: 91.50%\n"
     ]
    }
   ],
   "source": [
    "y_pred = predict(X, w)\n",
    "num_correct_predictions = (y_pred == y).sum()\n",
    "accuracy = (num_correct_predictions / y.shape[0]) * 100\n",
    "print('Perceptron accuracy: %.2f%%' % accuracy)"
   ]
  },
  {
   "cell_type": "markdown",
   "metadata": {},
   "source": [
    "The perceptron accuracy drops from 99.5% to 91.5%, keeping constant all the steps and parameters, but the values for weight and wingspan (now, the condor ones). Let's try one more time training for longer and with a smaller learning rate."
   ]
  },
  {
   "cell_type": "code",
   "execution_count": 23,
   "metadata": {},
   "outputs": [],
   "source": [
    "w, errors = fit(X, y, eta=0.001, n_iter=1000)"
   ]
  },
  {
   "cell_type": "code",
   "execution_count": 24,
   "metadata": {},
   "outputs": [
    {
     "name": "stdout",
     "output_type": "stream",
     "text": [
      "Perceptron accuracy: 92.00%\n"
     ]
    }
   ],
   "source": [
    "y_pred = predict(X, w)\n",
    "num_correct_predictions = (y_pred == y).sum()\n",
    "accuracy = (num_correct_predictions / y.shape[0]) * 100\n",
    "print('Perceptron accuracy: %.2f%%' % accuracy)"
   ]
  },
  {
   "cell_type": "markdown",
   "metadata": {},
   "source": [
    "Although we trained for 1000 time steps and with a smaller learning rate, the accuracy went up only by 0.5% . This is a reflection of the fact that there is no way to classify all instances correctly, and that finding a good decision boundary is harder. This is also reflected in the error curve in **Chart 4**."
   ]
  },
  {
   "cell_type": "code",
   "execution_count": 25,
   "metadata": {},
   "outputs": [
    {
     "data": {
      "text/html": [
       "\n",
       "<div id=\"altair-viz-392bb05d29fa4161aacadef3a730c7f9\"></div>\n",
       "<script type=\"text/javascript\">\n",
       "  (function(spec, embedOpt){\n",
       "    const outputDiv = document.getElementById(\"altair-viz-392bb05d29fa4161aacadef3a730c7f9\");\n",
       "    const paths = {\n",
       "      \"vega\": \"https://cdn.jsdelivr.net/npm//vega@5?noext\",\n",
       "      \"vega-lib\": \"https://cdn.jsdelivr.net/npm//vega-lib?noext\",\n",
       "      \"vega-lite\": \"https://cdn.jsdelivr.net/npm//vega-lite@4.0.2?noext\",\n",
       "      \"vega-embed\": \"https://cdn.jsdelivr.net/npm//vega-embed@6?noext\",\n",
       "    };\n",
       "\n",
       "    function loadScript(lib) {\n",
       "      return new Promise(function(resolve, reject) {\n",
       "        var s = document.createElement('script');\n",
       "        s.src = paths[lib];\n",
       "        s.async = true;\n",
       "        s.onload = () => resolve(paths[lib]);\n",
       "        s.onerror = () => reject(`Error loading script: ${paths[lib]}`);\n",
       "        document.getElementsByTagName(\"head\")[0].appendChild(s);\n",
       "      });\n",
       "    }\n",
       "\n",
       "    function showError(err) {\n",
       "      outputDiv.innerHTML = `<div class=\"error\" style=\"color:red;\">${err}</div>`;\n",
       "      throw err;\n",
       "    }\n",
       "\n",
       "    function displayChart(vegaEmbed) {\n",
       "      vegaEmbed(outputDiv, spec, embedOpt)\n",
       "        .catch(err => showError(`Javascript Error: ${err.message}<br>This usually means there's a typo in your chart specification. See the javascript console for the full traceback.`));\n",
       "    }\n",
       "\n",
       "    if(typeof define === \"function\" && define.amd) {\n",
       "      requirejs.config({paths});\n",
       "      require([\"vega-embed\"], displayChart, err => showError(`Error loading script: ${err.message}`));\n",
       "    } else if (typeof vegaEmbed === \"function\") {\n",
       "      displayChart(vegaEmbed);\n",
       "    } else {\n",
       "      loadScript(\"vega\")\n",
       "        .then(() => loadScript(\"vega-lite\"))\n",
       "        .then(() => loadScript(\"vega-embed\"))\n",
       "        .catch(showError)\n",
       "        .then(() => displayChart(vegaEmbed));\n",
       "    }\n",
       "  })({\"config\": {\"view\": {\"continuousWidth\": 400, \"continuousHeight\": 300}}, \"data\": {\"name\": \"data-3d8c66f7ed1a72b4e6e7b20feaf0bdff\"}, \"mark\": \"line\", \"encoding\": {\"x\": {\"type\": \"quantitative\", \"field\": \"time-step\"}, \"y\": {\"type\": \"quantitative\", \"field\": \"error\"}}, \"title\": \"Chart 4\", \"$schema\": \"https://vega.github.io/schema/vega-lite/v4.0.2.json\", \"datasets\": {\"data-3d8c66f7ed1a72b4e6e7b20feaf0bdff\": [{\"error\": 86, \"time-step\": 0}, {\"error\": 90, \"time-step\": 1}, {\"error\": 88, \"time-step\": 2}, {\"error\": 85, \"time-step\": 3}, {\"error\": 81, \"time-step\": 4}, {\"error\": 90, \"time-step\": 5}, {\"error\": 81, \"time-step\": 6}, {\"error\": 90, \"time-step\": 7}, {\"error\": 68, \"time-step\": 8}, {\"error\": 65, \"time-step\": 9}, {\"error\": 92, \"time-step\": 10}, {\"error\": 81, \"time-step\": 11}, {\"error\": 87, \"time-step\": 12}, {\"error\": 86, \"time-step\": 13}, {\"error\": 84, \"time-step\": 14}, {\"error\": 86, \"time-step\": 15}, {\"error\": 85, \"time-step\": 16}, {\"error\": 84, \"time-step\": 17}, {\"error\": 80, \"time-step\": 18}, {\"error\": 86, \"time-step\": 19}, {\"error\": 85, \"time-step\": 20}, {\"error\": 82, \"time-step\": 21}, {\"error\": 81, \"time-step\": 22}, {\"error\": 58, \"time-step\": 23}, {\"error\": 82, \"time-step\": 24}, {\"error\": 86, \"time-step\": 25}, {\"error\": 80, \"time-step\": 26}, {\"error\": 74, \"time-step\": 27}, {\"error\": 62, \"time-step\": 28}, {\"error\": 86, \"time-step\": 29}, {\"error\": 80, \"time-step\": 30}, {\"error\": 75, \"time-step\": 31}, {\"error\": 80, \"time-step\": 32}, {\"error\": 86, \"time-step\": 33}, {\"error\": 78, \"time-step\": 34}, {\"error\": 72, \"time-step\": 35}, {\"error\": 85, \"time-step\": 36}, {\"error\": 80, \"time-step\": 37}, {\"error\": 73, \"time-step\": 38}, {\"error\": 73, \"time-step\": 39}, {\"error\": 73, \"time-step\": 40}, {\"error\": 83, \"time-step\": 41}, {\"error\": 84, \"time-step\": 42}, {\"error\": 57, \"time-step\": 43}, {\"error\": 82, \"time-step\": 44}, {\"error\": 84, \"time-step\": 45}, {\"error\": 57, \"time-step\": 46}, {\"error\": 69, \"time-step\": 47}, {\"error\": 83, \"time-step\": 48}, {\"error\": 67, \"time-step\": 49}, {\"error\": 76, \"time-step\": 50}, {\"error\": 60, \"time-step\": 51}, {\"error\": 70, \"time-step\": 52}, {\"error\": 77, \"time-step\": 53}, {\"error\": 71, \"time-step\": 54}, {\"error\": 77, \"time-step\": 55}, {\"error\": 68, \"time-step\": 56}, {\"error\": 71, \"time-step\": 57}, {\"error\": 77, \"time-step\": 58}, {\"error\": 70, \"time-step\": 59}, {\"error\": 68, \"time-step\": 60}, {\"error\": 82, \"time-step\": 61}, {\"error\": 82, \"time-step\": 62}, {\"error\": 50, \"time-step\": 63}, {\"error\": 60, \"time-step\": 64}, {\"error\": 78, \"time-step\": 65}, {\"error\": 80, \"time-step\": 66}, {\"error\": 72, \"time-step\": 67}, {\"error\": 62, \"time-step\": 68}, {\"error\": 80, \"time-step\": 69}, {\"error\": 60, \"time-step\": 70}, {\"error\": 70, \"time-step\": 71}, {\"error\": 70, \"time-step\": 72}, {\"error\": 69, \"time-step\": 73}, {\"error\": 50, \"time-step\": 74}, {\"error\": 48, \"time-step\": 75}, {\"error\": 48, \"time-step\": 76}, {\"error\": 48, \"time-step\": 77}, {\"error\": 48, \"time-step\": 78}, {\"error\": 48, \"time-step\": 79}, {\"error\": 48, \"time-step\": 80}, {\"error\": 38, \"time-step\": 81}, {\"error\": 48, \"time-step\": 82}, {\"error\": 48, \"time-step\": 83}, {\"error\": 48, \"time-step\": 84}, {\"error\": 48, \"time-step\": 85}, {\"error\": 48, \"time-step\": 86}, {\"error\": 48, \"time-step\": 87}, {\"error\": 48, \"time-step\": 88}, {\"error\": 38, \"time-step\": 89}, {\"error\": 48, \"time-step\": 90}, {\"error\": 48, \"time-step\": 91}, {\"error\": 48, \"time-step\": 92}, {\"error\": 48, \"time-step\": 93}, {\"error\": 48, \"time-step\": 94}, {\"error\": 48, \"time-step\": 95}, {\"error\": 38, \"time-step\": 96}, {\"error\": 48, \"time-step\": 97}, {\"error\": 48, \"time-step\": 98}, {\"error\": 48, \"time-step\": 99}, {\"error\": 48, \"time-step\": 100}, {\"error\": 48, \"time-step\": 101}, {\"error\": 48, \"time-step\": 102}, {\"error\": 38, \"time-step\": 103}, {\"error\": 48, \"time-step\": 104}, {\"error\": 48, \"time-step\": 105}, {\"error\": 48, \"time-step\": 106}, {\"error\": 48, \"time-step\": 107}, {\"error\": 48, \"time-step\": 108}, {\"error\": 48, \"time-step\": 109}, {\"error\": 48, \"time-step\": 110}, {\"error\": 38, \"time-step\": 111}, {\"error\": 48, \"time-step\": 112}, {\"error\": 48, \"time-step\": 113}, {\"error\": 48, \"time-step\": 114}, {\"error\": 48, \"time-step\": 115}, {\"error\": 48, \"time-step\": 116}, {\"error\": 48, \"time-step\": 117}, {\"error\": 38, \"time-step\": 118}, {\"error\": 48, \"time-step\": 119}, {\"error\": 48, \"time-step\": 120}, {\"error\": 48, \"time-step\": 121}, {\"error\": 48, \"time-step\": 122}, {\"error\": 48, \"time-step\": 123}, {\"error\": 48, \"time-step\": 124}, {\"error\": 38, \"time-step\": 125}, {\"error\": 48, \"time-step\": 126}, {\"error\": 48, \"time-step\": 127}, {\"error\": 48, \"time-step\": 128}, {\"error\": 48, \"time-step\": 129}, {\"error\": 48, \"time-step\": 130}, {\"error\": 48, \"time-step\": 131}, {\"error\": 48, \"time-step\": 132}, {\"error\": 38, \"time-step\": 133}, {\"error\": 48, \"time-step\": 134}, {\"error\": 48, \"time-step\": 135}, {\"error\": 48, \"time-step\": 136}, {\"error\": 48, \"time-step\": 137}, {\"error\": 48, \"time-step\": 138}, {\"error\": 48, \"time-step\": 139}, {\"error\": 38, \"time-step\": 140}, {\"error\": 50, \"time-step\": 141}, {\"error\": 55, \"time-step\": 142}, {\"error\": 48, \"time-step\": 143}, {\"error\": 49, \"time-step\": 144}, {\"error\": 60, \"time-step\": 145}, {\"error\": 47, \"time-step\": 146}, {\"error\": 65, \"time-step\": 147}, {\"error\": 52, \"time-step\": 148}, {\"error\": 47, \"time-step\": 149}, {\"error\": 49, \"time-step\": 150}, {\"error\": 48, \"time-step\": 151}, {\"error\": 65, \"time-step\": 152}, {\"error\": 52, \"time-step\": 153}, {\"error\": 49, \"time-step\": 154}, {\"error\": 45, \"time-step\": 155}, {\"error\": 53, \"time-step\": 156}, {\"error\": 48, \"time-step\": 157}, {\"error\": 49, \"time-step\": 158}, {\"error\": 48, \"time-step\": 159}, {\"error\": 49, \"time-step\": 160}, {\"error\": 48, \"time-step\": 161}, {\"error\": 49, \"time-step\": 162}, {\"error\": 48, \"time-step\": 163}, {\"error\": 49, \"time-step\": 164}, {\"error\": 48, \"time-step\": 165}, {\"error\": 44, \"time-step\": 166}, {\"error\": 44, \"time-step\": 167}, {\"error\": 44, \"time-step\": 168}, {\"error\": 44, \"time-step\": 169}, {\"error\": 44, \"time-step\": 170}, {\"error\": 44, \"time-step\": 171}, {\"error\": 44, \"time-step\": 172}, {\"error\": 44, \"time-step\": 173}, {\"error\": 44, \"time-step\": 174}, {\"error\": 54, \"time-step\": 175}, {\"error\": 54, \"time-step\": 176}, {\"error\": 45, \"time-step\": 177}, {\"error\": 45, \"time-step\": 178}, {\"error\": 49, \"time-step\": 179}, {\"error\": 45, \"time-step\": 180}, {\"error\": 49, \"time-step\": 181}, {\"error\": 45, \"time-step\": 182}, {\"error\": 49, \"time-step\": 183}, {\"error\": 45, \"time-step\": 184}, {\"error\": 49, \"time-step\": 185}, {\"error\": 45, \"time-step\": 186}, {\"error\": 45, \"time-step\": 187}, {\"error\": 45, \"time-step\": 188}, {\"error\": 49, \"time-step\": 189}, {\"error\": 45, \"time-step\": 190}, {\"error\": 45, \"time-step\": 191}, {\"error\": 45, \"time-step\": 192}, {\"error\": 49, \"time-step\": 193}, {\"error\": 45, \"time-step\": 194}, {\"error\": 45, \"time-step\": 195}, {\"error\": 49, \"time-step\": 196}, {\"error\": 40, \"time-step\": 197}, {\"error\": 49, \"time-step\": 198}, {\"error\": 49, \"time-step\": 199}, {\"error\": 49, \"time-step\": 200}, {\"error\": 49, \"time-step\": 201}, {\"error\": 47, \"time-step\": 202}, {\"error\": 61, \"time-step\": 203}, {\"error\": 55, \"time-step\": 204}, {\"error\": 61, \"time-step\": 205}, {\"error\": 43, \"time-step\": 206}, {\"error\": 61, \"time-step\": 207}, {\"error\": 49, \"time-step\": 208}, {\"error\": 55, \"time-step\": 209}, {\"error\": 56, \"time-step\": 210}, {\"error\": 37, \"time-step\": 211}, {\"error\": 56, \"time-step\": 212}, {\"error\": 43, \"time-step\": 213}, {\"error\": 57, \"time-step\": 214}, {\"error\": 54, \"time-step\": 215}, {\"error\": 56, \"time-step\": 216}, {\"error\": 43, \"time-step\": 217}, {\"error\": 51, \"time-step\": 218}, {\"error\": 56, \"time-step\": 219}, {\"error\": 54, \"time-step\": 220}, {\"error\": 54, \"time-step\": 221}, {\"error\": 51, \"time-step\": 222}, {\"error\": 56, \"time-step\": 223}, {\"error\": 57, \"time-step\": 224}, {\"error\": 49, \"time-step\": 225}, {\"error\": 56, \"time-step\": 226}, {\"error\": 56, \"time-step\": 227}, {\"error\": 56, \"time-step\": 228}, {\"error\": 56, \"time-step\": 229}, {\"error\": 52, \"time-step\": 230}, {\"error\": 52, \"time-step\": 231}, {\"error\": 56, \"time-step\": 232}, {\"error\": 52, \"time-step\": 233}, {\"error\": 52, \"time-step\": 234}, {\"error\": 43, \"time-step\": 235}, {\"error\": 52, \"time-step\": 236}, {\"error\": 56, \"time-step\": 237}, {\"error\": 52, \"time-step\": 238}, {\"error\": 56, \"time-step\": 239}, {\"error\": 52, \"time-step\": 240}, {\"error\": 52, \"time-step\": 241}, {\"error\": 43, \"time-step\": 242}, {\"error\": 52, \"time-step\": 243}, {\"error\": 56, \"time-step\": 244}, {\"error\": 52, \"time-step\": 245}, {\"error\": 56, \"time-step\": 246}, {\"error\": 52, \"time-step\": 247}, {\"error\": 52, \"time-step\": 248}, {\"error\": 43, \"time-step\": 249}, {\"error\": 52, \"time-step\": 250}, {\"error\": 47, \"time-step\": 251}, {\"error\": 52, \"time-step\": 252}, {\"error\": 47, \"time-step\": 253}, {\"error\": 52, \"time-step\": 254}, {\"error\": 47, \"time-step\": 255}, {\"error\": 52, \"time-step\": 256}, {\"error\": 52, \"time-step\": 257}, {\"error\": 52, \"time-step\": 258}, {\"error\": 52, \"time-step\": 259}, {\"error\": 52, \"time-step\": 260}, {\"error\": 52, \"time-step\": 261}, {\"error\": 52, \"time-step\": 262}, {\"error\": 52, \"time-step\": 263}, {\"error\": 52, \"time-step\": 264}, {\"error\": 56, \"time-step\": 265}, {\"error\": 45, \"time-step\": 266}, {\"error\": 51, \"time-step\": 267}, {\"error\": 49, \"time-step\": 268}, {\"error\": 45, \"time-step\": 269}, {\"error\": 51, \"time-step\": 270}, {\"error\": 45, \"time-step\": 271}, {\"error\": 51, \"time-step\": 272}, {\"error\": 45, \"time-step\": 273}, {\"error\": 45, \"time-step\": 274}, {\"error\": 51, \"time-step\": 275}, {\"error\": 45, \"time-step\": 276}, {\"error\": 49, \"time-step\": 277}, {\"error\": 45, \"time-step\": 278}, {\"error\": 45, \"time-step\": 279}, {\"error\": 51, \"time-step\": 280}, {\"error\": 45, \"time-step\": 281}, {\"error\": 49, \"time-step\": 282}, {\"error\": 45, \"time-step\": 283}, {\"error\": 45, \"time-step\": 284}, {\"error\": 51, \"time-step\": 285}, {\"error\": 47, \"time-step\": 286}, {\"error\": 31, \"time-step\": 287}, {\"error\": 49, \"time-step\": 288}, {\"error\": 45, \"time-step\": 289}, {\"error\": 43, \"time-step\": 290}, {\"error\": 49, \"time-step\": 291}, {\"error\": 31, \"time-step\": 292}, {\"error\": 44, \"time-step\": 293}, {\"error\": 31, \"time-step\": 294}, {\"error\": 33, \"time-step\": 295}, {\"error\": 49, \"time-step\": 296}, {\"error\": 49, \"time-step\": 297}, {\"error\": 51, \"time-step\": 298}, {\"error\": 47, \"time-step\": 299}, {\"error\": 44, \"time-step\": 300}, {\"error\": 33, \"time-step\": 301}, {\"error\": 49, \"time-step\": 302}, {\"error\": 49, \"time-step\": 303}, {\"error\": 49, \"time-step\": 304}, {\"error\": 42, \"time-step\": 305}, {\"error\": 43, \"time-step\": 306}, {\"error\": 43, \"time-step\": 307}, {\"error\": 42, \"time-step\": 308}, {\"error\": 43, \"time-step\": 309}, {\"error\": 42, \"time-step\": 310}, {\"error\": 43, \"time-step\": 311}, {\"error\": 42, \"time-step\": 312}, {\"error\": 43, \"time-step\": 313}, {\"error\": 43, \"time-step\": 314}, {\"error\": 42, \"time-step\": 315}, {\"error\": 43, \"time-step\": 316}, {\"error\": 42, \"time-step\": 317}, {\"error\": 43, \"time-step\": 318}, {\"error\": 42, \"time-step\": 319}, {\"error\": 43, \"time-step\": 320}, {\"error\": 42, \"time-step\": 321}, {\"error\": 43, \"time-step\": 322}, {\"error\": 43, \"time-step\": 323}, {\"error\": 42, \"time-step\": 324}, {\"error\": 43, \"time-step\": 325}, {\"error\": 42, \"time-step\": 326}, {\"error\": 43, \"time-step\": 327}, {\"error\": 42, \"time-step\": 328}, {\"error\": 43, \"time-step\": 329}, {\"error\": 43, \"time-step\": 330}, {\"error\": 42, \"time-step\": 331}, {\"error\": 43, \"time-step\": 332}, {\"error\": 42, \"time-step\": 333}, {\"error\": 43, \"time-step\": 334}, {\"error\": 42, \"time-step\": 335}, {\"error\": 43, \"time-step\": 336}, {\"error\": 42, \"time-step\": 337}, {\"error\": 43, \"time-step\": 338}, {\"error\": 43, \"time-step\": 339}, {\"error\": 42, \"time-step\": 340}, {\"error\": 43, \"time-step\": 341}, {\"error\": 42, \"time-step\": 342}, {\"error\": 43, \"time-step\": 343}, {\"error\": 42, \"time-step\": 344}, {\"error\": 42, \"time-step\": 345}, {\"error\": 42, \"time-step\": 346}, {\"error\": 40, \"time-step\": 347}, {\"error\": 40, \"time-step\": 348}, {\"error\": 40, \"time-step\": 349}, {\"error\": 40, \"time-step\": 350}, {\"error\": 42, \"time-step\": 351}, {\"error\": 42, \"time-step\": 352}, {\"error\": 40, \"time-step\": 353}, {\"error\": 40, \"time-step\": 354}, {\"error\": 40, \"time-step\": 355}, {\"error\": 40, \"time-step\": 356}, {\"error\": 42, \"time-step\": 357}, {\"error\": 44, \"time-step\": 358}, {\"error\": 33, \"time-step\": 359}, {\"error\": 40, \"time-step\": 360}, {\"error\": 40, \"time-step\": 361}, {\"error\": 40, \"time-step\": 362}, {\"error\": 42, \"time-step\": 363}, {\"error\": 44, \"time-step\": 364}, {\"error\": 33, \"time-step\": 365}, {\"error\": 40, \"time-step\": 366}, {\"error\": 40, \"time-step\": 367}, {\"error\": 40, \"time-step\": 368}, {\"error\": 42, \"time-step\": 369}, {\"error\": 44, \"time-step\": 370}, {\"error\": 33, \"time-step\": 371}, {\"error\": 40, \"time-step\": 372}, {\"error\": 40, \"time-step\": 373}, {\"error\": 40, \"time-step\": 374}, {\"error\": 42, \"time-step\": 375}, {\"error\": 44, \"time-step\": 376}, {\"error\": 49, \"time-step\": 377}, {\"error\": 42, \"time-step\": 378}, {\"error\": 44, \"time-step\": 379}, {\"error\": 51, \"time-step\": 380}, {\"error\": 44, \"time-step\": 381}, {\"error\": 49, \"time-step\": 382}, {\"error\": 42, \"time-step\": 383}, {\"error\": 44, \"time-step\": 384}, {\"error\": 49, \"time-step\": 385}, {\"error\": 42, \"time-step\": 386}, {\"error\": 42, \"time-step\": 387}, {\"error\": 42, \"time-step\": 388}, {\"error\": 42, \"time-step\": 389}, {\"error\": 49, \"time-step\": 390}, {\"error\": 42, \"time-step\": 391}, {\"error\": 42, \"time-step\": 392}, {\"error\": 51, \"time-step\": 393}, {\"error\": 42, \"time-step\": 394}, {\"error\": 49, \"time-step\": 395}, {\"error\": 51, \"time-step\": 396}, {\"error\": 42, \"time-step\": 397}, {\"error\": 51, \"time-step\": 398}, {\"error\": 42, \"time-step\": 399}, {\"error\": 49, \"time-step\": 400}, {\"error\": 51, \"time-step\": 401}, {\"error\": 42, \"time-step\": 402}, {\"error\": 49, \"time-step\": 403}, {\"error\": 51, \"time-step\": 404}, {\"error\": 42, \"time-step\": 405}, {\"error\": 51, \"time-step\": 406}, {\"error\": 42, \"time-step\": 407}, {\"error\": 49, \"time-step\": 408}, {\"error\": 49, \"time-step\": 409}, {\"error\": 49, \"time-step\": 410}, {\"error\": 49, \"time-step\": 411}, {\"error\": 49, \"time-step\": 412}, {\"error\": 49, \"time-step\": 413}, {\"error\": 49, \"time-step\": 414}, {\"error\": 49, \"time-step\": 415}, {\"error\": 49, \"time-step\": 416}, {\"error\": 49, \"time-step\": 417}, {\"error\": 49, \"time-step\": 418}, {\"error\": 49, \"time-step\": 419}, {\"error\": 49, \"time-step\": 420}, {\"error\": 49, \"time-step\": 421}, {\"error\": 49, \"time-step\": 422}, {\"error\": 49, \"time-step\": 423}, {\"error\": 49, \"time-step\": 424}, {\"error\": 49, \"time-step\": 425}, {\"error\": 49, \"time-step\": 426}, {\"error\": 49, \"time-step\": 427}, {\"error\": 49, \"time-step\": 428}, {\"error\": 49, \"time-step\": 429}, {\"error\": 49, \"time-step\": 430}, {\"error\": 49, \"time-step\": 431}, {\"error\": 49, \"time-step\": 432}, {\"error\": 49, \"time-step\": 433}, {\"error\": 49, \"time-step\": 434}, {\"error\": 49, \"time-step\": 435}, {\"error\": 49, \"time-step\": 436}, {\"error\": 49, \"time-step\": 437}, {\"error\": 42, \"time-step\": 438}, {\"error\": 44, \"time-step\": 439}, {\"error\": 44, \"time-step\": 440}, {\"error\": 44, \"time-step\": 441}, {\"error\": 40, \"time-step\": 442}, {\"error\": 49, \"time-step\": 443}, {\"error\": 49, \"time-step\": 444}, {\"error\": 49, \"time-step\": 445}, {\"error\": 49, \"time-step\": 446}, {\"error\": 42, \"time-step\": 447}, {\"error\": 44, \"time-step\": 448}, {\"error\": 44, \"time-step\": 449}, {\"error\": 44, \"time-step\": 450}, {\"error\": 44, \"time-step\": 451}, {\"error\": 42, \"time-step\": 452}, {\"error\": 40, \"time-step\": 453}, {\"error\": 44, \"time-step\": 454}, {\"error\": 44, \"time-step\": 455}, {\"error\": 44, \"time-step\": 456}, {\"error\": 44, \"time-step\": 457}, {\"error\": 42, \"time-step\": 458}, {\"error\": 44, \"time-step\": 459}, {\"error\": 44, \"time-step\": 460}, {\"error\": 44, \"time-step\": 461}, {\"error\": 44, \"time-step\": 462}, {\"error\": 42, \"time-step\": 463}, {\"error\": 44, \"time-step\": 464}, {\"error\": 44, \"time-step\": 465}, {\"error\": 44, \"time-step\": 466}, {\"error\": 40, \"time-step\": 467}, {\"error\": 37, \"time-step\": 468}, {\"error\": 44, \"time-step\": 469}, {\"error\": 44, \"time-step\": 470}, {\"error\": 44, \"time-step\": 471}, {\"error\": 40, \"time-step\": 472}, {\"error\": 37, \"time-step\": 473}, {\"error\": 42, \"time-step\": 474}, {\"error\": 44, \"time-step\": 475}, {\"error\": 42, \"time-step\": 476}, {\"error\": 44, \"time-step\": 477}, {\"error\": 44, \"time-step\": 478}, {\"error\": 44, \"time-step\": 479}, {\"error\": 40, \"time-step\": 480}, {\"error\": 37, \"time-step\": 481}, {\"error\": 42, \"time-step\": 482}, {\"error\": 44, \"time-step\": 483}, {\"error\": 42, \"time-step\": 484}, {\"error\": 44, \"time-step\": 485}, {\"error\": 44, \"time-step\": 486}, {\"error\": 40, \"time-step\": 487}, {\"error\": 44, \"time-step\": 488}, {\"error\": 42, \"time-step\": 489}, {\"error\": 42, \"time-step\": 490}, {\"error\": 44, \"time-step\": 491}, {\"error\": 42, \"time-step\": 492}, {\"error\": 44, \"time-step\": 493}, {\"error\": 40, \"time-step\": 494}, {\"error\": 44, \"time-step\": 495}, {\"error\": 42, \"time-step\": 496}, {\"error\": 42, \"time-step\": 497}, {\"error\": 44, \"time-step\": 498}, {\"error\": 42, \"time-step\": 499}, {\"error\": 44, \"time-step\": 500}, {\"error\": 40, \"time-step\": 501}, {\"error\": 40, \"time-step\": 502}, {\"error\": 42, \"time-step\": 503}, {\"error\": 44, \"time-step\": 504}, {\"error\": 40, \"time-step\": 505}, {\"error\": 40, \"time-step\": 506}, {\"error\": 42, \"time-step\": 507}, {\"error\": 44, \"time-step\": 508}, {\"error\": 40, \"time-step\": 509}, {\"error\": 44, \"time-step\": 510}, {\"error\": 44, \"time-step\": 511}, {\"error\": 40, \"time-step\": 512}, {\"error\": 40, \"time-step\": 513}, {\"error\": 44, \"time-step\": 514}, {\"error\": 42, \"time-step\": 515}, {\"error\": 51, \"time-step\": 516}, {\"error\": 42, \"time-step\": 517}, {\"error\": 42, \"time-step\": 518}, {\"error\": 51, \"time-step\": 519}, {\"error\": 42, \"time-step\": 520}, {\"error\": 42, \"time-step\": 521}, {\"error\": 51, \"time-step\": 522}, {\"error\": 40, \"time-step\": 523}, {\"error\": 51, \"time-step\": 524}, {\"error\": 40, \"time-step\": 525}, {\"error\": 40, \"time-step\": 526}, {\"error\": 42, \"time-step\": 527}, {\"error\": 51, \"time-step\": 528}, {\"error\": 40, \"time-step\": 529}, {\"error\": 51, \"time-step\": 530}, {\"error\": 40, \"time-step\": 531}, {\"error\": 44, \"time-step\": 532}, {\"error\": 40, \"time-step\": 533}, {\"error\": 38, \"time-step\": 534}, {\"error\": 42, \"time-step\": 535}, {\"error\": 44, \"time-step\": 536}, {\"error\": 40, \"time-step\": 537}, {\"error\": 38, \"time-step\": 538}, {\"error\": 42, \"time-step\": 539}, {\"error\": 44, \"time-step\": 540}, {\"error\": 40, \"time-step\": 541}, {\"error\": 38, \"time-step\": 542}, {\"error\": 42, \"time-step\": 543}, {\"error\": 44, \"time-step\": 544}, {\"error\": 40, \"time-step\": 545}, {\"error\": 38, \"time-step\": 546}, {\"error\": 42, \"time-step\": 547}, {\"error\": 44, \"time-step\": 548}, {\"error\": 38, \"time-step\": 549}, {\"error\": 42, \"time-step\": 550}, {\"error\": 38, \"time-step\": 551}, {\"error\": 42, \"time-step\": 552}, {\"error\": 38, \"time-step\": 553}, {\"error\": 42, \"time-step\": 554}, {\"error\": 42, \"time-step\": 555}, {\"error\": 38, \"time-step\": 556}, {\"error\": 42, \"time-step\": 557}, {\"error\": 38, \"time-step\": 558}, {\"error\": 42, \"time-step\": 559}, {\"error\": 38, \"time-step\": 560}, {\"error\": 42, \"time-step\": 561}, {\"error\": 42, \"time-step\": 562}, {\"error\": 38, \"time-step\": 563}, {\"error\": 42, \"time-step\": 564}, {\"error\": 42, \"time-step\": 565}, {\"error\": 38, \"time-step\": 566}, {\"error\": 42, \"time-step\": 567}, {\"error\": 42, \"time-step\": 568}, {\"error\": 38, \"time-step\": 569}, {\"error\": 42, \"time-step\": 570}, {\"error\": 42, \"time-step\": 571}, {\"error\": 38, \"time-step\": 572}, {\"error\": 42, \"time-step\": 573}, {\"error\": 38, \"time-step\": 574}, {\"error\": 40, \"time-step\": 575}, {\"error\": 38, \"time-step\": 576}, {\"error\": 38, \"time-step\": 577}, {\"error\": 38, \"time-step\": 578}, {\"error\": 38, \"time-step\": 579}, {\"error\": 42, \"time-step\": 580}, {\"error\": 38, \"time-step\": 581}, {\"error\": 40, \"time-step\": 582}, {\"error\": 38, \"time-step\": 583}, {\"error\": 38, \"time-step\": 584}, {\"error\": 38, \"time-step\": 585}, {\"error\": 38, \"time-step\": 586}, {\"error\": 38, \"time-step\": 587}, {\"error\": 38, \"time-step\": 588}, {\"error\": 38, \"time-step\": 589}, {\"error\": 38, \"time-step\": 590}, {\"error\": 38, \"time-step\": 591}, {\"error\": 38, \"time-step\": 592}, {\"error\": 38, \"time-step\": 593}, {\"error\": 38, \"time-step\": 594}, {\"error\": 40, \"time-step\": 595}, {\"error\": 38, \"time-step\": 596}, {\"error\": 38, \"time-step\": 597}, {\"error\": 40, \"time-step\": 598}, {\"error\": 38, \"time-step\": 599}, {\"error\": 38, \"time-step\": 600}, {\"error\": 40, \"time-step\": 601}, {\"error\": 38, \"time-step\": 602}, {\"error\": 38, \"time-step\": 603}, {\"error\": 40, \"time-step\": 604}, {\"error\": 38, \"time-step\": 605}, {\"error\": 40, \"time-step\": 606}, {\"error\": 41, \"time-step\": 607}, {\"error\": 37, \"time-step\": 608}, {\"error\": 40, \"time-step\": 609}, {\"error\": 41, \"time-step\": 610}, {\"error\": 37, \"time-step\": 611}, {\"error\": 40, \"time-step\": 612}, {\"error\": 41, \"time-step\": 613}, {\"error\": 38, \"time-step\": 614}, {\"error\": 38, \"time-step\": 615}, {\"error\": 38, \"time-step\": 616}, {\"error\": 29, \"time-step\": 617}, {\"error\": 40, \"time-step\": 618}, {\"error\": 38, \"time-step\": 619}, {\"error\": 38, \"time-step\": 620}, {\"error\": 38, \"time-step\": 621}, {\"error\": 31, \"time-step\": 622}, {\"error\": 31, \"time-step\": 623}, {\"error\": 31, \"time-step\": 624}, {\"error\": 31, \"time-step\": 625}, {\"error\": 31, \"time-step\": 626}, {\"error\": 31, \"time-step\": 627}, {\"error\": 31, \"time-step\": 628}, {\"error\": 31, \"time-step\": 629}, {\"error\": 31, \"time-step\": 630}, {\"error\": 31, \"time-step\": 631}, {\"error\": 31, \"time-step\": 632}, {\"error\": 31, \"time-step\": 633}, {\"error\": 26, \"time-step\": 634}, {\"error\": 40, \"time-step\": 635}, {\"error\": 38, \"time-step\": 636}, {\"error\": 41, \"time-step\": 637}, {\"error\": 38, \"time-step\": 638}, {\"error\": 38, \"time-step\": 639}, {\"error\": 38, \"time-step\": 640}, {\"error\": 38, \"time-step\": 641}, {\"error\": 41, \"time-step\": 642}, {\"error\": 38, \"time-step\": 643}, {\"error\": 38, \"time-step\": 644}, {\"error\": 38, \"time-step\": 645}, {\"error\": 38, \"time-step\": 646}, {\"error\": 38, \"time-step\": 647}, {\"error\": 41, \"time-step\": 648}, {\"error\": 38, \"time-step\": 649}, {\"error\": 38, \"time-step\": 650}, {\"error\": 38, \"time-step\": 651}, {\"error\": 38, \"time-step\": 652}, {\"error\": 41, \"time-step\": 653}, {\"error\": 38, \"time-step\": 654}, {\"error\": 41, \"time-step\": 655}, {\"error\": 38, \"time-step\": 656}, {\"error\": 41, \"time-step\": 657}, {\"error\": 38, \"time-step\": 658}, {\"error\": 41, \"time-step\": 659}, {\"error\": 38, \"time-step\": 660}, {\"error\": 38, \"time-step\": 661}, {\"error\": 41, \"time-step\": 662}, {\"error\": 38, \"time-step\": 663}, {\"error\": 41, \"time-step\": 664}, {\"error\": 38, \"time-step\": 665}, {\"error\": 41, \"time-step\": 666}, {\"error\": 38, \"time-step\": 667}, {\"error\": 41, \"time-step\": 668}, {\"error\": 38, \"time-step\": 669}, {\"error\": 41, \"time-step\": 670}, {\"error\": 38, \"time-step\": 671}, {\"error\": 33, \"time-step\": 672}, {\"error\": 41, \"time-step\": 673}, {\"error\": 41, \"time-step\": 674}, {\"error\": 38, \"time-step\": 675}, {\"error\": 31, \"time-step\": 676}, {\"error\": 41, \"time-step\": 677}, {\"error\": 38, \"time-step\": 678}, {\"error\": 41, \"time-step\": 679}, {\"error\": 38, \"time-step\": 680}, {\"error\": 33, \"time-step\": 681}, {\"error\": 41, \"time-step\": 682}, {\"error\": 41, \"time-step\": 683}, {\"error\": 38, \"time-step\": 684}, {\"error\": 31, \"time-step\": 685}, {\"error\": 31, \"time-step\": 686}, {\"error\": 31, \"time-step\": 687}, {\"error\": 33, \"time-step\": 688}, {\"error\": 41, \"time-step\": 689}, {\"error\": 41, \"time-step\": 690}, {\"error\": 38, \"time-step\": 691}, {\"error\": 31, \"time-step\": 692}, {\"error\": 31, \"time-step\": 693}, {\"error\": 31, \"time-step\": 694}, {\"error\": 33, \"time-step\": 695}, {\"error\": 41, \"time-step\": 696}, {\"error\": 41, \"time-step\": 697}, {\"error\": 38, \"time-step\": 698}, {\"error\": 31, \"time-step\": 699}, {\"error\": 31, \"time-step\": 700}, {\"error\": 31, \"time-step\": 701}, {\"error\": 33, \"time-step\": 702}, {\"error\": 41, \"time-step\": 703}, {\"error\": 41, \"time-step\": 704}, {\"error\": 38, \"time-step\": 705}, {\"error\": 31, \"time-step\": 706}, {\"error\": 31, \"time-step\": 707}, {\"error\": 31, \"time-step\": 708}, {\"error\": 33, \"time-step\": 709}, {\"error\": 37, \"time-step\": 710}, {\"error\": 28, \"time-step\": 711}, {\"error\": 36, \"time-step\": 712}, {\"error\": 37, \"time-step\": 713}, {\"error\": 28, \"time-step\": 714}, {\"error\": 36, \"time-step\": 715}, {\"error\": 37, \"time-step\": 716}, {\"error\": 28, \"time-step\": 717}, {\"error\": 40, \"time-step\": 718}, {\"error\": 41, \"time-step\": 719}, {\"error\": 36, \"time-step\": 720}, {\"error\": 41, \"time-step\": 721}, {\"error\": 42, \"time-step\": 722}, {\"error\": 41, \"time-step\": 723}, {\"error\": 37, \"time-step\": 724}, {\"error\": 34, \"time-step\": 725}, {\"error\": 31, \"time-step\": 726}, {\"error\": 33, \"time-step\": 727}, {\"error\": 37, \"time-step\": 728}, {\"error\": 28, \"time-step\": 729}, {\"error\": 37, \"time-step\": 730}, {\"error\": 34, \"time-step\": 731}, {\"error\": 31, \"time-step\": 732}, {\"error\": 31, \"time-step\": 733}, {\"error\": 31, \"time-step\": 734}, {\"error\": 31, \"time-step\": 735}, {\"error\": 33, \"time-step\": 736}, {\"error\": 37, \"time-step\": 737}, {\"error\": 28, \"time-step\": 738}, {\"error\": 37, \"time-step\": 739}, {\"error\": 34, \"time-step\": 740}, {\"error\": 31, \"time-step\": 741}, {\"error\": 31, \"time-step\": 742}, {\"error\": 31, \"time-step\": 743}, {\"error\": 33, \"time-step\": 744}, {\"error\": 37, \"time-step\": 745}, {\"error\": 28, \"time-step\": 746}, {\"error\": 37, \"time-step\": 747}, {\"error\": 34, \"time-step\": 748}, {\"error\": 31, \"time-step\": 749}, {\"error\": 31, \"time-step\": 750}, {\"error\": 31, \"time-step\": 751}, {\"error\": 33, \"time-step\": 752}, {\"error\": 37, \"time-step\": 753}, {\"error\": 28, \"time-step\": 754}, {\"error\": 37, \"time-step\": 755}, {\"error\": 34, \"time-step\": 756}, {\"error\": 31, \"time-step\": 757}, {\"error\": 31, \"time-step\": 758}, {\"error\": 31, \"time-step\": 759}, {\"error\": 31, \"time-step\": 760}, {\"error\": 33, \"time-step\": 761}, {\"error\": 37, \"time-step\": 762}, {\"error\": 30, \"time-step\": 763}, {\"error\": 31, \"time-step\": 764}, {\"error\": 40, \"time-step\": 765}, {\"error\": 30, \"time-step\": 766}, {\"error\": 31, \"time-step\": 767}, {\"error\": 29, \"time-step\": 768}, {\"error\": 29, \"time-step\": 769}, {\"error\": 32, \"time-step\": 770}, {\"error\": 31, \"time-step\": 771}, {\"error\": 31, \"time-step\": 772}, {\"error\": 33, \"time-step\": 773}, {\"error\": 37, \"time-step\": 774}, {\"error\": 30, \"time-step\": 775}, {\"error\": 31, \"time-step\": 776}, {\"error\": 40, \"time-step\": 777}, {\"error\": 30, \"time-step\": 778}, {\"error\": 31, \"time-step\": 779}, {\"error\": 29, \"time-step\": 780}, {\"error\": 29, \"time-step\": 781}, {\"error\": 32, \"time-step\": 782}, {\"error\": 31, \"time-step\": 783}, {\"error\": 31, \"time-step\": 784}, {\"error\": 37, \"time-step\": 785}, {\"error\": 37, \"time-step\": 786}, {\"error\": 31, \"time-step\": 787}, {\"error\": 29, \"time-step\": 788}, {\"error\": 32, \"time-step\": 789}, {\"error\": 31, \"time-step\": 790}, {\"error\": 37, \"time-step\": 791}, {\"error\": 35, \"time-step\": 792}, {\"error\": 41, \"time-step\": 793}, {\"error\": 35, \"time-step\": 794}, {\"error\": 41, \"time-step\": 795}, {\"error\": 35, \"time-step\": 796}, {\"error\": 41, \"time-step\": 797}, {\"error\": 41, \"time-step\": 798}, {\"error\": 35, \"time-step\": 799}, {\"error\": 41, \"time-step\": 800}, {\"error\": 35, \"time-step\": 801}, {\"error\": 41, \"time-step\": 802}, {\"error\": 41, \"time-step\": 803}, {\"error\": 35, \"time-step\": 804}, {\"error\": 41, \"time-step\": 805}, {\"error\": 35, \"time-step\": 806}, {\"error\": 41, \"time-step\": 807}, {\"error\": 41, \"time-step\": 808}, {\"error\": 35, \"time-step\": 809}, {\"error\": 41, \"time-step\": 810}, {\"error\": 35, \"time-step\": 811}, {\"error\": 41, \"time-step\": 812}, {\"error\": 41, \"time-step\": 813}, {\"error\": 35, \"time-step\": 814}, {\"error\": 41, \"time-step\": 815}, {\"error\": 35, \"time-step\": 816}, {\"error\": 41, \"time-step\": 817}, {\"error\": 41, \"time-step\": 818}, {\"error\": 35, \"time-step\": 819}, {\"error\": 41, \"time-step\": 820}, {\"error\": 35, \"time-step\": 821}, {\"error\": 29, \"time-step\": 822}, {\"error\": 29, \"time-step\": 823}, {\"error\": 29, \"time-step\": 824}, {\"error\": 31, \"time-step\": 825}, {\"error\": 29, \"time-step\": 826}, {\"error\": 30, \"time-step\": 827}, {\"error\": 29, \"time-step\": 828}, {\"error\": 30, \"time-step\": 829}, {\"error\": 29, \"time-step\": 830}, {\"error\": 30, \"time-step\": 831}, {\"error\": 29, \"time-step\": 832}, {\"error\": 30, \"time-step\": 833}, {\"error\": 29, \"time-step\": 834}, {\"error\": 30, \"time-step\": 835}, {\"error\": 29, \"time-step\": 836}, {\"error\": 30, \"time-step\": 837}, {\"error\": 29, \"time-step\": 838}, {\"error\": 30, \"time-step\": 839}, {\"error\": 29, \"time-step\": 840}, {\"error\": 30, \"time-step\": 841}, {\"error\": 29, \"time-step\": 842}, {\"error\": 30, \"time-step\": 843}, {\"error\": 29, \"time-step\": 844}, {\"error\": 30, \"time-step\": 845}, {\"error\": 29, \"time-step\": 846}, {\"error\": 30, \"time-step\": 847}, {\"error\": 31, \"time-step\": 848}, {\"error\": 29, \"time-step\": 849}, {\"error\": 29, \"time-step\": 850}, {\"error\": 31, \"time-step\": 851}, {\"error\": 31, \"time-step\": 852}, {\"error\": 29, \"time-step\": 853}, {\"error\": 29, \"time-step\": 854}, {\"error\": 31, \"time-step\": 855}, {\"error\": 31, \"time-step\": 856}, {\"error\": 29, \"time-step\": 857}, {\"error\": 29, \"time-step\": 858}, {\"error\": 29, \"time-step\": 859}, {\"error\": 31, \"time-step\": 860}, {\"error\": 29, \"time-step\": 861}, {\"error\": 30, \"time-step\": 862}, {\"error\": 29, \"time-step\": 863}, {\"error\": 30, \"time-step\": 864}, {\"error\": 29, \"time-step\": 865}, {\"error\": 30, \"time-step\": 866}, {\"error\": 29, \"time-step\": 867}, {\"error\": 30, \"time-step\": 868}, {\"error\": 29, \"time-step\": 869}, {\"error\": 30, \"time-step\": 870}, {\"error\": 29, \"time-step\": 871}, {\"error\": 30, \"time-step\": 872}, {\"error\": 29, \"time-step\": 873}, {\"error\": 30, \"time-step\": 874}, {\"error\": 29, \"time-step\": 875}, {\"error\": 30, \"time-step\": 876}, {\"error\": 29, \"time-step\": 877}, {\"error\": 30, \"time-step\": 878}, {\"error\": 31, \"time-step\": 879}, {\"error\": 29, \"time-step\": 880}, {\"error\": 29, \"time-step\": 881}, {\"error\": 31, \"time-step\": 882}, {\"error\": 31, \"time-step\": 883}, {\"error\": 29, \"time-step\": 884}, {\"error\": 29, \"time-step\": 885}, {\"error\": 31, \"time-step\": 886}, {\"error\": 31, \"time-step\": 887}, {\"error\": 29, \"time-step\": 888}, {\"error\": 29, \"time-step\": 889}, {\"error\": 31, \"time-step\": 890}, {\"error\": 31, \"time-step\": 891}, {\"error\": 29, \"time-step\": 892}, {\"error\": 29, \"time-step\": 893}, {\"error\": 31, \"time-step\": 894}, {\"error\": 31, \"time-step\": 895}, {\"error\": 40, \"time-step\": 896}, {\"error\": 26, \"time-step\": 897}, {\"error\": 28, \"time-step\": 898}, {\"error\": 26, \"time-step\": 899}, {\"error\": 28, \"time-step\": 900}, {\"error\": 26, \"time-step\": 901}, {\"error\": 28, \"time-step\": 902}, {\"error\": 26, \"time-step\": 903}, {\"error\": 28, \"time-step\": 904}, {\"error\": 26, \"time-step\": 905}, {\"error\": 28, \"time-step\": 906}, {\"error\": 26, \"time-step\": 907}, {\"error\": 28, \"time-step\": 908}, {\"error\": 26, \"time-step\": 909}, {\"error\": 28, \"time-step\": 910}, {\"error\": 26, \"time-step\": 911}, {\"error\": 28, \"time-step\": 912}, {\"error\": 26, \"time-step\": 913}, {\"error\": 28, \"time-step\": 914}, {\"error\": 26, \"time-step\": 915}, {\"error\": 28, \"time-step\": 916}, {\"error\": 26, \"time-step\": 917}, {\"error\": 28, \"time-step\": 918}, {\"error\": 26, \"time-step\": 919}, {\"error\": 28, \"time-step\": 920}, {\"error\": 26, \"time-step\": 921}, {\"error\": 28, \"time-step\": 922}, {\"error\": 26, \"time-step\": 923}, {\"error\": 28, \"time-step\": 924}, {\"error\": 26, \"time-step\": 925}, {\"error\": 28, \"time-step\": 926}, {\"error\": 26, \"time-step\": 927}, {\"error\": 28, \"time-step\": 928}, {\"error\": 26, \"time-step\": 929}, {\"error\": 28, \"time-step\": 930}, {\"error\": 26, \"time-step\": 931}, {\"error\": 28, \"time-step\": 932}, {\"error\": 26, \"time-step\": 933}, {\"error\": 28, \"time-step\": 934}, {\"error\": 26, \"time-step\": 935}, {\"error\": 28, \"time-step\": 936}, {\"error\": 26, \"time-step\": 937}, {\"error\": 28, \"time-step\": 938}, {\"error\": 26, \"time-step\": 939}, {\"error\": 28, \"time-step\": 940}, {\"error\": 26, \"time-step\": 941}, {\"error\": 28, \"time-step\": 942}, {\"error\": 26, \"time-step\": 943}, {\"error\": 28, \"time-step\": 944}, {\"error\": 26, \"time-step\": 945}, {\"error\": 28, \"time-step\": 946}, {\"error\": 26, \"time-step\": 947}, {\"error\": 28, \"time-step\": 948}, {\"error\": 26, \"time-step\": 949}, {\"error\": 28, \"time-step\": 950}, {\"error\": 28, \"time-step\": 951}, {\"error\": 41, \"time-step\": 952}, {\"error\": 41, \"time-step\": 953}, {\"error\": 41, \"time-step\": 954}, {\"error\": 41, \"time-step\": 955}, {\"error\": 41, \"time-step\": 956}, {\"error\": 41, \"time-step\": 957}, {\"error\": 41, \"time-step\": 958}, {\"error\": 41, \"time-step\": 959}, {\"error\": 41, \"time-step\": 960}, {\"error\": 41, \"time-step\": 961}, {\"error\": 41, \"time-step\": 962}, {\"error\": 41, \"time-step\": 963}, {\"error\": 41, \"time-step\": 964}, {\"error\": 41, \"time-step\": 965}, {\"error\": 41, \"time-step\": 966}, {\"error\": 41, \"time-step\": 967}, {\"error\": 41, \"time-step\": 968}, {\"error\": 41, \"time-step\": 969}, {\"error\": 41, \"time-step\": 970}, {\"error\": 41, \"time-step\": 971}, {\"error\": 41, \"time-step\": 972}, {\"error\": 41, \"time-step\": 973}, {\"error\": 41, \"time-step\": 974}, {\"error\": 41, \"time-step\": 975}, {\"error\": 41, \"time-step\": 976}, {\"error\": 41, \"time-step\": 977}, {\"error\": 41, \"time-step\": 978}, {\"error\": 41, \"time-step\": 979}, {\"error\": 41, \"time-step\": 980}, {\"error\": 41, \"time-step\": 981}, {\"error\": 41, \"time-step\": 982}, {\"error\": 41, \"time-step\": 983}, {\"error\": 41, \"time-step\": 984}, {\"error\": 41, \"time-step\": 985}, {\"error\": 41, \"time-step\": 986}, {\"error\": 41, \"time-step\": 987}, {\"error\": 41, \"time-step\": 988}, {\"error\": 41, \"time-step\": 989}, {\"error\": 41, \"time-step\": 990}, {\"error\": 41, \"time-step\": 991}, {\"error\": 41, \"time-step\": 992}, {\"error\": 41, \"time-step\": 993}, {\"error\": 41, \"time-step\": 994}, {\"error\": 41, \"time-step\": 995}, {\"error\": 41, \"time-step\": 996}, {\"error\": 41, \"time-step\": 997}, {\"error\": 41, \"time-step\": 998}, {\"error\": 28, \"time-step\": 999}]}}, {\"mode\": \"vega-lite\"});\n",
       "</script>"
      ],
      "text/plain": [
       "alt.Chart(...)"
      ]
     },
     "execution_count": 25,
     "metadata": {},
     "output_type": "execute_result"
    }
   ],
   "source": [
    "error_df = pd.DataFrame({'error':errors, 'time-step': np.arange(0, len(errors))})\n",
    "alt.Chart(error_df).mark_line().encode(\n",
    "    x=\"time-step\", y=\"error\"\n",
    ").properties(\n",
    "    title='Chart 4'\n",
    ")"
   ]
  },
  {
   "cell_type": "markdown",
   "metadata": {},
   "source": [
    "### Perceptron limitations summary"
   ]
  },
  {
   "cell_type": "markdown",
   "metadata": {},
   "source": [
    "The linear separability constrain is for sure the most notable limitation of the perceptron. Yet, there are a couple of additional issues to be mentioned:\n",
    "\n",
    "- the use of threshold units. Threshold units describe a step-function. If you are familiar with calculus, you may know that the derivative of a step-functions is either 0 or infinity. That characteristic does not allow for the use of derivatives to adjust the weights of the network, that as it was proven later, is a better way to train very large networks than the error-correction perceptron procedure.\n",
    "- the use of linear functions to aggreate inputs. Strictly linear functions limit the scope of the network to linear decision boundaries. If you remember the XOR problem, a non-linear decision boundary could solve the problem, but such boundary can't be learned with the perceptron."
   ]
  },
  {
   "cell_type": "markdown",
   "metadata": {},
   "source": [
    "### Why adding multiple layers of processing units does not work"
   ]
  },
  {
   "cell_type": "markdown",
   "metadata": {},
   "source": [
    "Finally, I want to briefly address a question that you may have asked yourself: \"What about stacking multiple layers of perceptrons, maybe that helps with the limitations. We just tried with a single-layer so far!\". The short answer is it does not help. \n",
    "\n",
    "Imagine you have two linear functions defined as:\n",
    "\n",
    "$$\n",
    "\\psi(x)=wx+b\n",
    "$$\n",
    "\n",
    "$$\n",
    "\\omega(x)=wx+b\n",
    "$$\n",
    "\n",
    "A perceptron with multiple units equals to *compose* those functions by nesting $\\omega$ inside $\\psi$:\n",
    "\n",
    "$$\n",
    "\\omega(\\psi(x))=wx+b\n",
    "$$\n",
    "\n",
    "Now, the output of the composed function is still a linear function. You can repeat this function composition as many times as you want, and the output of the last function will be a linear function again. In essence, this is why we don't cover this type of composition with perceptrons: a single layer perceptron is as powerful as any multilayer perceptron, no matter how many layers we add."
   ]
  },
  {
   "cell_type": "markdown",
   "metadata": {},
   "source": [
    "## Conclusions"
   ]
  },
  {
   "cell_type": "markdown",
   "metadata": {},
   "source": [
    "With the perceptron, Rosenblatt introduced several elements that would prove foundational for the field of neural network models of cognition. Among them, the introduction of an error-correction training algorithm and updatable real-valued weights were arguably the most important. These would open the door to the creation of *self-organizing computing systems*, able to solve a wide variety of classification problems, instead of ad-hoc and handcrafted architectures as the McCulloch-Pitts model. \n",
    "\n",
    "The early enthusiasm surrounding the perceptron would fade fast by both the lack of significant progress during the 60s and the famous Minsky and Papert critique. The so-called linear separability constrain was the product of the kind of mathematical objects that Rosenballt chose for his model: linear functions and step-functions. It is important to remember this because those never were the core of Rosenblatt's idea, but a technical limitation based on the available knowledge that neural network researchers had at the time. The crux of Rosenblatt's idea was to design a self-organizing system serving as a ***model brain and cognitive function***. In Rosenblatt own words:\n",
    "\n",
    "> \"A perceptron is first and foremost a ***brain model, not an invention for pattern recognition***. As a brain model, its utility is in enabling us to determine the physical conditions for the emergence of various psychological properties. It is by no means a \"complete\" model, and we are fully aware of the simplifications which have been made from biological systems; but it is, at least, an analyzable model.\" (p. viii; bold and italics added by me)\n",
    "\n",
    "This is not to say that the perceptron could not be used as a pattern recognition device, but such capacity was just a byproduct of the fact that the brain has such capacity, and the perceptron is a -very simplified and incomplete- model of brain function. The fact that the perceptron has been analyzed and criticized as a pattern recognition device says more about the ignorance of the critics about Roseblatt's original work than about Rosenblatt's real intentions. "
   ]
  },
  {
   "cell_type": "markdown",
   "metadata": {},
   "source": [
    "## References"
   ]
  },
  {
   "cell_type": "markdown",
   "metadata": {},
   "source": [
    "- Bishop, C. M. (1995). Neural networks for pattern recognition. Oxford university press.\n",
    "- Hebb, D. O. (1949). The organization of behavior: A neuropsychological theory. Psychology Press.\n",
    "- Rojas, R. (2013). Neural networks: A systematic introduction. Springer Science & Business Media.\n",
    "- Rosenblatt, F. (1958). The perceptron: a probabilistic model for information storage and organization in the brain. Psychological review, 65(6), 386.\n",
    "- Rosenblatt, F. (1961). Principles of neurodynamics: Perceptrons and the theory of brain mechanisms. Cornell Aeronautical Lab Inc Buffalo NY.\n",
    "\n",
    "**For code implementation:** \n",
    "\n",
    "The perceptron code is partially based on:\n",
    "- Raschka, S. (2015). Python machine learning. Packt Publishing Ltd.\n"
   ]
  }
 ],
 "metadata": {
  "kernelspec": {
   "display_name": "Python 3",
   "language": "python",
   "name": "python3"
  },
  "language_info": {
   "codemirror_mode": {
    "name": "ipython",
    "version": 3
   },
   "file_extension": ".py",
   "mimetype": "text/x-python",
   "name": "python",
   "nbconvert_exporter": "python",
   "pygments_lexer": "ipython3",
   "version": "3.7.6"
  }
 },
 "nbformat": 4,
 "nbformat_minor": 4
}
