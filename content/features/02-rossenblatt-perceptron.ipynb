{
 "cells": [
  {
   "cell_type": "markdown",
   "metadata": {},
   "source": [
    "# The Perceptron"
   ]
  },
  {
   "cell_type": "markdown",
   "metadata": {},
   "source": [
    "\n",
    "\n",
    "Frank Rosenblatt proposed the 'perceptron' algorithm as a way to formalize several ideas about knowledge representation and cognition in the mid 20th century (Rossenblatt, 1958). He wanted to approach two fundamental questions: \n",
    "\n",
    "* **In what form is information stored or remembered?** \n",
    "* **How does the information contained in storage, or in memory, influence recognition and behavior?**\n",
    "\n",
    "According to Rossenblat, there were two distinct approaches to answer such questions: the **code theorist** and the **empiricist/connectionist theorist**. **Code theorist** proposed that sensory information is in the form of *coded representations* or images, with some sort of one-to-one mapping between the sensory stimulus and the stored pattern. On the other hand, **empiricist/connectionist theorist**, inspired by how biological systems actually work, proposed that the central nervous system acts as an intricate *switching network*, where information takes the form of new connections or pathways between centers of activity. In other words, accoding to empiricist/connectionist theorist, there is no simple one-to-one mapping from stimulus into memory, i.e., *the information or knowledge is contained in the connections or associations between neurons*, rather than as static blueprints to be compared with incoming sensory stimulus. \n",
    "\n",
    "Rosenblatt, inspired by the work of empiricist/connectionist theorist like Hebb, Hayek, and others, wanted to express these ideas more formally and rigorously in order to be tested computationally. Some key ideas guiding Rosenblatt reasoning where: \n",
    "\n",
    "* The physical connections in the brain involved in learning and recognition vary from organism to organism\n",
    "* Plasticity is a key feature of the nervous system, such that changes in response to experience\n",
    "* Rewards and punishments can increase or decrease the probability of certain connections reacting to similar stimulus\n",
    "\n",
    "Therefore, information is understood as a dynamic ever-changing pattern of connectivity among neurons in the brain, which are subject to the influence of experience and the environment of the organism. As such, no two brains are the same, and the way in which your brain and may brain storage information about the same fact may be very completely different. \n",
    "\n",
    "The perceptron is a formal mathematical manifestation of these ideas. In essence, a **single-layer perceptron** is a system that: \n",
    "\n",
    "* Takes and input through the sensory system (e.g., the retina)\n",
    "* Combines the values of the inputs with the weights of the connections between the neurons\n",
    "* Produce an output in an all-or-nothing fashion belonging to a class of objects (mathematically, as a step-function). \n",
    "\n",
    "Next, we formally define a perceptron and implement the algorithm in code. "
   ]
  },
  {
   "cell_type": "markdown",
   "metadata": {},
   "source": [
    "## Formal definition of the perceptron algorithm"
   ]
  },
  {
   "cell_type": "markdown",
   "metadata": {},
   "source": [
    "Mathematically, the perceptron is a simple **linear classifier** defined by two formulas\n",
    "* a **decision or threshold function**\n",
    "* a **training or learning rule**"
   ]
  },
  {
   "cell_type": "markdown",
   "metadata": {},
   "source": [
    "### Decision function"
   ]
  },
  {
   "cell_type": "markdown",
   "metadata": {},
   "source": [
    "The **decision or threshold function** for the perceptron is defined as:  \n",
    "\n",
    "\n",
    "$$  f(z) =\n",
    "\\begin{cases}\n",
    "+1,  & \\text{if $w$ $\\cdot$ $x$ + $b$ > 0} \\\\\n",
    "-1, & \\text{otherwise}\n",
    "\\end{cases}\n",
    "$$\n",
    "\n",
    "where:  \n",
    "- ${z}$ is a vector of reald-valued features  \n",
    "- $w$ is a vector of real-valued weights  \n",
    "- $w \\cdot x$ is a inner product   \n",
    "- $b$ is the bias term  \n",
    "\n",
    "**Note about the bias term**: we add a bias term to allow the model to adjust the intercept of the line on the plane. Otherwise, the line would be forced to go through the origin in the cartesian plane (in the 2-Dimensional case), which might hinder the ability of the model to find the best line. "
   ]
  },
  {
   "cell_type": "markdown",
   "metadata": {},
   "source": [
    "To compute the **net-input** for the decision function, we need to compute the inner product (or dot product) of the feature vector and the weigths vector. The inner product is defined as: \n",
    "\n",
    "\\begin{equation*}\n",
    "z = \\sum_{k=1}^n w_k x_k = w_0 x_0 + w_1 x_1 + ... + w_n x_n\n",
    "\\end{equation*}\n"
   ]
  },
  {
   "cell_type": "markdown",
   "metadata": {},
   "source": [
    "### Learning rule"
   ]
  },
  {
   "cell_type": "markdown",
   "metadata": {},
   "source": [
    "The perceptron learning rule is simple: compute the mistmatch between the **predicted value** for a given exemplar its **actual value**, and then use such delta to update the value the weights vector. This is defined as:\n",
    "\n",
    "\\begin{equation*}\n",
    "w_k = w_k + \\Delta w_k\n",
    "\\end{equation*}\n",
    "\n",
    "The $\\Delta w_k$ is computed as:\n",
    "\n",
    "\\begin{equation*}\n",
    "\\Delta w_k = \\eta(y^i - \\hat{y}^i)x^i_k\n",
    "\\end{equation*}\n",
    "\n",
    "where:\n",
    "- $\\eta$ is the learning rate (0 -1 value)\n",
    "- $y^i$ is the actual value (\"true class\")\n",
    "- $\\hat{y}^i$ is the predicted value (\"predicted class\")\n",
    "- $x^i_k$ is the feature vector for case $k$\n",
    "\n",
    "**Note about the learning rate $\\eta$**: the learning rate has the role of facilitating the training process by weighting the delta used to update the weights. This basically means that instead of completely replacing the previous weight with the sum of the weight + delta, we incorporate a **proportion** of the error into the updating process. This makes the learning process more stable and smooth. "
   ]
  },
  {
   "cell_type": "markdown",
   "metadata": {},
   "source": [
    "## Perceptron algorithm implementation"
   ]
  },
  {
   "cell_type": "markdown",
   "metadata": {},
   "source": [
    "We will implement the perceptron algorithm from scrath with Python and Numpy (a Python package for scientific computing). The goal is to understand the perceptron step-by-step execution rather than achieving an elegant implementation. I'll break down each step into functions to ensemble everything at the end. \n",
    "\n",
    "The scikit-learn implementation can be found [here](https://scikit-learn.org/stable/modules/generated/sklearn.linear_model.Perceptron.html). In general, we don't want to re-implemented algorithms that has been thouroughly tested by others, to avoid duplication of work an potential bugs in our code. \n"
   ]
  },
  {
   "cell_type": "markdown",
   "metadata": {},
   "source": [
    "### Generate random weights vector"
   ]
  },
  {
   "cell_type": "code",
   "execution_count": 1,
   "metadata": {},
   "outputs": [],
   "source": [
    "import numpy as np\n",
    "\n",
    "def random_weights(X, random_state: int):\n",
    "    '''create vector of random weights\n",
    "    Parameters\n",
    "    ----------\n",
    "    X: 2-dimensional array, shape = [n_samples, n_features]\n",
    "    Returns\n",
    "    -------\n",
    "    w: array, shape = [w_bias + n_features]'''\n",
    "    rand = np.random.RandomState(random_state)\n",
    "    w = rand.normal(loc=0.0, scale=0.01, size=1 + X.shape[1])\n",
    "    return w"
   ]
  },
  {
   "cell_type": "markdown",
   "metadata": {},
   "source": [
    "Predictions from the percetron are obtained by a linear combination of features and weights. It is common practice to begin with a vector of small random weights that would be updated later by the perceptron learning rule."
   ]
  },
  {
   "cell_type": "markdown",
   "metadata": {},
   "source": [
    "### Compute net input"
   ]
  },
  {
   "cell_type": "code",
   "execution_count": 2,
   "metadata": {},
   "outputs": [],
   "source": [
    "def net_input(X, w):\n",
    "    '''Compute net input as dot product'''\n",
    "    return np.dot(X, w[1:]) + w[0]"
   ]
  },
  {
   "cell_type": "markdown",
   "metadata": {},
   "source": [
    "Here we pass the featue matrix and the previously generated vector of random weights to compute the inner product. Remember that we need to add an extra weight for the bias term at the begining of the vector (`w[0`)"
   ]
  },
  {
   "cell_type": "markdown",
   "metadata": {},
   "source": [
    "### Compute predictions"
   ]
  },
  {
   "cell_type": "code",
   "execution_count": 3,
   "metadata": {},
   "outputs": [],
   "source": [
    "def predict(X, w):\n",
    "    '''Return class label after unit step'''\n",
    "    return np.where(net_input(X, w) >= 0.0, 1, -1)"
   ]
  },
  {
   "cell_type": "markdown",
   "metadata": {},
   "source": [
    "This method implements the **threshold function** which takes the net-value of the inner product and outputs a 1 if the predicted value is >= 0, and -1 otherwise. "
   ]
  },
  {
   "cell_type": "markdown",
   "metadata": {},
   "source": [
    "### Training loop - Learning rule"
   ]
  },
  {
   "cell_type": "code",
   "execution_count": 4,
   "metadata": {},
   "outputs": [],
   "source": [
    "def fit(X, y, eta=0.001, n_iter=100):\n",
    "    '''loop over exemplars and update weights'''\n",
    "    errors = []\n",
    "    w = random_weights(X, random_state=1)\n",
    "    for exemplar in range(n_iter):\n",
    "        error = 0\n",
    "        for xi, target in zip(X, y):\n",
    "            delta = eta * (target - predict(xi, w))\n",
    "            w[1:] += delta * xi\n",
    "            w[0] += delta\n",
    "            error += int(delta != 0.0)\n",
    "        errors.append(error)\n",
    "    return w, errors"
   ]
  },
  {
   "cell_type": "markdown",
   "metadata": {},
   "source": [
    "Let's examine the fit method that implements the learning rule: \n",
    "\n",
    "* Create a vector of random weights by using the `random_weights` function with dimensionality equal to the number of columns in the feature matrix.\n",
    "* Loop over each row of the feature matrix with `for exemplar in range(n_iter)`\n",
    "* Compute the inner product between the feature vector for row $i$ and the weight vector by using the `predict(xi, w)` function\n",
    "* Compute the difference between the predicted value and the target value times the learning rate with `delta = eta * (target - predict(xi, w))`\n",
    "* Update the weights by `w[1:] += delta * xi` and `w[0] += delta`\n",
    "* We also save the errors for further plotting `errors.append(error)`"
   ]
  },
  {
   "cell_type": "markdown",
   "metadata": {},
   "source": [
    "## Testing the perceptron"
   ]
  },
  {
   "cell_type": "markdown",
   "metadata": {},
   "source": [
    "Next, we will test the implementation by creating a simple example: **classifying figures by their shape**. We'll create two type of figures: **tall-figures** and **wide-figures**. As the name suggest, the tall-figures are figures that are taller than wider, and the wider-figures are figures that are wider than taller. \n",
    "\n",
    "To accomplish this, we'll sample tall and wide figures at random from a normal distribution by using the following function:"
   ]
  },
  {
   "cell_type": "code",
   "execution_count": 5,
   "metadata": {},
   "outputs": [],
   "source": [
    "# Define function to create figures type\n",
    "def figure_type(mu1, sigma1, mu2, sigma2, n_samples, target, seed):\n",
    "    '''creates [n_sampes, 2] array\n",
    "    \n",
    "    Parameters\n",
    "    ----------\n",
    "    mu1, sigma1: int, shape = [n_samples, 2]\n",
    "        mean feature-1, standar-dev feature-1\n",
    "    mu2, sigma2: int, shape = [n_samples, 2]\n",
    "        mean feature-2, standar-dev feature-2\n",
    "    n_samples: int, shape= [n_samples, 1]\n",
    "        number of sample cases\n",
    "    target: int, shape = [1]\n",
    "        target value\n",
    "    seed: int\n",
    "        random seed for reproducibility\n",
    "    \n",
    "    Return\n",
    "    ------\n",
    "    X: ndim-array, shape = [n_samples, 2]\n",
    "        matrix of feature vectors\n",
    "    y: 1d-vector, shape = [n_samples, 1]\n",
    "        target vector\n",
    "    ------\n",
    "    X'''\n",
    "    rand = np.random.RandomState(seed)\n",
    "    f1 = rand.normal(mu1, sigma1, n_samples)\n",
    "    f2 = rand.normal(mu2, sigma2, n_samples)\n",
    "    X = np.array([f1, f2])\n",
    "    X = X.transpose()\n",
    "    y = np.full((n_samples), target)\n",
    "    return X, y"
   ]
  },
  {
   "cell_type": "code",
   "execution_count": 6,
   "metadata": {},
   "outputs": [
    {
     "name": "stdout",
     "output_type": "stream",
     "text": [
      "Feature matrix shape: (100, 2) \n",
      "target vector shape: (100,)\n",
      "Feature matrix: \n",
      "[[13.24869073  4.55287144]\n",
      " [ 8.77648717  6.2245077 ]\n",
      " [ 8.9436565   5.40349164]\n",
      " [ 7.85406276  5.59357852]] \n",
      "target vector: \n",
      "[1 1 1 1]\n"
     ]
    }
   ],
   "source": [
    "# create tall-figures matrix\n",
    "T, y_t = figure_type(10, 2, 5, 1, 100, 1, 1)\n",
    "nl = '\\n'\n",
    "print(f'Feature matrix shape: {T.shape} {nl}target vector shape: {y_t.shape}')\n",
    "print(f'Feature matrix: {nl}{T[0:4, :]} {nl}target vector: {nl}{y_t[0:4]}')"
   ]
  },
  {
   "cell_type": "code",
   "execution_count": 7,
   "metadata": {},
   "outputs": [
    {
     "name": "stdout",
     "output_type": "stream",
     "text": [
      "Feature matrix shape: (100, 2) \n",
      "target vector shape: (100,)\n",
      "Feature matrix: \n",
      "[[ 4.58324215 12.32304298]\n",
      " [ 4.94373317 10.7721561 ]\n",
      " [ 2.8638039   7.73373345]\n",
      " [ 6.64027081 10.86618511]] \n",
      "target vector: \n",
      "[-1 -1 -1 -1]\n"
     ]
    }
   ],
   "source": [
    "# create wide-figures matrix\n",
    "W, y_w = figure_type(5, 1, 10, 2, 100, -1, 2)\n",
    "nl = '\\n'\n",
    "print(f'Feature matrix shape: {W.shape} {nl}target vector shape: {y_w.shape}')\n",
    "print(f'Feature matrix: {nl}{W[0:4, :]} {nl}target vector: {nl}{y_w[0:4]}')"
   ]
  },
  {
   "cell_type": "markdown",
   "metadata": {},
   "source": [
    "To make this clearer, we can create a plot to visualize each figure"
   ]
  },
  {
   "cell_type": "code",
   "execution_count": 15,
   "metadata": {},
   "outputs": [
    {
     "data": {
      "image/png": "[encoded data removed]",
      "text/plain": [
       "<Figure size 432x288 with 1 Axes>"
      ]
     },
     "metadata": {
      "needs_background": "light"
     },
     "output_type": "display_data"
    }
   ],
   "source": [
    "import matplotlib.pyplot as plt\n",
    "plt.scatter(T[:, 1], T[:, 0], color='red', marker='o', label='tall-figures')\n",
    "plt.scatter(W[:, 1], W[:, 0], color='blue', marker='x', label='wide-figures')\n",
    "plt.xlabel('width')\n",
    "plt.ylabel('height')\n",
    "plt.legend(loc='upper right')\n",
    "plt.show()"
   ]
  },
  {
   "cell_type": "code",
   "execution_count": 9,
   "metadata": {},
   "outputs": [],
   "source": [
    "from sklearn.model_selection import train_test_split\n",
    "\n",
    "X = np.concatenate((T, W), axis=0)\n",
    "y = np.concatenate((y_t, y_w), axis=0)\n",
    "\n",
    "X_train, X_test, y_train, y_test = train_test_split(X, y, \n",
    "                                                    test_size=0.3,\n",
    "                                                    random_state=1,\n",
    "                                                    shuffle=True)"
   ]
  },
  {
   "cell_type": "code",
   "execution_count": 10,
   "metadata": {},
   "outputs": [
    {
     "name": "stdout",
     "output_type": "stream",
     "text": [
      "X_train.shape: (140, 2)\n",
      "y_train.shape: (140,)\n",
      "X_test.shape: (60, 2)\n",
      "y_test.shape: (60,)\n"
     ]
    }
   ],
   "source": [
    "print(f'X_train.shape: {X_train.shape}')\n",
    "print(f'y_train.shape: {y_train.shape}')\n",
    "print(f'X_test.shape: {X_test.shape}')\n",
    "print(f'y_test.shape: {y_test.shape}')"
   ]
  },
  {
   "cell_type": "code",
   "execution_count": 11,
   "metadata": {},
   "outputs": [
    {
     "name": "stdout",
     "output_type": "stream",
     "text": [
      "vector of weights: [ 0.01624345  0.84235904 -0.76528073]\n",
      "\n",
      "errors at each time step: [14, 6, 4, 2, 4, 2, 4, 2, 4, 2, 2, 4, 2, 4, 2, 2, 4, 2, 4, 2]\n",
      "\n",
      "predicted value for each case: [ 1  1  1 -1 -1 -1  1  1  1 -1  1  1  1  1 -1 -1 -1  1 -1  1  1  1  1  1\n",
      "  1 -1  1  1 -1  1  1 -1 -1 -1 -1  1 -1  1  1 -1 -1 -1 -1  1  1  1 -1  1\n",
      " -1 -1  1 -1 -1  1  1 -1 -1 -1 -1 -1]\n",
      "\n"
     ]
    }
   ],
   "source": [
    "# fit and predict values\n",
    "w, errors = fit(X_train, y_train, eta=0.01, n_iter=20 )\n",
    "y_pred = predict(X_test, w)\n",
    "nl = '\\n'\n",
    "print(f'vector of weights: {w}{nl}')\n",
    "print(f'errors at each time step: {errors}{nl}')\n",
    "print(f'predicted value for each case: {y_pred}{nl}')"
   ]
  },
  {
   "cell_type": "markdown",
   "metadata": {},
   "source": [
    "By printing the prediction error ar each time step we can see that the perceptron predicts each case correctly after 12 training cicles. Let's plot the errors to complement the analysis."
   ]
  },
  {
   "cell_type": "code",
   "execution_count": 12,
   "metadata": {},
   "outputs": [
    {
     "data": {
      "image/png": "[encoded data removed]",
      "text/plain": [
       "<Figure size 432x288 with 1 Axes>"
      ]
     },
     "metadata": {
      "needs_background": "light"
     },
     "output_type": "display_data"
    }
   ],
   "source": [
    "import matplotlib.pyplot as plt \n",
    "\n",
    "def plot_errors(errors):\n",
    "    step = np.arange(0, len(errors))\n",
    "    fig = plt.figure()\n",
    "    ax = plt.axes()\n",
    "    plt.xlabel('training-step')\n",
    "    plt.ylabel('error')\n",
    "    ax.plot(step, errors, marker='x')\n",
    "    return plt.show()\n",
    "\n",
    "plot_errors(errors)"
   ]
  },
  {
   "cell_type": "code",
   "execution_count": 13,
   "metadata": {},
   "outputs": [
    {
     "name": "stdout",
     "output_type": "stream",
     "text": [
      "Test set accuracy: 98.33%\n"
     ]
    }
   ],
   "source": [
    "num_correct_predictions = (y_pred == y_test).sum()\n",
    "accuracy = (num_correct_predictions / y_test.shape[0]) * 100\n",
    "print('Test set accuracy: %.2f%%' % accuracy)"
   ]
  },
  {
   "cell_type": "markdown",
   "metadata": {},
   "source": [
    "## The Linear Separability Constrain"
   ]
  },
  {
   "cell_type": "markdown",
   "metadata": {},
   "source": [
    "As we can see, the perceptron reach ~98% of classification accuracy very fast. Yet, it can't get to 100%. The reason is that perceptron, as linear model, only can perfectly solve 'linearly separable' problems. In the case of our figures dataset, there some small amount of overlap, a few figures that by pure chance are very similar in the 2-D plane of vertical-distance and horizontal-distance. Let's look at the graph again. "
   ]
  },
  {
   "cell_type": "code",
   "execution_count": 14,
   "metadata": {},
   "outputs": [
    {
     "data": {
      "image/png": "[encoded data removed]",
      "text/plain": [
       "<Figure size 432x288 with 1 Axes>"
      ]
     },
     "metadata": {
      "needs_background": "light"
     },
     "output_type": "display_data"
    }
   ],
   "source": [
    "import matplotlib.pyplot as plt\n",
    "plt.scatter(T[:, 1], T[:, 0], color='red', marker='o', label='tall-figures')\n",
    "plt.scatter(W[:, 1], W[:, 0], color='blue', marker='x', label='wide-figures')\n",
    "plt.xlabel('width')\n",
    "plt.ylabel('height')\n",
    "plt.legend(loc='upper right')\n",
    "plt.show()"
   ]
  },
  {
   "cell_type": "markdown",
   "metadata": {},
   "source": [
    "Near the coordinates (vertical=5, horizontal=5) there are a few data points that can't be separated by fitting a line to the plane because their are almost overlapping. If we create a data set where the data points are further separated, we could get a linear model like the perceptron to work and perfectly classify each instance, but those cases are very unusual and limit the scope of problems that can be approached. This limitation later had a huge impact in the use and research of artificial neural networks, particularly after 1969 when Minsky and Papert published their book 'Perceptrons', where they criticize and show the limitations of  Rosenblatt's work. Later on,  research in artificial neural networks would overcome such limitations by the integration of a combination of multiple layers of processing units, non-linear units, and the backpropagation algorithm. "
   ]
  },
  {
   "cell_type": "markdown",
   "metadata": {},
   "source": [
    "## References and Further Reading"
   ]
  },
  {
   "cell_type": "markdown",
   "metadata": {},
   "source": [
    "- Rosenblatt, F. (1958). The perceptron: a probabilistic model for information storage and organization in the brain. Psychological review, 65(6), 386.\n",
    "\n",
    "**For code implementation:** \n",
    "\n",
    "- Raschka, S. (2015). Python machine learning. Packt Publishing Ltd.\n"
   ]
  }
 ],
 "metadata": {
  "kernelspec": {
   "display_name": "Python 3",
   "language": "python",
   "name": "python3"
  },
  "language_info": {
   "codemirror_mode": {
    "name": "ipython",
    "version": 3
   },
   "file_extension": ".py",
   "mimetype": "text/x-python",
   "name": "python",
   "nbconvert_exporter": "python",
   "pygments_lexer": "ipython3",
   "version": "3.7.6"
  }
 },
 "nbformat": 4,
 "nbformat_minor": 4
}
